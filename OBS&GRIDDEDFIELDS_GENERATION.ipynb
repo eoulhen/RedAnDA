{
 "cells": [
  {
   "cell_type": "code",
   "execution_count": 1,
   "id": "fe47ee95",
   "metadata": {},
   "outputs": [],
   "source": [
    "import matplotlib \n",
    "matplotlib.rcParams.update({'font.size': 18})\n",
    "import numpy as np\n",
    "import netCDF4 as nc\n",
    "import matplotlib.pyplot as plt\n",
    "import gsw\n",
    "from datetime import datetime,date\n",
    "import os as os\n",
    "from matplotlib.gridspec import GridSpec\n",
    "from numpy.fft import fft,fft2,fftfreq\n",
    "# importig movie py libraries\n",
    "from scipy.interpolate import interp2d\n",
    "from sklearn.linear_model import LinearRegression\n",
    "from scipy import fftpack\n",
    "from tqdm import tqdm\n",
    "# analog data assimilation\n",
    "from scipy.stats import linregress,norm\n",
    "import dask as da\n",
    "import xarray as xar\n",
    "import glob as glob\n",
    "\n"
   ]
  },
  {
   "cell_type": "markdown",
   "id": "c514549b-18d5-480a-ab7e-951796e63bfb",
   "metadata": {
    "tags": []
   },
   "source": [
    "# LEARNING PERIOD GRIDDED DATA"
   ]
  },
  {
   "cell_type": "code",
   "execution_count": 6,
   "id": "a45cded1",
   "metadata": {},
   "outputs": [
    {
     "name": "stderr",
     "output_type": "stream",
     "text": [
      "/opt/linux/envs/envs/phyocean-2022.05/lib/python3.8/site-packages/xarray/core/indexing.py:1228: PerformanceWarning: Slicing with an out-of-order index is generating 19 times more chunks\n",
      "  return self.array[key]\n",
      "/opt/linux/envs/envs/phyocean-2022.05/lib/python3.8/site-packages/xarray/core/indexing.py:1228: PerformanceWarning: Slicing with an out-of-order index is generating 19 times more chunks\n",
      "  return self.array[key]\n",
      "/opt/linux/envs/envs/phyocean-2022.05/lib/python3.8/site-packages/xarray/core/indexing.py:1228: PerformanceWarning: Slicing with an out-of-order index is generating 19 times more chunks\n",
      "  return self.array[key]\n",
      "/opt/linux/envs/envs/phyocean-2022.05/lib/python3.8/site-packages/xarray/core/indexing.py:1228: PerformanceWarning: Slicing with an out-of-order index is generating 19 times more chunks\n",
      "  return self.array[key]\n"
     ]
    }
   ],
   "source": [
    "latmin,latmax,lonmin,lonmax=-25,25,120,180\n",
    "\n",
    "File=xar.load_dataset('fullpacific2.nc').sel(longitude=slice(120,290))\n",
    "\n",
    "res=3\n",
    "loninires=File.coords['longitude'].diff(dim='longitude').min().values\n",
    "\n",
    "\n",
    "loninimax=int(np.ceil(File.coords['longitude'].values.max()))\n",
    "loninimin=int(np.floor(File.coords['longitude'].values.min()))\n",
    "latinimax=int(np.ceil(File.coords['latitude'].values.max()))\n",
    "latinimin=int(np.floor(File.coords['latitude'].values.min()))\n",
    "\n",
    "\n",
    "\n",
    "bins=[x for x in np.linspace(latinimin-res*(latinimax-latinimin)%res,latinimax,(latinimax-(latinimin-res+(latinimax-latinimin)%res))//res+1)]\n",
    "\n",
    "\n",
    "\n",
    "\n",
    "\n",
    "Filebis=xar.open_mfdataset(glob.glob('/net/alpha/exports/sciences/data/LPO_ISAS/climref_ISAS17/ISAS17_DMFD_CLIM_ann_STD_*.nc',recursive=True)[:],parallel=True,decode_times=False ).squeeze()\n",
    "\n",
    "latmin,latmax,lonmin,lonmax=-25,25,120,180\n",
    "left_part=Filebis.sel({\"latitude\":slice(latmin,latmax),\"longitude\":slice(lonmin,lonmax)})\n",
    "\n",
    "latmin,latmax,lonmin,lonmax=-25,25,-180,-70\n",
    "\n",
    "right_part=Filebis.sel({\"latitude\":slice(latmin,latmax),\"longitude\":slice(lonmin,lonmax)})\n",
    "right_part['longitude']=right_part['longitude'].values+360\n",
    "\n",
    "\n",
    "\n",
    "\n",
    "\n",
    "File=File.merge(xar.concat([left_part,right_part],dim='longitude').interp_like(File))\n",
    "\n",
    "Region_coarse = File.coarsen(longitude=int(res/loninires),boundary=\"trim\",side='left').mean().groupby_bins(\"latitude\",bins).mean(dim='latitude').transpose(\"time\",\"depth\",\"latitude_bins\",\"longitude\")\n",
    "RC = Region_coarse.rename_dims({\"latitude_bins\":\"latitude\"}).rename_vars({\"latitude_bins\":\"latitude\"}).chunk({'time':Region_coarse.coords['time'].size,'latitude':Region_coarse.coords['latitude_bins'].size,'longitude':Region_coarse.coords['longitude'].size})\n",
    "\n",
    "JULTIME = (RC['time'].data.astype('datetime64[D]')-np.datetime64('1950-01-01')).astype('timedelta64[D]').astype('float64')\n",
    "\n",
    "RC = RC.assign({'time2':(JULTIME)})\n",
    "\n",
    "RC.coords['time2']=RC.coords['time']\n",
    "RC.coords['time']=JULTIME\n",
    "\n",
    "\n",
    "RC['latitude']=np.asanyarray([_.mid for _ in(RC['latitude'].values)])\n",
    "\n",
    "\n",
    "RC = RC.rename({'TPOT':'TEMP','TPOT_ERR':'TEMP_ERR'})\n",
    "\n",
    "\n",
    "\n",
    "\n",
    "RC = RC.merge(RC[['TEMP','PSAL']].groupby(\"time2.month\").mean().rename({'TEMP':'T_Climato','PSAL':'S_Climato'}))\n",
    "\n",
    "\n",
    "res2 = 9\n",
    "RC = RC.merge((RC[['TEMP','PSAL']].groupby('time2.month')-RC[['TEMP','PSAL']].groupby('time2.month').mean()).rolling({\"longitude\":res2//res,\"latitude\":res2//res},min_periods=2).mean(skipna=True).polyfit(deg=1,dim='time'))\n",
    "# RC = RC.merge(((RC['TEMP'].groupby('time2.month')-RC['T_Climato']).merge(RC['PSAL'].groupby('time2.month')-RC['S_Climato'])).rolling({\"longitude\":res2//res,\"latitude\":res2//res},min_periods=2).mean(skipna=True).polyfit(deg=1,dim='time'))\n",
    "\n",
    "# RC = RC.merge(((RC['TEMP'].groupby('time2.month')-RC['T_Climato'])-RC['TEMP_polyfit_coefficients'].sel(degree=0)-RC['time']*RC['TEMP_polyfit_coefficients'].sel(degree=1)).rename('TEMP_detrend')).merge(((RC['PSAL'].groupby('time2.month')-RC['S_Climato'])-RC['PSAL_polyfit_coefficients'].sel(degree=0)-RC['time']*RC['PSAL_polyfit_coefficients'].sel(degree=1)).rename('PSAL_detrend'))\n",
    "RC = RC.merge(((RC['TEMP'].groupby('time2.month')-RC['T_Climato'])).rename('TEMP_detrend')).merge(((RC['PSAL'].groupby('time2.month')-RC['S_Climato'])).rename('PSAL_detrend'))\n",
    "\n",
    "\n",
    "RC.to_netcdf('ISAS_TropicalPacific.nc','w')"
   ]
  },
  {
   "cell_type": "code",
   "execution_count": 175,
   "id": "bce2f265-a071-4a1f-9118-aa18399ba91f",
   "metadata": {},
   "outputs": [],
   "source": []
  },
  {
   "cell_type": "markdown",
   "id": "28e3f3ca-caa3-4806-bda5-1a4ad6d07ca3",
   "metadata": {
    "tags": []
   },
   "source": [
    "# THERMODYNAMICAL COMPONENTS OVER THE LEARNING PERIOD"
   ]
  },
  {
   "cell_type": "code",
   "execution_count": 2,
   "id": "2c9b4549-9fd2-4499-b109-94801933bf25",
   "metadata": {},
   "outputs": [
    {
     "ename": "NameError",
     "evalue": "name 'Alphabet' is not defined",
     "output_type": "error",
     "traceback": [
      "\u001b[0;31m---------------------------------------------------------------------------\u001b[0m",
      "\u001b[0;31mNameError\u001b[0m                                 Traceback (most recent call last)",
      "\u001b[0;32m/tmp/ipykernel_2501466/2129161680.py\u001b[0m in \u001b[0;36m<cell line: 3>\u001b[0;34m()\u001b[0m\n\u001b[1;32m      1\u001b[0m \u001b[0mRC\u001b[0m\u001b[0;34m=\u001b[0m\u001b[0mxar\u001b[0m\u001b[0;34m.\u001b[0m\u001b[0mopen_mfdataset\u001b[0m\u001b[0;34m(\u001b[0m\u001b[0;34m'GriddedMaps/RC_Pac_TPOT.nc'\u001b[0m\u001b[0;34m,\u001b[0m\u001b[0mparallel\u001b[0m\u001b[0;34m=\u001b[0m\u001b[0;32mTrue\u001b[0m\u001b[0;34m,\u001b[0m\u001b[0;34m)\u001b[0m\u001b[0;34m\u001b[0m\u001b[0;34m\u001b[0m\u001b[0m\n\u001b[1;32m      2\u001b[0m \u001b[0;34m\u001b[0m\u001b[0m\n\u001b[0;32m----> 3\u001b[0;31m \u001b[0mAlphabet_west\u001b[0m \u001b[0;34m=\u001b[0m \u001b[0mAlphabet\u001b[0m\u001b[0;34m.\u001b[0m\u001b[0msel\u001b[0m\u001b[0;34m(\u001b[0m\u001b[0mdepth\u001b[0m\u001b[0;34m=\u001b[0m\u001b[0;34m[\u001b[0m\u001b[0;36m5\u001b[0m\u001b[0;34m,\u001b[0m\u001b[0;36m10\u001b[0m\u001b[0;34m,\u001b[0m\u001b[0;36m50\u001b[0m\u001b[0;34m,\u001b[0m\u001b[0;36m100\u001b[0m\u001b[0;34m,\u001b[0m\u001b[0;36m200\u001b[0m\u001b[0;34m,\u001b[0m\u001b[0;36m300\u001b[0m\u001b[0;34m,\u001b[0m\u001b[0;36m400\u001b[0m\u001b[0;34m,\u001b[0m\u001b[0;36m500\u001b[0m\u001b[0;34m,\u001b[0m\u001b[0;36m700\u001b[0m\u001b[0;34m,\u001b[0m\u001b[0;36m1000\u001b[0m\u001b[0;34m,\u001b[0m\u001b[0;36m1500\u001b[0m\u001b[0;34m,\u001b[0m\u001b[0;36m2000\u001b[0m\u001b[0;34m]\u001b[0m\u001b[0;34m,\u001b[0m\u001b[0mmethod\u001b[0m\u001b[0;34m=\u001b[0m\u001b[0;34m'nearest'\u001b[0m\u001b[0;34m)\u001b[0m\u001b[0;34m.\u001b[0m\u001b[0msel\u001b[0m\u001b[0;34m(\u001b[0m\u001b[0;34m{\u001b[0m\u001b[0;34m\"latitude\"\u001b[0m\u001b[0;34m:\u001b[0m\u001b[0mslice\u001b[0m\u001b[0;34m(\u001b[0m\u001b[0mnp\u001b[0m\u001b[0;34m.\u001b[0m\u001b[0mmin\u001b[0m\u001b[0;34m(\u001b[0m\u001b[0mRC\u001b[0m\u001b[0;34m[\u001b[0m\u001b[0;34m'latitude'\u001b[0m\u001b[0;34m]\u001b[0m\u001b[0;34m)\u001b[0m\u001b[0;34m-\u001b[0m\u001b[0;36m1.5\u001b[0m\u001b[0;34m,\u001b[0m\u001b[0mnp\u001b[0m\u001b[0;34m.\u001b[0m\u001b[0mmax\u001b[0m\u001b[0;34m(\u001b[0m\u001b[0mRC\u001b[0m\u001b[0;34m[\u001b[0m\u001b[0;34m'latitude'\u001b[0m\u001b[0;34m]\u001b[0m\u001b[0;34m)\u001b[0m\u001b[0;34m+\u001b[0m\u001b[0;36m1.5\u001b[0m\u001b[0;34m)\u001b[0m\u001b[0;34m,\u001b[0m\u001b[0;34m\"longitude\"\u001b[0m\u001b[0;34m:\u001b[0m\u001b[0mslice\u001b[0m\u001b[0;34m(\u001b[0m\u001b[0mnp\u001b[0m\u001b[0;34m.\u001b[0m\u001b[0mmin\u001b[0m\u001b[0;34m(\u001b[0m\u001b[0mRC\u001b[0m\u001b[0;34m[\u001b[0m\u001b[0;34m'longitude'\u001b[0m\u001b[0;34m]\u001b[0m\u001b[0;34m)\u001b[0m\u001b[0;34m-\u001b[0m\u001b[0;36m1.5\u001b[0m\u001b[0;34m,\u001b[0m\u001b[0;36m180\u001b[0m\u001b[0;34m)\u001b[0m\u001b[0;34m}\u001b[0m\u001b[0;34m)\u001b[0m\u001b[0;34m\u001b[0m\u001b[0;34m\u001b[0m\u001b[0m\n\u001b[0m\u001b[1;32m      4\u001b[0m \u001b[0mAlphabet_east\u001b[0m \u001b[0;34m=\u001b[0m \u001b[0mAlphabet\u001b[0m\u001b[0;34m.\u001b[0m\u001b[0msel\u001b[0m\u001b[0;34m(\u001b[0m\u001b[0mdepth\u001b[0m\u001b[0;34m=\u001b[0m\u001b[0;34m[\u001b[0m\u001b[0;36m5\u001b[0m\u001b[0;34m,\u001b[0m\u001b[0;36m10\u001b[0m\u001b[0;34m,\u001b[0m\u001b[0;36m50\u001b[0m\u001b[0;34m,\u001b[0m\u001b[0;36m100\u001b[0m\u001b[0;34m,\u001b[0m\u001b[0;36m200\u001b[0m\u001b[0;34m,\u001b[0m\u001b[0;36m300\u001b[0m\u001b[0;34m,\u001b[0m\u001b[0;36m400\u001b[0m\u001b[0;34m,\u001b[0m\u001b[0;36m500\u001b[0m\u001b[0;34m,\u001b[0m\u001b[0;36m700\u001b[0m\u001b[0;34m,\u001b[0m\u001b[0;36m1000\u001b[0m\u001b[0;34m,\u001b[0m\u001b[0;36m1500\u001b[0m\u001b[0;34m,\u001b[0m\u001b[0;36m2000\u001b[0m\u001b[0;34m]\u001b[0m\u001b[0;34m,\u001b[0m\u001b[0mmethod\u001b[0m\u001b[0;34m=\u001b[0m\u001b[0;34m'nearest'\u001b[0m\u001b[0;34m)\u001b[0m\u001b[0;34m.\u001b[0m\u001b[0msel\u001b[0m\u001b[0;34m(\u001b[0m\u001b[0;34m{\u001b[0m\u001b[0;34m\"latitude\"\u001b[0m\u001b[0;34m:\u001b[0m\u001b[0mslice\u001b[0m\u001b[0;34m(\u001b[0m\u001b[0mnp\u001b[0m\u001b[0;34m.\u001b[0m\u001b[0mmin\u001b[0m\u001b[0;34m(\u001b[0m\u001b[0mRC\u001b[0m\u001b[0;34m[\u001b[0m\u001b[0;34m'latitude'\u001b[0m\u001b[0;34m]\u001b[0m\u001b[0;34m)\u001b[0m\u001b[0;34m-\u001b[0m\u001b[0;36m1.5\u001b[0m\u001b[0;34m,\u001b[0m\u001b[0mnp\u001b[0m\u001b[0;34m.\u001b[0m\u001b[0mmax\u001b[0m\u001b[0;34m(\u001b[0m\u001b[0mRC\u001b[0m\u001b[0;34m[\u001b[0m\u001b[0;34m'latitude'\u001b[0m\u001b[0;34m]\u001b[0m\u001b[0;34m)\u001b[0m\u001b[0;34m+\u001b[0m\u001b[0;36m1.5\u001b[0m\u001b[0;34m)\u001b[0m\u001b[0;34m,\u001b[0m\u001b[0;34m\"longitude\"\u001b[0m\u001b[0;34m:\u001b[0m\u001b[0mslice\u001b[0m\u001b[0;34m(\u001b[0m\u001b[0;34m-\u001b[0m\u001b[0;36m180\u001b[0m\u001b[0;34m,\u001b[0m\u001b[0mnp\u001b[0m\u001b[0;34m.\u001b[0m\u001b[0mmax\u001b[0m\u001b[0;34m(\u001b[0m\u001b[0mRC\u001b[0m\u001b[0;34m[\u001b[0m\u001b[0;34m'longitude'\u001b[0m\u001b[0;34m]\u001b[0m\u001b[0;34m)\u001b[0m\u001b[0;34m+\u001b[0m\u001b[0;36m1.5\u001b[0m\u001b[0;34m-\u001b[0m\u001b[0;36m360\u001b[0m\u001b[0;34m)\u001b[0m\u001b[0;34m}\u001b[0m\u001b[0;34m)\u001b[0m\u001b[0;34m\u001b[0m\u001b[0;34m\u001b[0m\u001b[0m\n\u001b[1;32m      5\u001b[0m \u001b[0mAlphabet_east\u001b[0m\u001b[0;34m=\u001b[0m\u001b[0mAlphabet_east\u001b[0m\u001b[0;34m.\u001b[0m\u001b[0massign_coords\u001b[0m\u001b[0;34m(\u001b[0m\u001b[0;34m{\u001b[0m\u001b[0;34m\"longitude\"\u001b[0m\u001b[0;34m:\u001b[0m\u001b[0mAlphabet_east\u001b[0m\u001b[0;34m[\u001b[0m\u001b[0;34m'longitude'\u001b[0m\u001b[0;34m]\u001b[0m\u001b[0;34m+\u001b[0m\u001b[0;36m360\u001b[0m\u001b[0;34m}\u001b[0m\u001b[0;34m)\u001b[0m\u001b[0;34m\u001b[0m\u001b[0;34m\u001b[0m\u001b[0m\n",
      "\u001b[0;31mNameError\u001b[0m: name 'Alphabet' is not defined"
     ]
    }
   ],
   "source": [
    "RC=xar.open_mfdataset('ISAS_TropicalPacific.nc',parallel=True,)\n",
    "Alphabet = xar.open_mfdataset(glob.glob('alpha_beta/ISAS20_ARGO_*.nc'))\n",
    "\n",
    "# Alphabet = Alphabet.sel(depth=[5,10,50,100,300,500,700,1000,1500,2000],method='nearest').sel({\"latitude\":slice(np.min(RC['latitude'])-1.5,np.max(RC['latitude'])+1.5),\"longitude\":slice(np.min(RC['longitude'])-1.5,np.max(RC['longitude'])+1.5)})\n",
    "Alphabet_west = Alphabet.sel(depth=[5,10,50,100,200,300,400,500,700,1000,1500,2000],method='nearest').sel({\"latitude\":slice(np.min(RC['latitude'])-1.5,np.max(RC['latitude'])+1.5),\"longitude\":slice(np.min(RC['longitude'])-1.5,180)})\n",
    "Alphabet_east = Alphabet.sel(depth=[5,10,50,100,200,300,400,500,700,1000,1500,2000],method='nearest').sel({\"latitude\":slice(np.min(RC['latitude'])-1.5,np.max(RC['latitude'])+1.5),\"longitude\":slice(-180,np.max(RC['longitude'])+1.5-360)})\n",
    "Alphabet_east=Alphabet_east.assign_coords({\"longitude\":Alphabet_east['longitude']+360})\n",
    "Alphabet = xar.concat((Alphabet_west,Alphabet_east),dim=\"longitude\")\n",
    "Alphabet =Alphabet.coarsen({'latitude':6,'longitude':6},'pad').mean().drop_isel(latitude=[17],)\n",
    "\n",
    "Alphabet.to_netcdf('ISAS_AlphaBetaCoeffs.nc')"
   ]
  },
  {
   "cell_type": "markdown",
   "id": "233a3f64-f679-4678-bcfc-051341a4251e",
   "metadata": {
    "tags": []
   },
   "source": [
    "# STANDARDIZATION OF THE OBSERVATIONS"
   ]
  },
  {
   "cell_type": "code",
   "execution_count": 45,
   "id": "0faa4179-1ebd-4519-be31-5eb10c868792",
   "metadata": {},
   "outputs": [
    {
     "name": "stdout",
     "output_type": "stream",
     "text": [
      "5\n",
      "10\n",
      "50\n",
      "100\n",
      "200\n",
      "300\n",
      "400\n",
      "500\n",
      "700\n",
      "1000\n",
      "1500\n",
      "2000\n"
     ]
    }
   ],
   "source": [
    "timemin=1930\n",
    "timemax=timemin+9\n",
    "ENtemp = xar.open_mfdataset('EN_OBS/ENtemp'+str(timemin)[-2:]+'Pacific.nc',parallel=True)\n",
    "\n",
    "switch = False \n",
    "for zepth in [5,10,50,100,200,300,400,500,700,1000,1500,2000]:\n",
    "    \n",
    "    if zepth == 2000:\n",
    "        bnd1,bnd2 = 1750,2250\n",
    "        \n",
    "    if zepth == 1500:\n",
    "        bnd1,bnd2 = 1250,1750\n",
    "        \n",
    "    if zepth == 1000:\n",
    "        bnd1,bnd2 = 850,1250\n",
    "    elif (zepth==700):\n",
    "        bnd1,bnd2 = 600,800\n",
    "    elif (zepth==500):\n",
    "        bnd1,bnd2 = 450,600\n",
    "    elif (zepth==400):\n",
    "        bnd1,bnd2 = 350,450\n",
    "    elif (zepth==300):\n",
    "        bnd1,bnd2 = 250,350\n",
    "    elif (zepth==200):\n",
    "        bnd1,bnd2 = 150,250\n",
    "    elif (zepth==100):\n",
    "        bnd1,bnd2 = 75,150\n",
    "    elif (zepth==50):\n",
    "        bnd1,bnd2 = 25,75\n",
    "    elif (zepth==10):\n",
    "        bnd1,bnd2 = 7,25\n",
    "    else:\n",
    "        bnd1,bnd2 = 0,7\n",
    "        \n",
    "    print(zepth)\n",
    "    \n",
    "    argumt=da.array.argmin(da.array.where(zepth-ENtemp['DEPH_CORRECTED'].fillna(1e5)>=0,zepth-ENtemp['DEPH_CORRECTED'].fillna(1e5),1e5),1).compute()\n",
    "    \n",
    "    born1=da.array.all(zepth-ENtemp['DEPH_CORRECTED'].ffill(dim='N_LEVELS').bfill(dim='N_LEVELS')<0,axis=1)\n",
    "    born2=da.array.all(zepth-ENtemp['DEPH_CORRECTED'].ffill(dim='N_LEVELS').bfill(dim='N_LEVELS')>0,axis=1)\n",
    "\n",
    "    Nprs = ENtemp.coords['N_PROF'].size\n",
    "    Nzz = ENtemp.coords['N_LEVELS'].size\n",
    "    \n",
    "    z0,z1=ENtemp['DEPH_CORRECTED'].data.vindex[np.linspace(0,Nprs-1,Nprs,dtype='int'),argumt],ENtemp['DEPH_CORRECTED'].data.vindex[np.linspace(0,Nprs-1,Nprs,dtype='int'),np.where((1+argumt)>Nzz-1,-1+Nzz,(1+argumt))]\n",
    "    # ENtemp['DEPH_CORRECTED'].data.vindex[np.linspace(0,Nprs-1,Nprs,dtype='int'),argumt],ENtemp['DEPH_CORRECTED'].data.vindex[np.linspace(0,Nprs-1,Nprs,dtype='int'),np.where((1+argumt)>399,399,(1+argumt))]\n",
    "    T0,T1=ENtemp['POTM'].where(ENtemp['POTM_CORRECTED_QC']==b'1').data.vindex[np.linspace(0,Nprs-1,Nprs,dtype='int'),argumt],ENtemp['POTM'].where(ENtemp['POTM_CORRECTED_QC']==b'1').data.vindex[np.linspace(0,Nprs-1,Nprs,dtype='int'),np.where((1+argumt)>Nzz-1,Nzz-1,(1+argumt))]\n",
    "\n",
    "    born3 = np.array([born1, born2, (z0 <bnd1), (z1>bnd2) ,(z0 > z1) ,(zepth<z0) ,(zepth>z1)]).any(axis=0)\n",
    "\n",
    "\n",
    "    #     born3 = (z0-z1>=zscl)\n",
    "    T0=np.where(born3,np.nan,T0)\n",
    "    T1=np.where(born3,np.nan,T1)\n",
    "    if switch : \n",
    "        ENewtemp = np.concatenate((ENewtemp,(np.array([T0,T1,np.empty_like(T0)])[np.nanargmin(np.abs(np.array([z0,z1,1e6*np.ones_like(T0)])-zepth),0),np.ix_(np.arange(0,Nprs,1))])),axis=0)\n",
    "        # QC_z = np.concatenate((QC_z,np.where(np.isnan(T0),np.nan,(np.where(z1-z0<=zscl,0,1)+np.where(zepth-z0<zscl,0,1)+np.where(z1-zepth,0,1)))[np.newaxis,:]),axis=0)\n",
    "    if not switch: \n",
    "        ENewtemp = np.array([T0,T1,np.empty_like(T0)])[np.nanargmin(np.abs(np.array([z0,z1,1e6*np.ones_like(T0)])-zepth),0),np.ix_(np.arange(0,Nprs,1))]\n",
    "        # QC_z = np.where(np.isnan(T0),np.nan,(np.where(z1-z0<=zscl,0,1)+np.where(zepth-z0<zscl,0,1)+np.where(z1-zepth,0,1)))[np.newaxis,:]\n",
    "        switch = True\n",
    "\n",
    "       #\n",
    "#      "
   ]
  },
  {
   "cell_type": "markdown",
   "id": "9548074a-7f84-43ac-a03e-7e5f29f3da33",
   "metadata": {
    "tags": []
   },
   "source": [
    "# FILTER OUT HIGH-FREQUENCY DATA AND CREATE SUPER-PROFILES"
   ]
  },
  {
   "cell_type": "code",
   "execution_count": 46,
   "id": "132d44b6-352e-4b51-bc67-4de926f6b1b6",
   "metadata": {},
   "outputs": [],
   "source": [
    "         \n",
    "ENtemp2 = xar.Dataset( \n",
    "        {\n",
    "            'POTM': (['depth','N_PROF'],ENewtemp),\n",
    "            # 'QC' : (['depth','N_PROF'],QC_z.compute())\n",
    "        },\n",
    "        coords = {\n",
    "            'JULD': (['N_PROF'],ENtemp['JULD'].values),\n",
    "            'LATITUDE': (['N_PROF'],ENtemp['LATITUDE'].values),\n",
    "            'LONGITUDE': (['N_PROF'],ENtemp['LONGITUDE'].values),\n",
    "            'Depth': (['depth'],np.array([5,10,50,100,200,300,400,500,700,1000,1500,2000])),\n",
    "            'PROJECT_NAME' : (['N_PROF'],ENtemp['PROJECT_NAME'].values),\n",
    "            'PLATFORM_NUMBER' : (['N_PROF'], ENtemp['PLATFORM_NUMBER'].values)\n",
    "        }\n",
    ")\n",
    "\n",
    "\n",
    "indexes = np.char.array(np.linspace(0,500,501,dtype='int').astype('str') ).zfill(3)\n",
    "\n",
    "platform50=[ENtemp2['PROJECT_NAME'].values[ind][5:8] for ind in range(0,ENtemp2['N_PROF'].size)]\n",
    "nameplatform = np.array(platform50)\n",
    "\n",
    "condit = xar.DataArray((nameplatform == b'MRB'),dims=['N_PROF'])#((ENtemp2['PROJECT_NAME'].str[:5]==b'GTSPP')&(ENtemp2['PLATFORM_NUMBER'].dropna('N_PROF').str[2:].str.strip().astype('str').isin(indexes)))^(ENtemp2['PROJECT_NAME'].str[5:8].isin(b'MRB'))^(ENtemp2['PROJECT_NAME'].str[5:8].isin(b'UOR'))\n",
    "\n",
    "moorObs = ENtemp2.where(condit,drop=True).reset_coords(['LATITUDE','LONGITUDE']).compute()\n",
    "\n",
    "labofmoor = np.unique(moorObs['PLATFORM_NUMBER'])\n",
    "\n",
    "timebins=np.arange(np.datetime64('20'+str(timemin)[-2:]+'-01-01'),np.datetime64('20'+str(timemax)[-2:]+'-12-31')+15,15)\n",
    "# timebins=np.arange(np.datetime64('19'+str(timemin)[-2:]+'-01-01'),np.datetime64('19'+str(timemax)[-2:]+'-12-31')+15,15)\n",
    "# timebins=np.arange(np.datetime64('1990-01-01'),np.datetime64('1999-12-31')+15,15)\n",
    "\n",
    "if labofmoor.size!=0:\n",
    "    moorObs2 = moorObs.where(moorObs['PLATFORM_NUMBER']==labofmoor[0],drop=True).groupby_bins(group='JULD',bins=timebins).mean(skipna=True).dropna('JULD_bins',how='all').rename_dims({'JULD_bins':'N_PROF'})\n",
    "    moorObs2 = moorObs2.assign_coords({'JULD_bins':(['N_PROF'],np.asanyarray([_.mid for _ in(moorObs2['JULD_bins'].values)]))})\n",
    "\n",
    "    ii=1\n",
    "    for label in labofmoor : \n",
    "        print(str(ii)+'/'+str(labofmoor.shape),end='\\r')\n",
    "        appendix=moorObs.where(moorObs['PLATFORM_NUMBER']==label,drop=True).groupby_bins(group='JULD',bins=timebins).mean(skipna=True).dropna('JULD_bins',how='all').rename_dims({'JULD_bins':'N_PROF'})\n",
    "        appendix = appendix.assign_coords({'JULD_bins':(['N_PROF'],np.asanyarray([_.mid for _ in(appendix['JULD_bins'].values)]))})\n",
    "\n",
    "        moorObs2 =xar.concat((moorObs2,appendix),dim='N_PROF')\n",
    "        ii+=1\n",
    "\n",
    "    \n",
    "    ENtemp3 = xar.concat((ENtemp2.where(~condit,drop=True).reset_coords(['LATITUDE','LONGITUDE']).drop(['PROJECT_NAME','PLATFORM_NUMBER']),moorObs2.rename({'JULD_bins':'JULD'})),dim='N_PROF')\n",
    "    \n",
    "else : \n",
    "    ENtemp3 =ENtemp2.where(~condit,drop=True).reset_coords(['LATITUDE','LONGITUDE']).drop(['PROJECT_NAME','PLATFORM_NUMBER'])\n",
    "    \n",
    "    \n",
    "    \n",
    "ENtemp3.to_netcdf('ENtemp_NoInterp'+str(timemin)[-2:]+'NoFMoorAdjusted.nc','w')\n",
    "ENtemp2.to_netcdf('ENtemp_NoInterp'+str(timemin)[-2:]+'Adjusted.nc','w')"
   ]
  },
  {
   "cell_type": "markdown",
   "id": "c2c2cd1d-e025-4cb1-b79f-33fa1c21352a",
   "metadata": {
    "tags": []
   },
   "source": [
    "# IDENTIFY TYPE OF INSTRUMENT AND AFFECTS IT AN ERROR"
   ]
  },
  {
   "cell_type": "code",
   "execution_count": 6,
   "id": "9b3990fc-34ad-4853-a897-4aa16462c75a",
   "metadata": {},
   "outputs": [],
   "source": [
    "def slicer(start=None, stop=None, step=1):\n",
    "    return np.vectorize(lambda x: x[start:stop:step], otypes=[bytes])\n"
   ]
  },
  {
   "cell_type": "code",
   "execution_count": 7,
   "id": "da95e473-8963-4a7b-8ccf-82539c1f85f2",
   "metadata": {},
   "outputs": [],
   "source": [
    "\n",
    "timemin=1930\n",
    "ENtemp = xar.open_mfdataset('EN_OBS/ENtemp_NoInterp'+str(timemin)[-2:]+'Adjusted.nc',parallel=True)\n",
    "\n",
    "platform30=(slicer(5, 8)(ENtemp['PROJECT_NAME'].values))\n",
    "# platform50=[ENtemp['PROJECT_NAME'].values[ind][5:8] for ind in range(0,ENtemp['N_PROF'].size)]"
   ]
  },
  {
   "cell_type": "code",
   "execution_count": 9,
   "id": "eee7b1c6-87c6-460b-8cef-cfa4b111cd2b",
   "metadata": {},
   "outputs": [],
   "source": [
    "\n",
    "timemin=1940\n",
    "ENtemp = xar.open_mfdataset('EN_OBS/ENtemp_NoInterp'+str(timemin)[-2:]+'Adjusted.nc',parallel=True)\n",
    "\n",
    "platform40=(slicer(5, 8)(ENtemp['PROJECT_NAME'].values))\n",
    "# platform50=[ENtemp['PROJECT_NAME'].values[ind][5:8] for ind in range(0,ENtemp['N_PROF'].size)]"
   ]
  },
  {
   "cell_type": "code",
   "execution_count": 10,
   "id": "d37eecd6-c871-479b-86ba-e421376ef16c",
   "metadata": {},
   "outputs": [],
   "source": [
    "\n",
    "timemin=1950\n",
    "ENtemp = xar.open_mfdataset('EN_OBS/ENtemp_NoInterp'+str(timemin)[-2:]+'Adjusted.nc',parallel=True)\n",
    "\n",
    "platform50=(slicer(5, 8)(ENtemp['PROJECT_NAME'].values))\n",
    "# platform50=[ENtemp['PROJECT_NAME'].values[ind][5:8] for ind in range(0,ENtemp['N_PROF'].size)]"
   ]
  },
  {
   "cell_type": "code",
   "execution_count": 11,
   "id": "42f455d5-914e-4f15-afa1-fabac42a6b19",
   "metadata": {},
   "outputs": [],
   "source": [
    "timemin=1960\n",
    "ENtemp = xar.open_mfdataset('EN_OBS/ENtemp_NoInterp'+str(timemin)[-2:]+'Adjusted.nc',parallel=True)\n",
    "\n",
    "platform60=(slicer(5, 8)(ENtemp['PROJECT_NAME'].values))\n",
    "# platform60=[ENtemp['PROJECT_NAME'].values[ind][5:8] for ind in range(0,ENtemp['N_PROF'].size)]"
   ]
  },
  {
   "cell_type": "code",
   "execution_count": 12,
   "id": "ce6c9a95-40e8-42a0-9eeb-d60c8f54d735",
   "metadata": {},
   "outputs": [],
   "source": [
    "timemin=1970\n",
    "ENtemp = xar.open_mfdataset('EN_OBS/ENtemp_NoInterp'+str(timemin)[-2:]+'Adjusted.nc',parallel=True)\n",
    "\n",
    "platform70=(slicer(5, 8)(ENtemp['PROJECT_NAME'].values))\n",
    "# platform70=[ENtemp['PROJECT_NAME'].values[ind][5:8] for ind in range(0,ENtemp['N_PROF'].size)]"
   ]
  },
  {
   "cell_type": "code",
   "execution_count": 13,
   "id": "285eeddb-57a6-4620-b833-e99b43025bdd",
   "metadata": {},
   "outputs": [],
   "source": [
    "timemin=1980\n",
    "ENtemp = xar.open_mfdataset('EN_OBS/ENtemp_NoInterp'+str(timemin)[-2:]+'Adjusted.nc',parallel=True)\n",
    "\n",
    "platform80=(slicer(5, 8)(ENtemp['PROJECT_NAME'].values))\n",
    "# platform80=[ENtemp['PROJECT_NAME'].values[ind][5:8] for ind in range(0,ENtemp['N_PROF'].size)]"
   ]
  },
  {
   "cell_type": "code",
   "execution_count": 14,
   "id": "0d2ed785-cdc8-4ca9-a8c4-89449bd74a91",
   "metadata": {},
   "outputs": [],
   "source": [
    "timemin=1990\n",
    "ENtemp = xar.open_mfdataset('EN_OBS/ENtemp_NoInterp'+str(timemin)[-2:]+'Adjusted.nc',parallel=True)\n",
    "# platform90=[ENtemp['PROJECT_NAME'].values[ind][5:8] for ind in range(0,ENtemp['N_PROF'].size)]\n",
    "platform90=(slicer(5, 8)(ENtemp['PROJECT_NAME'].values))    # => ['el' 'ow' 're' 'ou']"
   ]
  },
  {
   "cell_type": "code",
   "execution_count": 15,
   "id": "784bcb1f-f574-4852-9fd0-28508fbc5ed6",
   "metadata": {},
   "outputs": [],
   "source": [
    "timemin=2000\n",
    "ENtemp = xar.open_mfdataset('EN_OBS/ENtemp_NoInterp'+str(timemin)[-2:]+'Adjusted.nc',parallel=True)\n",
    "# platform90=[ENtemp['PROJECT_NAME'].values[ind][5:8] for ind in range(0,ENtemp['N_PROF'].size)]\n",
    "platform00=(slicer(5, 8)(ENtemp['PROJECT_NAME'].values))    # => ['el' 'ow' 're' 'ou']"
   ]
  },
  {
   "cell_type": "code",
   "execution_count": 123,
   "id": "74b8dbbb-df75-417d-95e7-4ace2f4bd522",
   "metadata": {},
   "outputs": [
    {
     "data": {
      "text/plain": [
       "array([b'OSD'], dtype='|S3')"
      ]
     },
     "execution_count": 123,
     "metadata": {},
     "output_type": "execute_result"
    }
   ],
   "source": [
    "np.unique(platform30)"
   ]
  },
  {
   "cell_type": "code",
   "execution_count": 124,
   "id": "55f84f3b-a9c1-4667-8f94-f72b51204070",
   "metadata": {},
   "outputs": [
    {
     "data": {
      "text/plain": [
       "array([b'MBT', b'OSD'], dtype='|S3')"
      ]
     },
     "execution_count": 124,
     "metadata": {},
     "output_type": "execute_result"
    }
   ],
   "source": [
    "np.unique(platform40)"
   ]
  },
  {
   "cell_type": "code",
   "execution_count": 125,
   "id": "06c04926-0773-455c-970a-543e5f326703",
   "metadata": {},
   "outputs": [
    {
     "data": {
      "text/plain": [
       "array([b'MBT', b'OSD'], dtype='|S3')"
      ]
     },
     "execution_count": 125,
     "metadata": {},
     "output_type": "execute_result"
    }
   ],
   "source": [
    "np.unique(platform50)"
   ]
  },
  {
   "cell_type": "code",
   "execution_count": 126,
   "id": "bc65f925-265f-498a-b248-3f537266feec",
   "metadata": {},
   "outputs": [
    {
     "data": {
      "text/plain": [
       "array([b'CTD', b'MBT', b'OSD', b'XBT'], dtype='|S3')"
      ]
     },
     "execution_count": 126,
     "metadata": {},
     "output_type": "execute_result"
    }
   ],
   "source": [
    "np.unique(platform60)"
   ]
  },
  {
   "cell_type": "code",
   "execution_count": 127,
   "id": "8d17375e-99d7-4ff6-9810-2d9972dbb415",
   "metadata": {},
   "outputs": [
    {
     "data": {
      "text/plain": [
       "array([b'CTD', b'MBT', b'MRB', b'OSD', b'XBT'], dtype='|S3')"
      ]
     },
     "execution_count": 127,
     "metadata": {},
     "output_type": "execute_result"
    }
   ],
   "source": [
    "np.unique(platform70)"
   ]
  },
  {
   "cell_type": "code",
   "execution_count": 128,
   "id": "b48251aa-3f36-4c68-8cf0-5de2a1536880",
   "metadata": {},
   "outputs": [
    {
     "data": {
      "text/plain": [
       "array([b'CTD', b'MBT', b'MRB', b'OSD', b'XBT'], dtype='|S3')"
      ]
     },
     "execution_count": 128,
     "metadata": {},
     "output_type": "execute_result"
    }
   ],
   "source": [
    "np.unique(platform80)"
   ]
  },
  {
   "cell_type": "code",
   "execution_count": 129,
   "id": "b47bfbee-ee32-4613-8d42-040b30bdab43",
   "metadata": {},
   "outputs": [
    {
     "data": {
      "text/plain": [
       "array([b'BA ', b'CT ', b'CTD', b'DRB', b'MBT', b'MRB', b'OSD', b'PF ',\n",
       "       b'PFL', b'TE ', b'TR ', b'UOR', b'XB ', b'XBT'], dtype='|S3')"
      ]
     },
     "execution_count": 129,
     "metadata": {},
     "output_type": "execute_result"
    }
   ],
   "source": [
    "np.unique(platform90)"
   ]
  },
  {
   "cell_type": "code",
   "execution_count": 130,
   "id": "d17718e2-761c-4343-9ec7-44a8633dc61d",
   "metadata": {},
   "outputs": [
    {
     "data": {
      "text/plain": [
       "array([b'   ', b'BA ', b'CTD', b'MBT', b'MRB', b'OSD', b'PF ', b'PFL',\n",
       "       b'TE ', b'TR ', b'XB ', b'XBT'], dtype='|S3')"
      ]
     },
     "execution_count": 130,
     "metadata": {},
     "output_type": "execute_result"
    }
   ],
   "source": [
    "np.unique(platform00)"
   ]
  },
  {
   "cell_type": "code",
   "execution_count": 16,
   "id": "c9843529-09cd-4c63-9e21-76f8ce3a8fa8",
   "metadata": {},
   "outputs": [],
   "source": [
    "def instrErr(x):\n",
    "    y = np.zeros(len(x))\n",
    "    y[(x==b'CTD')^(x==b'CT ')]+= 0.002\n",
    "    y[(x==b'XBT')^(x==b'XB ')]+= 0.15\n",
    "    y[(x==b'MBT')^(x==b'MRB')^(x==b'BA ')]+= .3\n",
    "    y[(x==b'PF ')^(x==b'PFL')]+=.005\n",
    "    y[(x==b'DRB')]+=.01\n",
    "    y[(x==b'UOR')]+=.01\n",
    "    y[y==0]+=.02\n",
    "    return y"
   ]
  },
  {
   "cell_type": "code",
   "execution_count": 297,
   "id": "6d1546c5-abdb-4449-8046-1831e1b678b1",
   "metadata": {},
   "outputs": [
    {
     "data": {
      "text/plain": [
       "(832703,)"
      ]
     },
     "execution_count": 297,
     "metadata": {},
     "output_type": "execute_result"
    }
   ],
   "source": [
    "test.shape"
   ]
  },
  {
   "cell_type": "code",
   "execution_count": 17,
   "id": "69fcfda3-fd22-48f7-928a-103d67b3bfa7",
   "metadata": {},
   "outputs": [],
   "source": [
    "nameplatform = np.concatenate((np.array(platform30),np.array(platform40),np.array(platform50),np.array(platform60),np.array(platform70),np.array(platform80),np.array(platform90),np.array(platform00)))\n",
    "test = np.concatenate((instrErr(np.array(platform30)),instrErr(np.array(platform40)),instrErr(np.array(platform50)),instrErr(np.array(platform60)),instrErr(np.array(platform70)),instrErr(np.array(platform80)),instrErr(np.array(platform90)),instrErr(np.array(platform00))))"
   ]
  },
  {
   "cell_type": "markdown",
   "id": "53cd73c1-85d1-4d95-8ae1-4869fbb6dcda",
   "metadata": {},
   "source": [
    "# SAVE INTRUMENT ERRORS"
   ]
  },
  {
   "cell_type": "code",
   "execution_count": 18,
   "id": "c08886f8-99df-49ee-915d-45e6a7681063",
   "metadata": {},
   "outputs": [],
   "source": [
    "xar.Dataset({'PLATFORM':(['N_PROF'],nameplatform),'Err':(['N_PROF'],test)}).to_netcdf('ENtemp_NoInterp_Err_moretime_Adjusted.nc')"
   ]
  },
  {
   "cell_type": "code",
   "execution_count": 19,
   "id": "c97e0097-5d92-496c-b48e-d73bff7cd91c",
   "metadata": {},
   "outputs": [],
   "source": [
    "\n",
    "ENtemp2 = xar.open_mfdataset(glob.glob('EN_OBS/ENtemp_NoInterp*0Adjusted.nc')[0])\n",
    "\n",
    "for i in range(0,7):\n",
    "    ENtemp2= xar.concat((ENtemp2,xar.open_mfdataset(glob.glob('EN_OBS/ENtemp_NoInterp*0Adjusted.nc')[1:][i])),'N_PROF')\n",
    "    "
   ]
  },
  {
   "cell_type": "markdown",
   "id": "f8c5cf7b-cbb2-4bdc-8341-bf3242e1228e",
   "metadata": {
    "tags": []
   },
   "source": [
    "# FILTER OUT HIGH-FREQUENCY DATA AND CREATE SUPER-PROFILES, THEN SAVE THE WHOLE HISTORAL SET OF TEMPERATURE OBSERVATIONS INTO ONE FILE"
   ]
  },
  {
   "cell_type": "code",
   "execution_count": 20,
   "id": "ead02e4d-c696-45c0-b3c6-541998597363",
   "metadata": {},
   "outputs": [
    {
     "name": "stdout",
     "output_type": "stream",
     "text": [
      "5/(8996,)\r"
     ]
    },
    {
     "ename": "ValueError",
     "evalue": "None of the data falls within bins with edges array(['1950-01-01', '1950-01-16', '1950-01-31', ..., '1999-12-10',\n       '1999-12-25', '2000-01-09'], dtype='datetime64[D]')",
     "output_type": "error",
     "traceback": [
      "\u001b[0;31m---------------------------------------------------------------------------\u001b[0m",
      "\u001b[0;31mValueError\u001b[0m                                Traceback (most recent call last)",
      "\u001b[0;32m/tmp/ipykernel_1647597/2002347050.py\u001b[0m in \u001b[0;36m<cell line: 15>\u001b[0;34m()\u001b[0m\n\u001b[1;32m     20\u001b[0m     \u001b[0;32mfor\u001b[0m \u001b[0mlabel\u001b[0m \u001b[0;32min\u001b[0m \u001b[0mlabofmoor\u001b[0m \u001b[0;34m:\u001b[0m\u001b[0;34m\u001b[0m\u001b[0;34m\u001b[0m\u001b[0m\n\u001b[1;32m     21\u001b[0m         \u001b[0mprint\u001b[0m\u001b[0;34m(\u001b[0m\u001b[0mstr\u001b[0m\u001b[0;34m(\u001b[0m\u001b[0mii\u001b[0m\u001b[0;34m)\u001b[0m\u001b[0;34m+\u001b[0m\u001b[0;34m'/'\u001b[0m\u001b[0;34m+\u001b[0m\u001b[0mstr\u001b[0m\u001b[0;34m(\u001b[0m\u001b[0mlabofmoor\u001b[0m\u001b[0;34m.\u001b[0m\u001b[0mshape\u001b[0m\u001b[0;34m)\u001b[0m\u001b[0;34m,\u001b[0m\u001b[0mend\u001b[0m\u001b[0;34m=\u001b[0m\u001b[0;34m'\\r'\u001b[0m\u001b[0;34m)\u001b[0m\u001b[0;34m\u001b[0m\u001b[0;34m\u001b[0m\u001b[0m\n\u001b[0;32m---> 22\u001b[0;31m         \u001b[0mappendix\u001b[0m\u001b[0;34m=\u001b[0m\u001b[0mmoorObs\u001b[0m\u001b[0;34m.\u001b[0m\u001b[0mwhere\u001b[0m\u001b[0;34m(\u001b[0m\u001b[0mmoorObs\u001b[0m\u001b[0;34m[\u001b[0m\u001b[0;34m'PLATFORM_NUMBER'\u001b[0m\u001b[0;34m]\u001b[0m\u001b[0;34m==\u001b[0m\u001b[0mlabel\u001b[0m\u001b[0;34m,\u001b[0m\u001b[0mdrop\u001b[0m\u001b[0;34m=\u001b[0m\u001b[0;32mTrue\u001b[0m\u001b[0;34m)\u001b[0m\u001b[0;34m.\u001b[0m\u001b[0mgroupby_bins\u001b[0m\u001b[0;34m(\u001b[0m\u001b[0mgroup\u001b[0m\u001b[0;34m=\u001b[0m\u001b[0;34m'JULD'\u001b[0m\u001b[0;34m,\u001b[0m\u001b[0mbins\u001b[0m\u001b[0;34m=\u001b[0m\u001b[0mtimebins\u001b[0m\u001b[0;34m)\u001b[0m\u001b[0;34m.\u001b[0m\u001b[0mmean\u001b[0m\u001b[0;34m(\u001b[0m\u001b[0mskipna\u001b[0m\u001b[0;34m=\u001b[0m\u001b[0;32mTrue\u001b[0m\u001b[0;34m)\u001b[0m\u001b[0;34m.\u001b[0m\u001b[0mdropna\u001b[0m\u001b[0;34m(\u001b[0m\u001b[0;34m'JULD_bins'\u001b[0m\u001b[0;34m,\u001b[0m\u001b[0mhow\u001b[0m\u001b[0;34m=\u001b[0m\u001b[0;34m'all'\u001b[0m\u001b[0;34m)\u001b[0m\u001b[0;34m.\u001b[0m\u001b[0mrename_dims\u001b[0m\u001b[0;34m(\u001b[0m\u001b[0;34m{\u001b[0m\u001b[0;34m'JULD_bins'\u001b[0m\u001b[0;34m:\u001b[0m\u001b[0;34m'N_PROF'\u001b[0m\u001b[0;34m}\u001b[0m\u001b[0;34m)\u001b[0m\u001b[0;34m\u001b[0m\u001b[0;34m\u001b[0m\u001b[0m\n\u001b[0m\u001b[1;32m     23\u001b[0m         \u001b[0mappendix\u001b[0m \u001b[0;34m=\u001b[0m \u001b[0mappendix\u001b[0m\u001b[0;34m.\u001b[0m\u001b[0massign_coords\u001b[0m\u001b[0;34m(\u001b[0m\u001b[0;34m{\u001b[0m\u001b[0;34m'JULD_bins'\u001b[0m\u001b[0;34m:\u001b[0m\u001b[0;34m(\u001b[0m\u001b[0;34m[\u001b[0m\u001b[0;34m'N_PROF'\u001b[0m\u001b[0;34m]\u001b[0m\u001b[0;34m,\u001b[0m\u001b[0mnp\u001b[0m\u001b[0;34m.\u001b[0m\u001b[0masanyarray\u001b[0m\u001b[0;34m(\u001b[0m\u001b[0;34m[\u001b[0m\u001b[0m_\u001b[0m\u001b[0;34m.\u001b[0m\u001b[0mmid\u001b[0m \u001b[0;32mfor\u001b[0m \u001b[0m_\u001b[0m \u001b[0;32min\u001b[0m\u001b[0;34m(\u001b[0m\u001b[0mappendix\u001b[0m\u001b[0;34m[\u001b[0m\u001b[0;34m'JULD_bins'\u001b[0m\u001b[0;34m]\u001b[0m\u001b[0;34m.\u001b[0m\u001b[0mvalues\u001b[0m\u001b[0;34m)\u001b[0m\u001b[0;34m]\u001b[0m\u001b[0;34m)\u001b[0m\u001b[0;34m)\u001b[0m\u001b[0;34m}\u001b[0m\u001b[0;34m)\u001b[0m\u001b[0;34m\u001b[0m\u001b[0;34m\u001b[0m\u001b[0m\n\u001b[1;32m     24\u001b[0m \u001b[0;34m\u001b[0m\u001b[0m\n",
      "\u001b[0;32m/opt/linux/envs/envs/phyocean-2022.05/lib/python3.8/site-packages/xarray/core/common.py\u001b[0m in \u001b[0;36mgroupby_bins\u001b[0;34m(self, group, bins, right, labels, precision, include_lowest, squeeze, restore_coord_dims)\u001b[0m\n\u001b[1;32m    782\u001b[0m         \u001b[0;34m.\u001b[0m\u001b[0;34m.\u001b[0m \u001b[0;34m[\u001b[0m\u001b[0;36m1\u001b[0m\u001b[0;34m]\u001b[0m \u001b[0mhttp\u001b[0m\u001b[0;34m:\u001b[0m\u001b[0;34m//\u001b[0m\u001b[0mpandas\u001b[0m\u001b[0;34m.\u001b[0m\u001b[0mpydata\u001b[0m\u001b[0;34m.\u001b[0m\u001b[0morg\u001b[0m\u001b[0;34m/\u001b[0m\u001b[0mpandas\u001b[0m\u001b[0;34m-\u001b[0m\u001b[0mdocs\u001b[0m\u001b[0;34m/\u001b[0m\u001b[0mstable\u001b[0m\u001b[0;34m/\u001b[0m\u001b[0mgenerated\u001b[0m\u001b[0;34m/\u001b[0m\u001b[0mpandas\u001b[0m\u001b[0;34m.\u001b[0m\u001b[0mcut\u001b[0m\u001b[0;34m.\u001b[0m\u001b[0mhtml\u001b[0m\u001b[0;34m\u001b[0m\u001b[0;34m\u001b[0m\u001b[0m\n\u001b[1;32m    783\u001b[0m         \"\"\"\n\u001b[0;32m--> 784\u001b[0;31m         return self._groupby_cls(\n\u001b[0m\u001b[1;32m    785\u001b[0m             \u001b[0mself\u001b[0m\u001b[0;34m,\u001b[0m\u001b[0;34m\u001b[0m\u001b[0;34m\u001b[0m\u001b[0m\n\u001b[1;32m    786\u001b[0m             \u001b[0mgroup\u001b[0m\u001b[0;34m,\u001b[0m\u001b[0;34m\u001b[0m\u001b[0;34m\u001b[0m\u001b[0m\n",
      "\u001b[0;32m/opt/linux/envs/envs/phyocean-2022.05/lib/python3.8/site-packages/xarray/core/groupby.py\u001b[0m in \u001b[0;36m__init__\u001b[0;34m(self, obj, group, squeeze, grouper, bins, restore_coord_dims, cut_kwargs)\u001b[0m\n\u001b[1;32m    379\u001b[0m         \u001b[0;32mif\u001b[0m \u001b[0mlen\u001b[0m\u001b[0;34m(\u001b[0m\u001b[0mgroup_indices\u001b[0m\u001b[0;34m)\u001b[0m \u001b[0;34m==\u001b[0m \u001b[0;36m0\u001b[0m\u001b[0;34m:\u001b[0m\u001b[0;34m\u001b[0m\u001b[0;34m\u001b[0m\u001b[0m\n\u001b[1;32m    380\u001b[0m             \u001b[0;32mif\u001b[0m \u001b[0mbins\u001b[0m \u001b[0;32mis\u001b[0m \u001b[0;32mnot\u001b[0m \u001b[0;32mNone\u001b[0m\u001b[0;34m:\u001b[0m\u001b[0;34m\u001b[0m\u001b[0;34m\u001b[0m\u001b[0m\n\u001b[0;32m--> 381\u001b[0;31m                 raise ValueError(\n\u001b[0m\u001b[1;32m    382\u001b[0m                     \u001b[0;34mf\"None of the data falls within bins with edges {bins!r}\"\u001b[0m\u001b[0;34m\u001b[0m\u001b[0;34m\u001b[0m\u001b[0m\n\u001b[1;32m    383\u001b[0m                 )\n",
      "\u001b[0;31mValueError\u001b[0m: None of the data falls within bins with edges array(['1950-01-01', '1950-01-16', '1950-01-31', ..., '1999-12-10',\n       '1999-12-25', '2000-01-09'], dtype='datetime64[D]')"
     ]
    }
   ],
   "source": [
    "timemin=1950\n",
    "timemax=1999\n",
    "indexes = np.char.array(np.linspace(0,500,501,dtype='int').astype('str') ).zfill(3)\n",
    "\n",
    "\n",
    "condit = xar.DataArray((nameplatform == b'MRB'),dims=['N_PROF'])#((ENtemp2['PROJECT_NAME'].str[:5]==b'GTSPP')&(ENtemp2['PLATFORM_NUMBER'].dropna('N_PROF').str[2:].str.strip().astype('str').isin(indexes)))^(ENtemp2['PROJECT_NAME'].str[5:8].isin(b'MRB'))^(ENtemp2['PROJECT_NAME'].str[5:8].isin(b'UOR'))\n",
    "\n",
    "moorObs = ENtemp2.where(condit,drop=True).reset_coords(['LATITUDE','LONGITUDE']).compute()\n",
    "\n",
    "labofmoor = np.unique(moorObs['PLATFORM_NUMBER'])\n",
    "\n",
    "timebins=np.arange(np.datetime64('19'+str(timemin)[-2:]+'-01-01'),np.datetime64('19'+str(timemax)[-2:]+'-12-31')+15,15)\n",
    "# timebins=np.arange(np.datetime64('1990-01-01'),np.datetime64('1999-12-31')+15,15)\n",
    "\n",
    "if labofmoor.size!=0:\n",
    "    moorObs2 = moorObs.where(moorObs['PLATFORM_NUMBER']==labofmoor[0],drop=True).groupby_bins(group='JULD',bins=timebins).mean(skipna=True).dropna('JULD_bins',how='all').rename_dims({'JULD_bins':'N_PROF'})\n",
    "    moorObs2 = moorObs2.assign_coords({'JULD_bins':(['N_PROF'],np.asanyarray([_.mid for _ in(moorObs2['JULD_bins'].values)]))})\n",
    "\n",
    "    ii=1\n",
    "    for label in labofmoor : \n",
    "        print(str(ii)+'/'+str(labofmoor.shape),end='\\r')\n",
    "        appendix=moorObs.where(moorObs['PLATFORM_NUMBER']==label,drop=True).groupby_bins(group='JULD',bins=timebins).mean(skipna=True).dropna('JULD_bins',how='all').rename_dims({'JULD_bins':'N_PROF'})\n",
    "        appendix = appendix.assign_coords({'JULD_bins':(['N_PROF'],np.asanyarray([_.mid for _ in(appendix['JULD_bins'].values)]))})\n",
    "\n",
    "        moorObs2 =xar.concat((moorObs2,appendix),dim='N_PROF')\n",
    "        ii+=1\n",
    "\n",
    "    \n",
    "    \n",
    "    \n",
    "    ENtemp3 = xar.concat((ENtemp2.where(~condit,drop=True).reset_coords(['LATITUDE','LONGITUDE']).drop(['PROJECT_NAME','PLATFORM_NUMBER']),moorObs2.rename({'JULD_bins':'JULD'})),dim='N_PROF')\n",
    "    \n",
    "else : \n",
    "    ENtemp3 =ENtemp2.where(~condit,drop=True).reset_coords(['LATITUDE','LONGITUDE']).drop(['PROJECT_NAME','PLATFORM_NUMBER'])\n",
    "    \n",
    "    \n",
    "    \n",
    "# ENtemp3.to_netcdf('ENtempNoFMoorAdjusted.nc','w')"
   ]
  },
  {
   "cell_type": "code",
   "execution_count": 149,
   "id": "6e748c11-eab1-45f4-a4bd-b48a62a1b13d",
   "metadata": {},
   "outputs": [],
   "source": [
    "\n",
    "ENtemp2.to_netcdf('ENtemp_NoInterpNoFMoorAdjusted.nc','w')"
   ]
  },
  {
   "cell_type": "code",
   "execution_count": 21,
   "id": "43e80381-bb13-4ff4-b94c-b7d3a10f0e5a",
   "metadata": {},
   "outputs": [],
   "source": [
    "\n",
    "ENtemp2 = xar.open_mfdataset(glob.glob('ENtemp_NoInterp*0NoFMoorAdjusted.nc')[0])\n",
    "\n",
    "for i in range(0,7):\n",
    "    ENtemp2= xar.concat((ENtemp2,xar.open_mfdataset(glob.glob('ENtemp_NoInterp*0NoFMoorAdjusted.nc')[1:][i])),'N_PROF')\n",
    "    "
   ]
  },
  {
   "cell_type": "code",
   "execution_count": 199,
   "id": "147dd661-38d8-4894-a1be-3714c6a952a5",
   "metadata": {},
   "outputs": [
    {
     "data": {
      "text/plain": [
       "(717142,)"
      ]
     },
     "execution_count": 199,
     "metadata": {},
     "output_type": "execute_result"
    }
   ],
   "source": [
    "test2.shape"
   ]
  },
  {
   "cell_type": "code",
   "execution_count": 201,
   "id": "ee01503d-7d9b-4caa-bb71-fed3c8460f4f",
   "metadata": {},
   "outputs": [
    {
     "data": {
      "text/plain": [
       "(717142,)"
      ]
     },
     "execution_count": 201,
     "metadata": {},
     "output_type": "execute_result"
    }
   ],
   "source": [
    "nameplatform2.shape"
   ]
  },
  {
   "cell_type": "code",
   "execution_count": 22,
   "id": "4c558b8c-9e6d-486c-a8a1-ee3ec620fb3e",
   "metadata": {},
   "outputs": [],
   "source": [
    "test2 = np.zeros((ENtemp2['N_PROF'].size))\n",
    "test2[:test[~condit].size] = test[~condit]\n",
    "test2[test[~condit].size:]+= .3\n",
    "\n",
    "nameplatform2 = np.concatenate((nameplatform[~condit].copy(),np.repeat(np.array([ b'MRB']),np.abs(test2.shape[0]-nameplatform[~condit].copy().shape[0]))))\n",
    "# nameplatform2=  b'MRB'\n"
   ]
  },
  {
   "cell_type": "code",
   "execution_count": 23,
   "id": "0cd50843-737e-4f5a-89db-b608547c38fd",
   "metadata": {
    "tags": []
   },
   "outputs": [],
   "source": [
    "xar.Dataset({'PLATFORM':(['N_PROF'],nameplatform2),'Err':(['N_PROF'],test2)}).to_netcdf('ENtemp_ERR.nc')"
   ]
  },
  {
   "cell_type": "markdown",
   "id": "bade2204-4488-4e38-bc56-4b8512818582",
   "metadata": {
    "tags": []
   },
   "source": [
    "# STANDARDIZATION OF THE OBSERVATIONS"
   ]
  },
  {
   "cell_type": "code",
   "execution_count": 52,
   "id": "b7bb528a-be95-441b-ab33-a88434abad87",
   "metadata": {},
   "outputs": [
    {
     "name": "stdout",
     "output_type": "stream",
     "text": [
      "5\n",
      "10\n",
      "50\n",
      "100\n",
      "200\n",
      "300\n",
      "400\n",
      "500\n",
      "700\n",
      "1000\n",
      "1500\n",
      "2000\n"
     ]
    }
   ],
   "source": [
    "timemin=1930\n",
    "timemax=timemin+9\n",
    "ENsal = xar.open_mfdataset('EN_OBS/ENsal'+str(timemin)[-2:]+'Pacific.nc',parallel=True)\n",
    "\n",
    "switch = False \n",
    "for zepth in [5,10,50,100,200,300,400,500,700,1000,1500,2000]:\n",
    "    \n",
    "    if zepth == 2000:\n",
    "        bnd1,bnd2 = 1750,2250\n",
    "        \n",
    "    if zepth == 1500:\n",
    "        bnd1,bnd2 = 1250,1750\n",
    "        \n",
    "    if zepth == 1000:\n",
    "        bnd1,bnd2 = 850,1250\n",
    "    elif (zepth==700):\n",
    "        bnd1,bnd2 = 600,800\n",
    "    elif (zepth==500):\n",
    "        bnd1,bnd2 = 450,600\n",
    "    elif (zepth==400):\n",
    "        bnd1,bnd2 = 350,450\n",
    "    elif (zepth==300):\n",
    "        bnd1,bnd2 = 250,350\n",
    "    elif (zepth==200):\n",
    "        bnd1,bnd2 = 150,250\n",
    "    elif (zepth==100):\n",
    "        bnd1,bnd2 = 75,150\n",
    "    elif (zepth==50):\n",
    "        bnd1,bnd2 = 25,75\n",
    "    elif (zepth==10):\n",
    "        bnd1,bnd2 = 7,25\n",
    "    else:\n",
    "        bnd1,bnd2 = 0,7\n",
    "        \n",
    "    print(zepth)\n",
    "    \n",
    "    argumt=da.array.argmin(da.array.where(zepth-ENsal['DEPH_CORRECTED'].fillna(1e5)>=0,zepth-ENsal['DEPH_CORRECTED'].fillna(1e5),1e5),1).compute()\n",
    "    \n",
    "    born1=da.array.all(zepth-ENsal['DEPH_CORRECTED'].ffill(dim='N_LEVELS').bfill(dim='N_LEVELS')<0,axis=1)\n",
    "    born2=da.array.all(zepth-ENsal['DEPH_CORRECTED'].ffill(dim='N_LEVELS').bfill(dim='N_LEVELS')>0,axis=1)\n",
    "\n",
    "    Nprs = ENsal.coords['N_PROF'].size\n",
    "    Nzz = ENsal.coords['N_LEVELS'].size\n",
    "    \n",
    "    z0,z1=ENsal['DEPH_CORRECTED'].data.vindex[np.linspace(0,Nprs-1,Nprs,dtype='int'),argumt],ENsal['DEPH_CORRECTED'].data.vindex[np.linspace(0,Nprs-1,Nprs,dtype='int'),np.where((1+argumt)>Nzz-1,Nzz-1,(1+argumt))]\n",
    "    T0,T1=ENsal['PSAL'].where(ENsal['PSAL_CORRECTED_QC']==b'1').data.vindex[np.linspace(0,Nprs-1,Nprs,dtype='int'),argumt],ENsal['PSAL'].where(ENsal['PSAL_CORRECTED_QC']==b'1').data.vindex[np.linspace(0,Nprs-1,Nprs,dtype='int'),np.where((1+argumt)>Nzz-1,Nzz-1,(1+argumt))]\n",
    "\n",
    "    born3 = np.array([born1, born2, (z0 <bnd1), (z1>bnd2) ,(z0 > z1) ,(zepth<z0) ,(zepth>z1)]).any(axis=0)\n",
    "\n",
    "\n",
    "    #     born3 = (z0-z1>=zscl)\n",
    "    T0=np.where(born3,np.nan,T0)\n",
    "    T1=np.where(born3,np.nan,T1)\n",
    "    if switch : \n",
    "        ENewsal = np.concatenate((ENewsal,(np.array([T0,T1,np.empty_like(T0)])[np.nanargmin(np.abs(np.array([z0,z1,1e6*np.ones_like(T0)])-zepth),0),np.ix_(np.arange(0,Nprs,1))])),axis=0)\n",
    "        # QC_z = np.concatenate((QC_z,np.where(np.isnan(T0),np.nan,(np.where(z1-z0<=zscl,0,1)+np.where(zepth-z0<zscl,0,1)+np.where(z1-zepth,0,1)))[np.newaxis,:]),axis=0)\n",
    "    if not switch: \n",
    "        ENewsal = np.array([T0,T1,np.empty_like(T0)])[np.nanargmin(np.abs(np.array([z0,z1,1e6*np.ones_like(T0)])-zepth),0),np.ix_(np.arange(0,Nprs,1))]\n",
    "        # QC_z = np.where(np.isnan(T0),np.nan,(np.where(z1-z0<=zscl,0,1)+np.where(zepth-z0<zscl,0,1)+np.where(z1-zepth,0,1)))[np.newaxis,:]\n",
    "        switch = True\n",
    "\n",
    "       #\n",
    "#      "
   ]
  },
  {
   "cell_type": "markdown",
   "id": "c0899a41-25e2-4fb0-9219-8d6f4179b1cc",
   "metadata": {
    "tags": []
   },
   "source": [
    "# FILTER OUT HIGH-FREQUENCY DATA AND CREATE SUPER-PROFILES"
   ]
  },
  {
   "cell_type": "code",
   "execution_count": 203,
   "id": "10e081d2-70d9-426b-8032-c0d4d69004f9",
   "metadata": {},
   "outputs": [
    {
     "ename": "ValueError",
     "evalue": "conflicting sizes for dimension 'N_PROF': length 80281 on 'JULD' and length 3610 on {'depth': 'PSAL', 'N_PROF': 'PSAL'}",
     "output_type": "error",
     "traceback": [
      "\u001b[0;31m---------------------------------------------------------------------------\u001b[0m",
      "\u001b[0;31mValueError\u001b[0m                                Traceback (most recent call last)",
      "\u001b[0;32m/tmp/ipykernel_1608294/3206527181.py\u001b[0m in \u001b[0;36m<cell line: 1>\u001b[0;34m()\u001b[0m\n\u001b[0;32m----> 1\u001b[0;31m ENsal2 = xar.Dataset( \n\u001b[0m\u001b[1;32m      2\u001b[0m         {\n\u001b[1;32m      3\u001b[0m             \u001b[0;34m'PSAL'\u001b[0m\u001b[0;34m:\u001b[0m \u001b[0;34m(\u001b[0m\u001b[0;34m[\u001b[0m\u001b[0;34m'depth'\u001b[0m\u001b[0;34m,\u001b[0m\u001b[0;34m'N_PROF'\u001b[0m\u001b[0;34m]\u001b[0m\u001b[0;34m,\u001b[0m\u001b[0mENewsal\u001b[0m\u001b[0;34m)\u001b[0m\u001b[0;34m,\u001b[0m\u001b[0;34m\u001b[0m\u001b[0;34m\u001b[0m\u001b[0m\n\u001b[1;32m      4\u001b[0m             \u001b[0;31m# 'QC' : (['depth','N_PROF'],QC_z.compute())\u001b[0m\u001b[0;34m\u001b[0m\u001b[0;34m\u001b[0m\u001b[0;34m\u001b[0m\u001b[0m\n\u001b[1;32m      5\u001b[0m         },\n",
      "\u001b[0;32m/opt/linux/envs/envs/phyocean-2022.05/lib/python3.8/site-packages/xarray/core/dataset.py\u001b[0m in \u001b[0;36m__init__\u001b[0;34m(self, data_vars, coords, attrs)\u001b[0m\n\u001b[1;32m    748\u001b[0m             \u001b[0mcoords\u001b[0m \u001b[0;34m=\u001b[0m \u001b[0mcoords\u001b[0m\u001b[0;34m.\u001b[0m\u001b[0mvariables\u001b[0m\u001b[0;34m\u001b[0m\u001b[0;34m\u001b[0m\u001b[0m\n\u001b[1;32m    749\u001b[0m \u001b[0;34m\u001b[0m\u001b[0m\n\u001b[0;32m--> 750\u001b[0;31m         variables, coord_names, dims, indexes, _ = merge_data_and_coords(\n\u001b[0m\u001b[1;32m    751\u001b[0m             \u001b[0mdata_vars\u001b[0m\u001b[0;34m,\u001b[0m \u001b[0mcoords\u001b[0m\u001b[0;34m,\u001b[0m \u001b[0mcompat\u001b[0m\u001b[0;34m=\u001b[0m\u001b[0;34m\"broadcast_equals\"\u001b[0m\u001b[0;34m\u001b[0m\u001b[0;34m\u001b[0m\u001b[0m\n\u001b[1;32m    752\u001b[0m         )\n",
      "\u001b[0;32m/opt/linux/envs/envs/phyocean-2022.05/lib/python3.8/site-packages/xarray/core/merge.py\u001b[0m in \u001b[0;36mmerge_data_and_coords\u001b[0;34m(data, coords, compat, join)\u001b[0m\n\u001b[1;32m    481\u001b[0m     \u001b[0mexplicit_coords\u001b[0m \u001b[0;34m=\u001b[0m \u001b[0mcoords\u001b[0m\u001b[0;34m.\u001b[0m\u001b[0mkeys\u001b[0m\u001b[0;34m(\u001b[0m\u001b[0;34m)\u001b[0m\u001b[0;34m\u001b[0m\u001b[0;34m\u001b[0m\u001b[0m\n\u001b[1;32m    482\u001b[0m     \u001b[0mindexes\u001b[0m \u001b[0;34m=\u001b[0m \u001b[0mdict\u001b[0m\u001b[0;34m(\u001b[0m\u001b[0m_extract_indexes_from_coords\u001b[0m\u001b[0;34m(\u001b[0m\u001b[0mcoords\u001b[0m\u001b[0;34m)\u001b[0m\u001b[0;34m)\u001b[0m\u001b[0;34m\u001b[0m\u001b[0;34m\u001b[0m\u001b[0m\n\u001b[0;32m--> 483\u001b[0;31m     return merge_core(\n\u001b[0m\u001b[1;32m    484\u001b[0m         \u001b[0mobjects\u001b[0m\u001b[0;34m,\u001b[0m \u001b[0mcompat\u001b[0m\u001b[0;34m,\u001b[0m \u001b[0mjoin\u001b[0m\u001b[0;34m,\u001b[0m \u001b[0mexplicit_coords\u001b[0m\u001b[0;34m=\u001b[0m\u001b[0mexplicit_coords\u001b[0m\u001b[0;34m,\u001b[0m \u001b[0mindexes\u001b[0m\u001b[0;34m=\u001b[0m\u001b[0mindexes\u001b[0m\u001b[0;34m\u001b[0m\u001b[0;34m\u001b[0m\u001b[0m\n\u001b[1;32m    485\u001b[0m     )\n",
      "\u001b[0;32m/opt/linux/envs/envs/phyocean-2022.05/lib/python3.8/site-packages/xarray/core/merge.py\u001b[0m in \u001b[0;36mmerge_core\u001b[0;34m(objects, compat, join, combine_attrs, priority_arg, explicit_coords, indexes, fill_value)\u001b[0m\n\u001b[1;32m    638\u001b[0m     \u001b[0massert_unique_multiindex_level_names\u001b[0m\u001b[0;34m(\u001b[0m\u001b[0mvariables\u001b[0m\u001b[0;34m)\u001b[0m\u001b[0;34m\u001b[0m\u001b[0;34m\u001b[0m\u001b[0m\n\u001b[1;32m    639\u001b[0m \u001b[0;34m\u001b[0m\u001b[0m\n\u001b[0;32m--> 640\u001b[0;31m     \u001b[0mdims\u001b[0m \u001b[0;34m=\u001b[0m \u001b[0mcalculate_dimensions\u001b[0m\u001b[0;34m(\u001b[0m\u001b[0mvariables\u001b[0m\u001b[0;34m)\u001b[0m\u001b[0;34m\u001b[0m\u001b[0;34m\u001b[0m\u001b[0m\n\u001b[0m\u001b[1;32m    641\u001b[0m \u001b[0;34m\u001b[0m\u001b[0m\n\u001b[1;32m    642\u001b[0m     \u001b[0mcoord_names\u001b[0m\u001b[0;34m,\u001b[0m \u001b[0mnoncoord_names\u001b[0m \u001b[0;34m=\u001b[0m \u001b[0mdetermine_coords\u001b[0m\u001b[0;34m(\u001b[0m\u001b[0mcoerced\u001b[0m\u001b[0;34m)\u001b[0m\u001b[0;34m\u001b[0m\u001b[0;34m\u001b[0m\u001b[0m\n",
      "\u001b[0;32m/opt/linux/envs/envs/phyocean-2022.05/lib/python3.8/site-packages/xarray/core/dataset.py\u001b[0m in \u001b[0;36mcalculate_dimensions\u001b[0;34m(variables)\u001b[0m\n\u001b[1;32m    202\u001b[0m                 \u001b[0mlast_used\u001b[0m\u001b[0;34m[\u001b[0m\u001b[0mdim\u001b[0m\u001b[0;34m]\u001b[0m \u001b[0;34m=\u001b[0m \u001b[0mk\u001b[0m\u001b[0;34m\u001b[0m\u001b[0;34m\u001b[0m\u001b[0m\n\u001b[1;32m    203\u001b[0m             \u001b[0;32melif\u001b[0m \u001b[0mdims\u001b[0m\u001b[0;34m[\u001b[0m\u001b[0mdim\u001b[0m\u001b[0;34m]\u001b[0m \u001b[0;34m!=\u001b[0m \u001b[0msize\u001b[0m\u001b[0;34m:\u001b[0m\u001b[0;34m\u001b[0m\u001b[0;34m\u001b[0m\u001b[0m\n\u001b[0;32m--> 204\u001b[0;31m                 raise ValueError(\n\u001b[0m\u001b[1;32m    205\u001b[0m                     \u001b[0;34mf\"conflicting sizes for dimension {dim!r}: \"\u001b[0m\u001b[0;34m\u001b[0m\u001b[0;34m\u001b[0m\u001b[0m\n\u001b[1;32m    206\u001b[0m                     \u001b[0;34mf\"length {size} on {k!r} and length {dims[dim]} on {last_used!r}\"\u001b[0m\u001b[0;34m\u001b[0m\u001b[0;34m\u001b[0m\u001b[0m\n",
      "\u001b[0;31mValueError\u001b[0m: conflicting sizes for dimension 'N_PROF': length 80281 on 'JULD' and length 3610 on {'depth': 'PSAL', 'N_PROF': 'PSAL'}"
     ]
    }
   ],
   "source": [
    "         \n",
    "ENsal2 = xar.Dataset( \n",
    "        {\n",
    "            'PSAL': (['depth','N_PROF'],ENewsal),\n",
    "            # 'QC' : (['depth','N_PROF'],QC_z.compute())\n",
    "        },\n",
    "        coords = {\n",
    "            'JULD': (['N_PROF'],ENsal['JULD'].values),\n",
    "            'LATITUDE': (['N_PROF'],ENsal['LATITUDE'].values),\n",
    "            'LONGITUDE': (['N_PROF'],ENsal['LONGITUDE'].values),\n",
    "            'Depth': (['depth'],np.array([5,10,50,100,200,300,400,500,700,1000,1500,2000])),\n",
    "            'PROJECT_NAME' : (['N_PROF'],ENsal['PROJECT_NAME'].values),\n",
    "            'PLATFORM_NUMBER' : (['N_PROF'], ENsal['PLATFORM_NUMBER'].values)\n",
    "        }\n",
    ")\n",
    "\n",
    "\n",
    "indexes = np.char.array(np.linspace(0,500,501,dtype='int').astype('str') ).zfill(3)\n",
    "\n",
    "platform50=[ENsal2['PROJECT_NAME'].values[ind][5:8] for ind in range(0,ENsal2['N_PROF'].size)]\n",
    "nameplatform = np.array(platform50)\n",
    "\n",
    "condit = xar.DataArray((nameplatform == b'MRB'),dims=['N_PROF'])#((ENsal2['PROJECT_NAME'].str[:5]==b'GTSPP')&(ENsal2['PLATFORM_NUMBER'].dropna('N_PROF').str[2:].str.strip().astype('str').isin(indexes)))^(ENsal2['PROJECT_NAME'].str[5:8].isin(b'MRB'))^(ENsal2['PROJECT_NAME'].str[5:8].isin(b'UOR'))\n",
    "\n",
    "moorObs = ENsal2.where(condit,drop=True).reset_coords(['LATITUDE','LONGITUDE']).compute()\n",
    "\n",
    "labofmoor = np.unique(moorObs['PLATFORM_NUMBER'])\n",
    "\n",
    "# timebins=np.arange(np.datetime64('20'+str(timemin)[-2:]+'-01-01'),np.datetime64('20'+str(timemax)[-2:]+'-12-31')+15,15)\n",
    "timebins=np.arange(np.datetime64('19'+str(timemin)[-2:]+'-01-01'),np.datetime64('19'+str(timemax)[-2:]+'-12-31')+15,15)\n",
    "# timebins=np.arange(np.datetime64('1990-01-01'),np.datetime64('1999-12-31')+15,15)\n",
    "\n",
    "if labofmoor.size!=0:\n",
    "    moorObs2 = moorObs.where(moorObs['PLATFORM_NUMBER']==labofmoor[0],drop=True).groupby_bins(group='JULD',bins=timebins).mean(skipna=True).dropna('JULD_bins',how='all').rename_dims({'JULD_bins':'N_PROF'})\n",
    "    moorObs2 = moorObs2.assign_coords({'JULD_bins':(['N_PROF'],np.asanyarray([_.mid for _ in(moorObs2['JULD_bins'].values)]))})\n",
    "\n",
    "    ii=1\n",
    "    for label in labofmoor : \n",
    "        print(str(ii)+'/'+str(labofmoor.shape),end='\\r')\n",
    "        appendix=moorObs.where(moorObs['PLATFORM_NUMBER']==label,drop=True).groupby_bins(group='JULD',bins=timebins).mean(skipna=True).dropna('JULD_bins',how='all').rename_dims({'JULD_bins':'N_PROF'})\n",
    "        appendix = appendix.assign_coords({'JULD_bins':(['N_PROF'],np.asanyarray([_.mid for _ in(appendix['JULD_bins'].values)]))})\n",
    "\n",
    "        moorObs2 =xar.concat((moorObs2,appendix),dim='N_PROF')\n",
    "        ii+=1\n",
    "\n",
    "    \n",
    "    \n",
    "    \n",
    "    ENsal3 = xar.concat((ENsal2.where(~condit,drop=True).reset_coords(['LATITUDE','LONGITUDE']).drop(['PROJECT_NAME','PLATFORM_NUMBER']),moorObs2.rename({'JULD_bins':'JULD'})),dim='N_PROF')\n",
    "    \n",
    "else : \n",
    "    ENsal3 =ENsal2.where(~condit,drop=True).reset_coords(['LATITUDE','LONGITUDE']).drop(['PROJECT_NAME','PLATFORM_NUMBER'])\n",
    "    \n",
    "    \n",
    "    \n",
    "ENsal3.to_netcdf('ENsal_NoInterp'+str(timemin)[-2:]+'NoFMoorAdjusted.nc','w')\n",
    "ENsal2.to_netcdf('ENsal_NoInterp'+str(timemin)[-2:]+'Adjusted.nc','w')"
   ]
  },
  {
   "cell_type": "markdown",
   "id": "4e673847-b992-47bf-bbd4-902a5478eac2",
   "metadata": {
    "tags": []
   },
   "source": [
    "# IDENTIFY TYPE OF INSTRUMENT AND AFFECTS IT AN ERROR"
   ]
  },
  {
   "cell_type": "code",
   "execution_count": 204,
   "id": "67bc1fba-b5a7-49bb-97c3-27b34bcfc75a",
   "metadata": {},
   "outputs": [],
   "source": [
    "def slicer(start=None, stop=None, step=1):\n",
    "    return np.vectorize(lambda x: x[start:stop:step], otypes=[bytes])\n"
   ]
  },
  {
   "cell_type": "code",
   "execution_count": 205,
   "id": "cf2f3d8d-86cf-41eb-83d1-0d8e4b07fff1",
   "metadata": {},
   "outputs": [],
   "source": [
    "\n",
    "timemin=1930\n",
    "ENsal = xar.open_mfdataset('ENsal_NoInterp'+str(timemin)[-2:]+'Adjusted.nc',parallel=True)\n",
    "\n",
    "platform30=(slicer(5, 8)(ENsal['PROJECT_NAME'].values))\n",
    "# platform50=[ENsal['PROJECT_NAME'].values[ind][5:8] for ind in range(0,ENsal['N_PROF'].size)]"
   ]
  },
  {
   "cell_type": "code",
   "execution_count": 206,
   "id": "c80a52e1-fcd2-48b9-81d8-28399d154b57",
   "metadata": {},
   "outputs": [],
   "source": [
    "\n",
    "timemin=1940\n",
    "ENsal = xar.open_mfdataset('ENsal_NoInterp'+str(timemin)[-2:]+'Adjusted.nc',parallel=True)\n",
    "\n",
    "platform40=(slicer(5, 8)(ENsal['PROJECT_NAME'].values))\n",
    "# platform50=[ENsal['PROJECT_NAME'].values[ind][5:8] for ind in range(0,ENsal['N_PROF'].size)]"
   ]
  },
  {
   "cell_type": "code",
   "execution_count": 207,
   "id": "b04f0e35-995a-465c-9413-fd9726a2e825",
   "metadata": {},
   "outputs": [],
   "source": [
    "\n",
    "timemin=1950\n",
    "ENsal = xar.open_mfdataset('ENsal_NoInterp'+str(timemin)[-2:]+'Adjusted.nc',parallel=True)\n",
    "\n",
    "platform50=(slicer(5, 8)(ENsal['PROJECT_NAME'].values))\n",
    "# platform50=[ENsal['PROJECT_NAME'].values[ind][5:8] for ind in range(0,ENsal['N_PROF'].size)]"
   ]
  },
  {
   "cell_type": "code",
   "execution_count": 208,
   "id": "d42ff4f4-2b1a-4805-83a1-a6b1d9cc0c24",
   "metadata": {},
   "outputs": [],
   "source": [
    "timemin=1960\n",
    "ENsal = xar.open_mfdataset('ENsal_NoInterp'+str(timemin)[-2:]+'Adjusted.nc',parallel=True)\n",
    "\n",
    "platform60=(slicer(5, 8)(ENsal['PROJECT_NAME'].values))\n",
    "# platform60=[ENsal['PROJECT_NAME'].values[ind][5:8] for ind in range(0,ENsal['N_PROF'].size)]"
   ]
  },
  {
   "cell_type": "code",
   "execution_count": 209,
   "id": "1bbc99ea-f604-4061-83ac-7e53e570be01",
   "metadata": {},
   "outputs": [],
   "source": [
    "timemin=1970\n",
    "ENsal = xar.open_mfdataset('ENsal_NoInterp'+str(timemin)[-2:]+'Adjusted.nc',parallel=True)\n",
    "\n",
    "platform70=(slicer(5, 8)(ENsal['PROJECT_NAME'].values))\n",
    "# platform70=[ENsal['PROJECT_NAME'].values[ind][5:8] for ind in range(0,ENsal['N_PROF'].size)]"
   ]
  },
  {
   "cell_type": "code",
   "execution_count": 210,
   "id": "98dc2d8b-2b14-46cd-8a26-16df16ce2df8",
   "metadata": {},
   "outputs": [],
   "source": [
    "timemin=1980\n",
    "ENsal = xar.open_mfdataset('ENsal_NoInterp'+str(timemin)[-2:]+'Adjusted.nc',parallel=True)\n",
    "\n",
    "platform80=(slicer(5, 8)(ENsal['PROJECT_NAME'].values))\n",
    "# platform80=[ENsal['PROJECT_NAME'].values[ind][5:8] for ind in range(0,ENsal['N_PROF'].size)]"
   ]
  },
  {
   "cell_type": "code",
   "execution_count": 211,
   "id": "170c8811-4fa3-408d-b2c5-33c5b51b2563",
   "metadata": {},
   "outputs": [],
   "source": [
    "timemin=1990\n",
    "ENsal = xar.open_mfdataset('ENsal_NoInterp'+str(timemin)[-2:]+'Adjusted.nc',parallel=True)\n",
    "# platform90=[ENsal['PROJECT_NAME'].values[ind][5:8] for ind in range(0,ENsal['N_PROF'].size)]\n",
    "platform90=(slicer(5, 8)(ENsal['PROJECT_NAME'].values))    # => ['el' 'ow' 're' 'ou']"
   ]
  },
  {
   "cell_type": "code",
   "execution_count": 212,
   "id": "e3a85e67-8724-485d-b26a-252a30660a23",
   "metadata": {},
   "outputs": [],
   "source": [
    "timemin=2000\n",
    "ENsal = xar.open_mfdataset('ENsal_NoInterp'+str(timemin)[-2:]+'Adjusted.nc',parallel=True)\n",
    "# platform90=[ENsal['PROJECT_NAME'].values[ind][5:8] for ind in range(0,ENsal['N_PROF'].size)]\n",
    "platform00=(slicer(5, 8)(ENsal['PROJECT_NAME'].values))    # => ['el' 'ow' 're' 'ou']"
   ]
  },
  {
   "cell_type": "code",
   "execution_count": 179,
   "id": "0e40b2e7-4942-4846-b0b1-2a9ad7158906",
   "metadata": {},
   "outputs": [
    {
     "data": {
      "text/plain": [
       "array([b'OSD'], dtype='|S3')"
      ]
     },
     "execution_count": 179,
     "metadata": {},
     "output_type": "execute_result"
    }
   ],
   "source": [
    "np.unique(platform30)"
   ]
  },
  {
   "cell_type": "code",
   "execution_count": 85,
   "id": "6a060bfe-2c6d-422c-b299-4a215fbf90b4",
   "metadata": {},
   "outputs": [
    {
     "data": {
      "text/plain": [
       "array([b'MBT', b'OSD'], dtype='|S3')"
      ]
     },
     "execution_count": 85,
     "metadata": {},
     "output_type": "execute_result"
    }
   ],
   "source": [
    "np.unique(platform40)"
   ]
  },
  {
   "cell_type": "code",
   "execution_count": 86,
   "id": "c72225ee-3076-498e-af7e-4bfe8e608b07",
   "metadata": {},
   "outputs": [
    {
     "data": {
      "text/plain": [
       "array([b'MBT', b'OSD'], dtype='|S3')"
      ]
     },
     "execution_count": 86,
     "metadata": {},
     "output_type": "execute_result"
    }
   ],
   "source": [
    "np.unique(platform50)"
   ]
  },
  {
   "cell_type": "code",
   "execution_count": 87,
   "id": "2220e35a-f471-4ae6-bfee-6cd2b281edef",
   "metadata": {},
   "outputs": [
    {
     "data": {
      "text/plain": [
       "array([b'CTD', b'MBT', b'OSD', b'XBT'], dtype='|S3')"
      ]
     },
     "execution_count": 87,
     "metadata": {},
     "output_type": "execute_result"
    }
   ],
   "source": [
    "np.unique(platform60)"
   ]
  },
  {
   "cell_type": "code",
   "execution_count": 88,
   "id": "956d156f-2252-4df4-a1e6-a4e3604b3008",
   "metadata": {},
   "outputs": [
    {
     "data": {
      "text/plain": [
       "array([b'CTD', b'MBT', b'MRB', b'OSD', b'XBT'], dtype='|S3')"
      ]
     },
     "execution_count": 88,
     "metadata": {},
     "output_type": "execute_result"
    }
   ],
   "source": [
    "np.unique(platform70)"
   ]
  },
  {
   "cell_type": "code",
   "execution_count": 89,
   "id": "8c9820f2-6244-487c-abe0-45fa3ec0dc9f",
   "metadata": {},
   "outputs": [
    {
     "data": {
      "text/plain": [
       "array([b'CTD', b'MBT', b'MRB', b'OSD', b'XBT'], dtype='|S3')"
      ]
     },
     "execution_count": 89,
     "metadata": {},
     "output_type": "execute_result"
    }
   ],
   "source": [
    "np.unique(platform80)"
   ]
  },
  {
   "cell_type": "code",
   "execution_count": 90,
   "id": "e97e9a55-a473-4285-97ac-3d6b3664ec49",
   "metadata": {},
   "outputs": [
    {
     "data": {
      "text/plain": [
       "array([b'BA ', b'CT ', b'CTD', b'DRB', b'MBT', b'MRB', b'OSD', b'PF ',\n",
       "       b'PFL', b'TE ', b'TR ', b'UOR', b'XB ', b'XBT'], dtype='|S3')"
      ]
     },
     "execution_count": 90,
     "metadata": {},
     "output_type": "execute_result"
    }
   ],
   "source": [
    "np.unique(platform90)"
   ]
  },
  {
   "cell_type": "code",
   "execution_count": 68,
   "id": "8f4cfe87-6e02-4fac-8aa3-e35cc08cb485",
   "metadata": {},
   "outputs": [
    {
     "data": {
      "text/plain": [
       "array([b'   ', b'BA ', b'CTD', b'MBT', b'MRB', b'OSD', b'PF ', b'PFL',\n",
       "       b'TE ', b'TR ', b'XB ', b'XBT'], dtype='|S3')"
      ]
     },
     "execution_count": 68,
     "metadata": {},
     "output_type": "execute_result"
    }
   ],
   "source": [
    "np.unique(platform00)"
   ]
  },
  {
   "cell_type": "markdown",
   "id": "1be63339-d016-4e4d-b547-cd82e176113c",
   "metadata": {
    "tags": []
   },
   "source": [
    "CTD pre-1980 (Conductivity, Temperature, Depth) 0.02\n",
    "CTD post-1980 calibrated  0.002\n",
    "Profiling floats (Argo***)0.01\n",
    "XCTDpre-1998 (Expendable Conductivity,Temperature, Depth) 0.08\n",
    "XCTD post-1998  0.03\n",
    "\n",
    "Christopher P. Atkinson et al 2014\n",
    "\n",
    "EN.4.0.1 \tCTD \t- \t- \t- \t- \t0.005 \t\n",
    "EN.4.0.1 \tSTD \t- \t- \t- \t- \t0.005 \t\n",
    "EN.4.0.1 \tXCTD \t- \t- \t- \t- \t0.05 \t\n",
    "EN.4.0.1 \tBottle/rosette/net \t- \t- \t- \t- \t0.05 \n",
    "EN.4.0.1 \tProfiling float \t- \t- \t- \t- \t0.005 \n",
    "EN.4.0.1 \tMoored buoy \t- \t- \t- \t- \t0.02 \n",
    "EN.4.0.1 \tProfiling drifting buoy \t- \t- \t- \t- \t0.01 \n",
    "EN.4.0.1 \tTowed CTD (UOR) \t- \t- \t- \t- \t0.01 \n",
    "EN.4.0.1 \tAnimal-mounted \t- \t- \t- \t- \t0.005 \n",
    "EN.4.0.1 \tGlider \t- \t- \t- \t- \t0.005\n",
    "\n",
    "\n",
    "\n",
    "UOR = Undulating Oceanographic recorder\n",
    "OSD = Ocean Station Data\n",
    "TE = Tesac Message (Station Data = OSD)"
   ]
  },
  {
   "cell_type": "code",
   "execution_count": null,
   "id": "354d17dc-a3dc-4a97-b894-d17b1a2e33a6",
   "metadata": {},
   "outputs": [
    {
     "data": {
      "text/plain": [
       "(array([b'CT ', b'CTD', b'MRB', b'OSD', b'PF ', b'TE ', b'UOR'],\n",
       "       dtype='|S3'),\n",
       " array([    9, 15160,  7755,  6164,    31,   690,  2523]))"
      ]
     },
     "execution_count": 171,
     "metadata": {},
     "output_type": "execute_result"
    }
   ],
   "source": [
    "np.unique(platform90[~np.isnan(ENsal['POTM'].values).all(0)],return_counts=True)"
   ]
  },
  {
   "cell_type": "code",
   "execution_count": 178,
   "id": "7e308986-0b1e-41cd-b6fd-d72fd9a6bde0",
   "metadata": {},
   "outputs": [
    {
     "data": {
      "text/plain": [
       "(array([b'BA ', b'CT ', b'CTD', b'DRB', b'MBT', b'MRB', b'OSD', b'PF ',\n",
       "        b'PFL', b'TE ', b'TR ', b'UOR', b'XB ', b'XBT'], dtype='|S3'),\n",
       " array([  2436,      2,    282,     16,   9090, 171935,   2429,     82,\n",
       "          1104,     38,   4737,     61,   9696, 113476]))"
      ]
     },
     "execution_count": 178,
     "metadata": {},
     "output_type": "execute_result"
    }
   ],
   "source": [
    "np.unique(platform90[np.isnan(ENsal['POTM'].values).all(0)],return_counts=True)"
   ]
  },
  {
   "cell_type": "code",
   "execution_count": 91,
   "id": "d235fb71-0cae-4954-9715-83ce86d9567a",
   "metadata": {},
   "outputs": [],
   "source": [
    "def instrErr(x):\n",
    "    y = np.zeros(len(x))\n",
    "    y[(x==b'CTD')^(x==b'CT ')]+= 0.005\n",
    "    y[(x==b'XBT')^(x==b'XB ')^(x==b'MBT')^(x==b'BA ')]+= 0\n",
    "    y[(x==b'MRB')]+= .02\n",
    "    y[(x==b'PF ')^(x==b'PFL')]+=0.005\n",
    "    y[(x==b'DRB')]+=0.01\n",
    "    y[(x==b'UOR')^(x==b'TE ')]+=.01\n",
    "    y[y==0]+=.0\n",
    "    return y"
   ]
  },
  {
   "cell_type": "code",
   "execution_count": 93,
   "id": "b5723e03-74ba-443e-b3a9-5bc9b2c80832",
   "metadata": {},
   "outputs": [
    {
     "data": {
      "text/plain": [
       "array([0.005, 0.   , 0.   , 0.   ])"
      ]
     },
     "execution_count": 93,
     "metadata": {},
     "output_type": "execute_result"
    }
   ],
   "source": [
    "instrErr(np.unique(platform60))"
   ]
  },
  {
   "cell_type": "code",
   "execution_count": 213,
   "id": "96dc6d1f-02a8-47f0-ae24-692c087d517f",
   "metadata": {},
   "outputs": [],
   "source": [
    "nameplatform = np.concatenate((np.array(platform30),np.array(platform40),np.array(platform50),np.array(platform60),np.array(platform70),np.array(platform80),np.array(platform90),np.array(platform00)))\n",
    "test = np.concatenate((instrErr(np.array(platform30)),instrErr(np.array(platform40)),instrErr(np.array(platform50)),instrErr(np.array(platform60)),instrErr(np.array(platform70)),instrErr(np.array(platform80)),instrErr(np.array(platform90)),instrErr(np.array(platform00))))"
   ]
  },
  {
   "cell_type": "markdown",
   "id": "193ade92-ab8f-4bfb-95d4-c7d40567d5bd",
   "metadata": {},
   "source": [
    "# SAVE INTRUMENT ERRORS"
   ]
  },
  {
   "cell_type": "code",
   "execution_count": 71,
   "id": "3ffaf71a-9a44-49e1-8939-453531f7a4e7",
   "metadata": {},
   "outputs": [],
   "source": [
    "xar.Dataset({'PLATFORM':(['N_PROF'],nameplatform),'Err':(['N_PROF'],test)}).to_netcdf('ENsal_ERR.nc')"
   ]
  },
  {
   "cell_type": "markdown",
   "id": "c69fec8d-6583-41b7-89c2-9819c811607d",
   "metadata": {
    "tags": []
   },
   "source": [
    "# FILTER OUT HIGH-FREQUENCY DATA AND CREATE SUPER-PROFILES, THEN SAVE THE WHOLE HISTORAL SET OF OBSERVATIONS INTO ONE FILE"
   ]
  },
  {
   "cell_type": "code",
   "execution_count": 214,
   "id": "2c371918-14fe-46f2-bb4a-e19fe70f1079",
   "metadata": {},
   "outputs": [
    {
     "name": "stdout",
     "output_type": "stream",
     "text": [
      "744/(6289,)\r"
     ]
    },
    {
     "ename": "KeyboardInterrupt",
     "evalue": "",
     "output_type": "error",
     "traceback": [
      "\u001b[0;31m---------------------------------------------------------------------------\u001b[0m",
      "\u001b[0;31mKeyboardInterrupt\u001b[0m                         Traceback (most recent call last)",
      "\u001b[0;32m/tmp/ipykernel_1608294/450442717.py\u001b[0m in \u001b[0;36m<cell line: 23>\u001b[0;34m()\u001b[0m\n\u001b[1;32m     28\u001b[0m     \u001b[0;32mfor\u001b[0m \u001b[0mlabel\u001b[0m \u001b[0;32min\u001b[0m \u001b[0mlabofmoor\u001b[0m \u001b[0;34m:\u001b[0m\u001b[0;34m\u001b[0m\u001b[0;34m\u001b[0m\u001b[0m\n\u001b[1;32m     29\u001b[0m         \u001b[0mprint\u001b[0m\u001b[0;34m(\u001b[0m\u001b[0mstr\u001b[0m\u001b[0;34m(\u001b[0m\u001b[0mii\u001b[0m\u001b[0;34m)\u001b[0m\u001b[0;34m+\u001b[0m\u001b[0;34m'/'\u001b[0m\u001b[0;34m+\u001b[0m\u001b[0mstr\u001b[0m\u001b[0;34m(\u001b[0m\u001b[0mlabofmoor\u001b[0m\u001b[0;34m.\u001b[0m\u001b[0mshape\u001b[0m\u001b[0;34m)\u001b[0m\u001b[0;34m,\u001b[0m\u001b[0mend\u001b[0m\u001b[0;34m=\u001b[0m\u001b[0;34m'\\r'\u001b[0m\u001b[0;34m)\u001b[0m\u001b[0;34m\u001b[0m\u001b[0;34m\u001b[0m\u001b[0m\n\u001b[0;32m---> 30\u001b[0;31m         \u001b[0mappendix\u001b[0m\u001b[0;34m=\u001b[0m\u001b[0mmoorObs\u001b[0m\u001b[0;34m.\u001b[0m\u001b[0mwhere\u001b[0m\u001b[0;34m(\u001b[0m\u001b[0mmoorObs\u001b[0m\u001b[0;34m[\u001b[0m\u001b[0;34m'PLATFORM_NUMBER'\u001b[0m\u001b[0;34m]\u001b[0m\u001b[0;34m==\u001b[0m\u001b[0mlabel\u001b[0m\u001b[0;34m,\u001b[0m\u001b[0mdrop\u001b[0m\u001b[0;34m=\u001b[0m\u001b[0;32mTrue\u001b[0m\u001b[0;34m)\u001b[0m\u001b[0;34m.\u001b[0m\u001b[0mgroupby_bins\u001b[0m\u001b[0;34m(\u001b[0m\u001b[0mgroup\u001b[0m\u001b[0;34m=\u001b[0m\u001b[0;34m'JULD'\u001b[0m\u001b[0;34m,\u001b[0m\u001b[0mbins\u001b[0m\u001b[0;34m=\u001b[0m\u001b[0mtimebins\u001b[0m\u001b[0;34m)\u001b[0m\u001b[0;34m.\u001b[0m\u001b[0mmean\u001b[0m\u001b[0;34m(\u001b[0m\u001b[0mskipna\u001b[0m\u001b[0;34m=\u001b[0m\u001b[0;32mTrue\u001b[0m\u001b[0;34m)\u001b[0m\u001b[0;34m.\u001b[0m\u001b[0mdropna\u001b[0m\u001b[0;34m(\u001b[0m\u001b[0;34m'JULD_bins'\u001b[0m\u001b[0;34m,\u001b[0m\u001b[0mhow\u001b[0m\u001b[0;34m=\u001b[0m\u001b[0;34m'all'\u001b[0m\u001b[0;34m)\u001b[0m\u001b[0;34m.\u001b[0m\u001b[0mrename_dims\u001b[0m\u001b[0;34m(\u001b[0m\u001b[0;34m{\u001b[0m\u001b[0;34m'JULD_bins'\u001b[0m\u001b[0;34m:\u001b[0m\u001b[0;34m'N_PROF'\u001b[0m\u001b[0;34m}\u001b[0m\u001b[0;34m)\u001b[0m\u001b[0;34m\u001b[0m\u001b[0;34m\u001b[0m\u001b[0m\n\u001b[0m\u001b[1;32m     31\u001b[0m         \u001b[0mappendix\u001b[0m \u001b[0;34m=\u001b[0m \u001b[0mappendix\u001b[0m\u001b[0;34m.\u001b[0m\u001b[0massign_coords\u001b[0m\u001b[0;34m(\u001b[0m\u001b[0;34m{\u001b[0m\u001b[0;34m'JULD_bins'\u001b[0m\u001b[0;34m:\u001b[0m\u001b[0;34m(\u001b[0m\u001b[0;34m[\u001b[0m\u001b[0;34m'N_PROF'\u001b[0m\u001b[0;34m]\u001b[0m\u001b[0;34m,\u001b[0m\u001b[0mnp\u001b[0m\u001b[0;34m.\u001b[0m\u001b[0masanyarray\u001b[0m\u001b[0;34m(\u001b[0m\u001b[0;34m[\u001b[0m\u001b[0m_\u001b[0m\u001b[0;34m.\u001b[0m\u001b[0mmid\u001b[0m \u001b[0;32mfor\u001b[0m \u001b[0m_\u001b[0m \u001b[0;32min\u001b[0m\u001b[0;34m(\u001b[0m\u001b[0mappendix\u001b[0m\u001b[0;34m[\u001b[0m\u001b[0;34m'JULD_bins'\u001b[0m\u001b[0;34m]\u001b[0m\u001b[0;34m.\u001b[0m\u001b[0mvalues\u001b[0m\u001b[0;34m)\u001b[0m\u001b[0;34m]\u001b[0m\u001b[0;34m)\u001b[0m\u001b[0;34m)\u001b[0m\u001b[0;34m}\u001b[0m\u001b[0;34m)\u001b[0m\u001b[0;34m\u001b[0m\u001b[0;34m\u001b[0m\u001b[0m\n\u001b[1;32m     32\u001b[0m \u001b[0;34m\u001b[0m\u001b[0m\n",
      "\u001b[0;32m/opt/linux/envs/envs/phyocean-2022.05/lib/python3.8/site-packages/xarray/core/common.py\u001b[0m in \u001b[0;36mgroupby_bins\u001b[0;34m(self, group, bins, right, labels, precision, include_lowest, squeeze, restore_coord_dims)\u001b[0m\n\u001b[1;32m    782\u001b[0m         \u001b[0;34m.\u001b[0m\u001b[0;34m.\u001b[0m \u001b[0;34m[\u001b[0m\u001b[0;36m1\u001b[0m\u001b[0;34m]\u001b[0m \u001b[0mhttp\u001b[0m\u001b[0;34m:\u001b[0m\u001b[0;34m//\u001b[0m\u001b[0mpandas\u001b[0m\u001b[0;34m.\u001b[0m\u001b[0mpydata\u001b[0m\u001b[0;34m.\u001b[0m\u001b[0morg\u001b[0m\u001b[0;34m/\u001b[0m\u001b[0mpandas\u001b[0m\u001b[0;34m-\u001b[0m\u001b[0mdocs\u001b[0m\u001b[0;34m/\u001b[0m\u001b[0mstable\u001b[0m\u001b[0;34m/\u001b[0m\u001b[0mgenerated\u001b[0m\u001b[0;34m/\u001b[0m\u001b[0mpandas\u001b[0m\u001b[0;34m.\u001b[0m\u001b[0mcut\u001b[0m\u001b[0;34m.\u001b[0m\u001b[0mhtml\u001b[0m\u001b[0;34m\u001b[0m\u001b[0;34m\u001b[0m\u001b[0m\n\u001b[1;32m    783\u001b[0m         \"\"\"\n\u001b[0;32m--> 784\u001b[0;31m         return self._groupby_cls(\n\u001b[0m\u001b[1;32m    785\u001b[0m             \u001b[0mself\u001b[0m\u001b[0;34m,\u001b[0m\u001b[0;34m\u001b[0m\u001b[0;34m\u001b[0m\u001b[0m\n\u001b[1;32m    786\u001b[0m             \u001b[0mgroup\u001b[0m\u001b[0;34m,\u001b[0m\u001b[0;34m\u001b[0m\u001b[0;34m\u001b[0m\u001b[0m\n",
      "\u001b[0;32m/opt/linux/envs/envs/phyocean-2022.05/lib/python3.8/site-packages/xarray/core/groupby.py\u001b[0m in \u001b[0;36m__init__\u001b[0;34m(self, obj, group, squeeze, grouper, bins, restore_coord_dims, cut_kwargs)\u001b[0m\n\u001b[1;32m    337\u001b[0m             \u001b[0;32mif\u001b[0m \u001b[0mduck_array_ops\u001b[0m\u001b[0;34m.\u001b[0m\u001b[0misnull\u001b[0m\u001b[0;34m(\u001b[0m\u001b[0mbins\u001b[0m\u001b[0;34m)\u001b[0m\u001b[0;34m.\u001b[0m\u001b[0mall\u001b[0m\u001b[0;34m(\u001b[0m\u001b[0;34m)\u001b[0m\u001b[0;34m:\u001b[0m\u001b[0;34m\u001b[0m\u001b[0;34m\u001b[0m\u001b[0m\n\u001b[1;32m    338\u001b[0m                 \u001b[0;32mraise\u001b[0m \u001b[0mValueError\u001b[0m\u001b[0;34m(\u001b[0m\u001b[0;34m\"All bin edges are NaN.\"\u001b[0m\u001b[0;34m)\u001b[0m\u001b[0;34m\u001b[0m\u001b[0;34m\u001b[0m\u001b[0m\n\u001b[0;32m--> 339\u001b[0;31m             \u001b[0mbinned\u001b[0m \u001b[0;34m=\u001b[0m \u001b[0mpd\u001b[0m\u001b[0;34m.\u001b[0m\u001b[0mcut\u001b[0m\u001b[0;34m(\u001b[0m\u001b[0mgroup\u001b[0m\u001b[0;34m.\u001b[0m\u001b[0mvalues\u001b[0m\u001b[0;34m,\u001b[0m \u001b[0mbins\u001b[0m\u001b[0;34m,\u001b[0m \u001b[0;34m**\u001b[0m\u001b[0mcut_kwargs\u001b[0m\u001b[0;34m)\u001b[0m\u001b[0;34m\u001b[0m\u001b[0;34m\u001b[0m\u001b[0m\n\u001b[0m\u001b[1;32m    340\u001b[0m             \u001b[0mnew_dim_name\u001b[0m \u001b[0;34m=\u001b[0m \u001b[0mgroup\u001b[0m\u001b[0;34m.\u001b[0m\u001b[0mname\u001b[0m \u001b[0;34m+\u001b[0m \u001b[0;34m\"_bins\"\u001b[0m\u001b[0;34m\u001b[0m\u001b[0;34m\u001b[0m\u001b[0m\n\u001b[1;32m    341\u001b[0m             \u001b[0mgroup\u001b[0m \u001b[0;34m=\u001b[0m \u001b[0mDataArray\u001b[0m\u001b[0;34m(\u001b[0m\u001b[0mbinned\u001b[0m\u001b[0;34m,\u001b[0m \u001b[0mgroup\u001b[0m\u001b[0;34m.\u001b[0m\u001b[0mcoords\u001b[0m\u001b[0;34m,\u001b[0m \u001b[0mname\u001b[0m\u001b[0;34m=\u001b[0m\u001b[0mnew_dim_name\u001b[0m\u001b[0;34m)\u001b[0m\u001b[0;34m\u001b[0m\u001b[0;34m\u001b[0m\u001b[0m\n",
      "\u001b[0;32m/opt/linux/envs/envs/phyocean-2022.05/lib/python3.8/site-packages/pandas/core/reshape/tile.py\u001b[0m in \u001b[0;36mcut\u001b[0;34m(x, bins, right, labels, retbins, precision, include_lowest, duplicates, ordered)\u001b[0m\n\u001b[1;32m    290\u001b[0m             \u001b[0;32mraise\u001b[0m \u001b[0mValueError\u001b[0m\u001b[0;34m(\u001b[0m\u001b[0;34m\"bins must increase monotonically.\"\u001b[0m\u001b[0;34m)\u001b[0m\u001b[0;34m\u001b[0m\u001b[0;34m\u001b[0m\u001b[0m\n\u001b[1;32m    291\u001b[0m \u001b[0;34m\u001b[0m\u001b[0m\n\u001b[0;32m--> 292\u001b[0;31m     fac, bins = _bins_to_cuts(\n\u001b[0m\u001b[1;32m    293\u001b[0m         \u001b[0mx\u001b[0m\u001b[0;34m,\u001b[0m\u001b[0;34m\u001b[0m\u001b[0;34m\u001b[0m\u001b[0m\n\u001b[1;32m    294\u001b[0m         \u001b[0mbins\u001b[0m\u001b[0;34m,\u001b[0m\u001b[0;34m\u001b[0m\u001b[0;34m\u001b[0m\u001b[0m\n",
      "\u001b[0;32m/opt/linux/envs/envs/phyocean-2022.05/lib/python3.8/site-packages/pandas/core/reshape/tile.py\u001b[0m in \u001b[0;36m_bins_to_cuts\u001b[0;34m(x, bins, right, labels, precision, include_lowest, dtype, duplicates, ordered)\u001b[0m\n\u001b[1;32m    457\u001b[0m             labels = Categorical(\n\u001b[1;32m    458\u001b[0m                 \u001b[0mlabels\u001b[0m\u001b[0;34m,\u001b[0m\u001b[0;34m\u001b[0m\u001b[0;34m\u001b[0m\u001b[0m\n\u001b[0;32m--> 459\u001b[0;31m                 \u001b[0mcategories\u001b[0m\u001b[0;34m=\u001b[0m\u001b[0mlabels\u001b[0m \u001b[0;32mif\u001b[0m \u001b[0mlen\u001b[0m\u001b[0;34m(\u001b[0m\u001b[0mset\u001b[0m\u001b[0;34m(\u001b[0m\u001b[0mlabels\u001b[0m\u001b[0;34m)\u001b[0m\u001b[0;34m)\u001b[0m \u001b[0;34m==\u001b[0m \u001b[0mlen\u001b[0m\u001b[0;34m(\u001b[0m\u001b[0mlabels\u001b[0m\u001b[0;34m)\u001b[0m \u001b[0;32melse\u001b[0m \u001b[0;32mNone\u001b[0m\u001b[0;34m,\u001b[0m\u001b[0;34m\u001b[0m\u001b[0;34m\u001b[0m\u001b[0m\n\u001b[0m\u001b[1;32m    460\u001b[0m                 \u001b[0mordered\u001b[0m\u001b[0;34m=\u001b[0m\u001b[0mordered\u001b[0m\u001b[0;34m,\u001b[0m\u001b[0;34m\u001b[0m\u001b[0;34m\u001b[0m\u001b[0m\n\u001b[1;32m    461\u001b[0m             )\n",
      "\u001b[0;32m/opt/linux/envs/envs/phyocean-2022.05/lib/python3.8/site-packages/pandas/core/base.py\u001b[0m in \u001b[0;36m__iter__\u001b[0;34m(self)\u001b[0m\n\u001b[1;32m    757\u001b[0m         \u001b[0;32mif\u001b[0m \u001b[0;32mnot\u001b[0m \u001b[0misinstance\u001b[0m\u001b[0;34m(\u001b[0m\u001b[0mself\u001b[0m\u001b[0;34m.\u001b[0m\u001b[0m_values\u001b[0m\u001b[0;34m,\u001b[0m \u001b[0mnp\u001b[0m\u001b[0;34m.\u001b[0m\u001b[0mndarray\u001b[0m\u001b[0;34m)\u001b[0m\u001b[0;34m:\u001b[0m\u001b[0;34m\u001b[0m\u001b[0;34m\u001b[0m\u001b[0m\n\u001b[1;32m    758\u001b[0m             \u001b[0;31m# Check type instead of dtype to catch DTA/TDA\u001b[0m\u001b[0;34m\u001b[0m\u001b[0;34m\u001b[0m\u001b[0;34m\u001b[0m\u001b[0m\n\u001b[0;32m--> 759\u001b[0;31m             \u001b[0;32mreturn\u001b[0m \u001b[0miter\u001b[0m\u001b[0;34m(\u001b[0m\u001b[0mself\u001b[0m\u001b[0;34m.\u001b[0m\u001b[0m_values\u001b[0m\u001b[0;34m)\u001b[0m\u001b[0;34m\u001b[0m\u001b[0;34m\u001b[0m\u001b[0m\n\u001b[0m\u001b[1;32m    760\u001b[0m         \u001b[0;32melse\u001b[0m\u001b[0;34m:\u001b[0m\u001b[0;34m\u001b[0m\u001b[0;34m\u001b[0m\u001b[0m\n\u001b[1;32m    761\u001b[0m             \u001b[0;32mreturn\u001b[0m \u001b[0mmap\u001b[0m\u001b[0;34m(\u001b[0m\u001b[0mself\u001b[0m\u001b[0;34m.\u001b[0m\u001b[0m_values\u001b[0m\u001b[0;34m.\u001b[0m\u001b[0mitem\u001b[0m\u001b[0;34m,\u001b[0m \u001b[0mrange\u001b[0m\u001b[0;34m(\u001b[0m\u001b[0mself\u001b[0m\u001b[0;34m.\u001b[0m\u001b[0m_values\u001b[0m\u001b[0;34m.\u001b[0m\u001b[0msize\u001b[0m\u001b[0;34m)\u001b[0m\u001b[0;34m)\u001b[0m\u001b[0;34m\u001b[0m\u001b[0;34m\u001b[0m\u001b[0m\n",
      "\u001b[0;32m/opt/linux/envs/envs/phyocean-2022.05/lib/python3.8/site-packages/pandas/core/arrays/interval.py\u001b[0m in \u001b[0;36m__iter__\u001b[0;34m(self)\u001b[0m\n\u001b[1;32m    637\u001b[0m \u001b[0;34m\u001b[0m\u001b[0m\n\u001b[1;32m    638\u001b[0m     \u001b[0;32mdef\u001b[0m \u001b[0m__iter__\u001b[0m\u001b[0;34m(\u001b[0m\u001b[0mself\u001b[0m\u001b[0;34m)\u001b[0m\u001b[0;34m:\u001b[0m\u001b[0;34m\u001b[0m\u001b[0;34m\u001b[0m\u001b[0m\n\u001b[0;32m--> 639\u001b[0;31m         \u001b[0;32mreturn\u001b[0m \u001b[0miter\u001b[0m\u001b[0;34m(\u001b[0m\u001b[0mnp\u001b[0m\u001b[0;34m.\u001b[0m\u001b[0masarray\u001b[0m\u001b[0;34m(\u001b[0m\u001b[0mself\u001b[0m\u001b[0;34m)\u001b[0m\u001b[0;34m)\u001b[0m\u001b[0;34m\u001b[0m\u001b[0;34m\u001b[0m\u001b[0m\n\u001b[0m\u001b[1;32m    640\u001b[0m \u001b[0;34m\u001b[0m\u001b[0m\n\u001b[1;32m    641\u001b[0m     \u001b[0;32mdef\u001b[0m \u001b[0m__len__\u001b[0m\u001b[0;34m(\u001b[0m\u001b[0mself\u001b[0m\u001b[0;34m)\u001b[0m \u001b[0;34m->\u001b[0m \u001b[0mint\u001b[0m\u001b[0;34m:\u001b[0m\u001b[0;34m\u001b[0m\u001b[0;34m\u001b[0m\u001b[0m\n",
      "\u001b[0;32m/opt/linux/envs/envs/phyocean-2022.05/lib/python3.8/site-packages/pandas/core/arrays/interval.py\u001b[0m in \u001b[0;36m__array__\u001b[0;34m(self, dtype)\u001b[0m\n\u001b[1;32m   1434\u001b[0m                 \u001b[0mresult\u001b[0m\u001b[0;34m[\u001b[0m\u001b[0mi\u001b[0m\u001b[0;34m]\u001b[0m \u001b[0;34m=\u001b[0m \u001b[0mnp\u001b[0m\u001b[0;34m.\u001b[0m\u001b[0mnan\u001b[0m\u001b[0;34m\u001b[0m\u001b[0;34m\u001b[0m\u001b[0m\n\u001b[1;32m   1435\u001b[0m             \u001b[0;32melse\u001b[0m\u001b[0;34m:\u001b[0m\u001b[0;34m\u001b[0m\u001b[0;34m\u001b[0m\u001b[0m\n\u001b[0;32m-> 1436\u001b[0;31m                 \u001b[0mresult\u001b[0m\u001b[0;34m[\u001b[0m\u001b[0mi\u001b[0m\u001b[0;34m]\u001b[0m \u001b[0;34m=\u001b[0m \u001b[0mInterval\u001b[0m\u001b[0;34m(\u001b[0m\u001b[0mleft\u001b[0m\u001b[0;34m[\u001b[0m\u001b[0mi\u001b[0m\u001b[0;34m]\u001b[0m\u001b[0;34m,\u001b[0m \u001b[0mright\u001b[0m\u001b[0;34m[\u001b[0m\u001b[0mi\u001b[0m\u001b[0;34m]\u001b[0m\u001b[0;34m,\u001b[0m \u001b[0mclosed\u001b[0m\u001b[0;34m)\u001b[0m\u001b[0;34m\u001b[0m\u001b[0;34m\u001b[0m\u001b[0m\n\u001b[0m\u001b[1;32m   1437\u001b[0m         \u001b[0;32mreturn\u001b[0m \u001b[0mresult\u001b[0m\u001b[0;34m\u001b[0m\u001b[0;34m\u001b[0m\u001b[0m\n\u001b[1;32m   1438\u001b[0m \u001b[0;34m\u001b[0m\u001b[0m\n",
      "\u001b[0;32m/opt/linux/envs/envs/phyocean-2022.05/lib/python3.8/site-packages/pandas/core/arrays/datetimelike.py\u001b[0m in \u001b[0;36m__getitem__\u001b[0;34m(self, key)\u001b[0m\n\u001b[1;32m    339\u001b[0m         \u001b[0;31m# (see https://github.com/pandas-dev/pandas/pull/44624)\u001b[0m\u001b[0;34m\u001b[0m\u001b[0;34m\u001b[0m\u001b[0;34m\u001b[0m\u001b[0m\n\u001b[1;32m    340\u001b[0m         result = cast(\n\u001b[0;32m--> 341\u001b[0;31m             \u001b[0;34m\"Union[DatetimeLikeArrayT, DTScalarOrNaT]\"\u001b[0m\u001b[0;34m,\u001b[0m \u001b[0msuper\u001b[0m\u001b[0;34m(\u001b[0m\u001b[0;34m)\u001b[0m\u001b[0;34m.\u001b[0m\u001b[0m__getitem__\u001b[0m\u001b[0;34m(\u001b[0m\u001b[0mkey\u001b[0m\u001b[0;34m)\u001b[0m\u001b[0;34m\u001b[0m\u001b[0;34m\u001b[0m\u001b[0m\n\u001b[0m\u001b[1;32m    342\u001b[0m         )\n\u001b[1;32m    343\u001b[0m         \u001b[0;32mif\u001b[0m \u001b[0mlib\u001b[0m\u001b[0;34m.\u001b[0m\u001b[0mis_scalar\u001b[0m\u001b[0;34m(\u001b[0m\u001b[0mresult\u001b[0m\u001b[0;34m)\u001b[0m\u001b[0;34m:\u001b[0m\u001b[0;34m\u001b[0m\u001b[0;34m\u001b[0m\u001b[0m\n",
      "\u001b[0;32m/opt/linux/envs/envs/phyocean-2022.05/lib/python3.8/site-packages/pandas/core/arrays/_mixins.py\u001b[0m in \u001b[0;36m__getitem__\u001b[0;34m(self, key)\u001b[0m\n\u001b[1;32m    272\u001b[0m             \u001b[0mresult\u001b[0m \u001b[0;34m=\u001b[0m \u001b[0mself\u001b[0m\u001b[0;34m.\u001b[0m\u001b[0m_ndarray\u001b[0m\u001b[0;34m[\u001b[0m\u001b[0mkey\u001b[0m\u001b[0;34m]\u001b[0m\u001b[0;34m\u001b[0m\u001b[0;34m\u001b[0m\u001b[0m\n\u001b[1;32m    273\u001b[0m             \u001b[0;32mif\u001b[0m \u001b[0mself\u001b[0m\u001b[0;34m.\u001b[0m\u001b[0mndim\u001b[0m \u001b[0;34m==\u001b[0m \u001b[0;36m1\u001b[0m\u001b[0;34m:\u001b[0m\u001b[0;34m\u001b[0m\u001b[0;34m\u001b[0m\u001b[0m\n\u001b[0;32m--> 274\u001b[0;31m                 \u001b[0;32mreturn\u001b[0m \u001b[0mself\u001b[0m\u001b[0;34m.\u001b[0m\u001b[0m_box_func\u001b[0m\u001b[0;34m(\u001b[0m\u001b[0mresult\u001b[0m\u001b[0;34m)\u001b[0m\u001b[0;34m\u001b[0m\u001b[0;34m\u001b[0m\u001b[0m\n\u001b[0m\u001b[1;32m    275\u001b[0m             \u001b[0;32mreturn\u001b[0m \u001b[0mself\u001b[0m\u001b[0;34m.\u001b[0m\u001b[0m_from_backing_data\u001b[0m\u001b[0;34m(\u001b[0m\u001b[0mresult\u001b[0m\u001b[0;34m)\u001b[0m\u001b[0;34m\u001b[0m\u001b[0;34m\u001b[0m\u001b[0m\n\u001b[1;32m    276\u001b[0m \u001b[0;34m\u001b[0m\u001b[0m\n",
      "\u001b[0;32m/opt/linux/envs/envs/phyocean-2022.05/lib/python3.8/site-packages/pandas/core/arrays/datetimes.py\u001b[0m in \u001b[0;36m_box_func\u001b[0;34m(self, x)\u001b[0m\n\u001b[1;32m    534\u001b[0m             \u001b[0;31m# expected \"Union[SupportsInt, Union[str, bytes], SupportsIndex]\"\u001b[0m\u001b[0;34m\u001b[0m\u001b[0;34m\u001b[0m\u001b[0;34m\u001b[0m\u001b[0m\n\u001b[1;32m    535\u001b[0m             \u001b[0mx\u001b[0m \u001b[0;34m=\u001b[0m \u001b[0mnp\u001b[0m\u001b[0;34m.\u001b[0m\u001b[0mint64\u001b[0m\u001b[0;34m(\u001b[0m\u001b[0mx\u001b[0m\u001b[0;34m)\u001b[0m  \u001b[0;31m# type: ignore[arg-type]\u001b[0m\u001b[0;34m\u001b[0m\u001b[0;34m\u001b[0m\u001b[0m\n\u001b[0;32m--> 536\u001b[0;31m         \u001b[0mts\u001b[0m \u001b[0;34m=\u001b[0m \u001b[0mTimestamp\u001b[0m\u001b[0;34m(\u001b[0m\u001b[0mx\u001b[0m\u001b[0;34m,\u001b[0m \u001b[0mtz\u001b[0m\u001b[0;34m=\u001b[0m\u001b[0mself\u001b[0m\u001b[0;34m.\u001b[0m\u001b[0mtz\u001b[0m\u001b[0;34m)\u001b[0m\u001b[0;34m\u001b[0m\u001b[0;34m\u001b[0m\u001b[0m\n\u001b[0m\u001b[1;32m    537\u001b[0m         \u001b[0;31m# Non-overlapping identity check (left operand type: \"Timestamp\",\u001b[0m\u001b[0;34m\u001b[0m\u001b[0;34m\u001b[0m\u001b[0;34m\u001b[0m\u001b[0m\n\u001b[1;32m    538\u001b[0m         \u001b[0;31m# right operand type: \"NaTType\")\u001b[0m\u001b[0;34m\u001b[0m\u001b[0;34m\u001b[0m\u001b[0;34m\u001b[0m\u001b[0m\n",
      "\u001b[0;31mKeyboardInterrupt\u001b[0m: "
     ]
    }
   ],
   "source": [
    "\n",
    "ENsal2 = xar.open_mfdataset(glob.glob('ENsal_NoInterp*0Adjusted.nc')[0]).rename({\"POTM\":\"PSAL\"})\n",
    "\n",
    "for i in range(0,7):\n",
    "    if i<=3:\n",
    "        ENsal2= xar.concat((ENsal2,xar.open_mfdataset(glob.glob('ENsal_NoInterp*0Adjusted.nc')[1:][i]).rename({\"POTM\":\"PSAL\"})),'N_PROF')\n",
    "    else : \n",
    "        ENsal2= xar.concat((ENsal2,xar.open_mfdataset(glob.glob('ENsal_NoInterp*0Adjusted.nc')[1:][i])),'N_PROF')\n",
    "timemin=1930\n",
    "timemax=2002\n",
    "indexes = np.char.array(np.linspace(0,500,501,dtype='int').astype('str') ).zfill(3)\n",
    "\n",
    "\n",
    "condit = xar.DataArray((nameplatform == b'MRB'),dims=['N_PROF'])#((ENsal2['PROJECT_NAME'].str[:5]==b'GTSPP')&(ENsal2['PLATFORM_NUMBER'].dropna('N_PROF').str[2:].str.strip().astype('str').isin(indexes)))^(ENsal2['PROJECT_NAME'].str[5:8].isin(b'MRB'))^(ENsal2['PROJECT_NAME'].str[5:8].isin(b'UOR'))\n",
    "\n",
    "moorObs = ENsal2.where(condit,drop=True).reset_coords(['LATITUDE','LONGITUDE']).compute()\n",
    "\n",
    "labofmoor = np.unique(moorObs['PLATFORM_NUMBER'])\n",
    "\n",
    "timebins=np.arange(np.datetime64('19'+str(timemin)[-2:]+'-01-01'),np.datetime64('20'+str(timemax)[-2:]+'-12-31')+15,15)\n",
    "# timebins=np.arange(np.datetime64('19'+str(timemin)[-2:]+'-01-01'),np.datetime64('19'+str(timemax)[-2:]+'-12-31')+15,15)\n",
    "# timebins=np.arange(np.datetime64('1990-01-01'),np.datetime64('1999-12-31')+15,15)\n",
    "\n",
    "if labofmoor.size!=0:\n",
    "    moorObs2 = moorObs.where(moorObs['PLATFORM_NUMBER']==labofmoor[0],drop=True).groupby_bins(group='JULD',bins=timebins).mean(skipna=True).dropna('JULD_bins',how='all').rename_dims({'JULD_bins':'N_PROF'})\n",
    "    moorObs2 = moorObs2.assign_coords({'JULD_bins':(['N_PROF'],np.asanyarray([_.mid for _ in(moorObs2['JULD_bins'].values)]))})\n",
    "\n",
    "    ii=1\n",
    "    for label in labofmoor : \n",
    "        print(str(ii)+'/'+str(labofmoor.shape),end='\\r')\n",
    "        appendix=moorObs.where(moorObs['PLATFORM_NUMBER']==label,drop=True).groupby_bins(group='JULD',bins=timebins).mean(skipna=True).dropna('JULD_bins',how='all').rename_dims({'JULD_bins':'N_PROF'})\n",
    "        appendix = appendix.assign_coords({'JULD_bins':(['N_PROF'],np.asanyarray([_.mid for _ in(appendix['JULD_bins'].values)]))})\n",
    "\n",
    "        moorObs2 =xar.concat((moorObs2,appendix),dim='N_PROF')\n",
    "        ii+=1\n",
    "    \n",
    "    \n",
    "    ENsal3 = xar.concat((ENsal2.where(~condit,drop=True).reset_coords(['LATITUDE','LONGITUDE']).drop(['PROJECT_NAME','PLATFORM_NUMBER']),moorObs2.rename({'JULD_bins':'JULD'})),dim='N_PROF')\n",
    "    \n",
    "else : \n",
    "    ENsal3 =ENsal2.where(~condit,drop=True).reset_coords(['LATITUDE','LONGITUDE']).drop(['PROJECT_NAME','PLATFORM_NUMBER'])\n",
    "    \n",
    "    "
   ]
  },
  {
   "cell_type": "code",
   "execution_count": 152,
   "id": "9efb42ee-69b9-4a9c-81a8-3952b797ad73",
   "metadata": {},
   "outputs": [],
   "source": [
    "\n",
    "ENsal2.to_netcdf('ENsal_NoInterpNoFMoorAdjusted.nc','w')"
   ]
  },
  {
   "cell_type": "code",
   "execution_count": 218,
   "id": "9080f7be-0101-4c0b-9cf2-a5678d78cf70",
   "metadata": {},
   "outputs": [],
   "source": [
    "\n",
    "ENsal2 = xar.open_mfdataset(glob.glob('ENsal_NoInterp*0NoFMoorAdjusted.nc')[0]).rename({\"POTM\":\"PSAL\"})\n",
    "\n",
    "for i in range(0,7):\n",
    "\n",
    "    if i<=3:\n",
    "        ENsal2= xar.concat((ENsal2,xar.open_mfdataset(glob.glob('ENsal_NoInterp*0NoFMoorAdjusted.nc')[1:][i]).rename({\"POTM\":\"PSAL\"})),'N_PROF')\n",
    "    else : \n",
    "        ENsal2= xar.concat((ENsal2,xar.open_mfdataset(glob.glob('ENsal_NoInterp*0NoFMoorAdjusted.nc')[1:][i])),'N_PROF')\n",
    "    "
   ]
  },
  {
   "cell_type": "code",
   "execution_count": 219,
   "id": "8ad1f16e-37a1-451f-bc8f-df611bca5877",
   "metadata": {},
   "outputs": [],
   "source": [
    "test2 = np.zeros((ENsal2['N_PROF'].size))\n",
    "test2[:test[~condit].size] = test[~condit]\n",
    "test2[test[~condit].size:]+= .3\n",
    "\n",
    "nameplatform2 = np.concatenate((nameplatform[~condit].copy(),np.repeat(np.array([ b'MRB']),np.abs(test2.shape[0]-nameplatform[~condit].shape[0]))))\n",
    "# nameplatform2=  b'MRB'\n"
   ]
  },
  {
   "cell_type": "code",
   "execution_count": 220,
   "id": "f0fcacf8-37e6-4e74-a0cd-e8252a1206a7",
   "metadata": {},
   "outputs": [],
   "source": [
    "xar.Dataset({'PLATFORM':(['N_PROF'],nameplatform2),'Err':(['N_PROF'],test2)}).to_netcdf('ENsal_NoInterp_Err_moretime_NoFMoorAdjusted.nc')"
   ]
  },
  {
   "cell_type": "code",
   "execution_count": 143,
   "id": "42aed52a-f1a6-4531-b50d-938aafe9666f",
   "metadata": {},
   "outputs": [],
   "source": [
    "ENsal3.to_netcdf('ENsal_NoInterpNoFMoorAdjusted.nc','w')"
   ]
  },
  {
   "cell_type": "code",
   "execution_count": null,
   "id": "77795766-51d2-4404-83cf-bdae728f372e",
   "metadata": {},
   "outputs": [],
   "source": []
  },
  {
   "cell_type": "markdown",
   "id": "1488f1d7-1b7c-4658-994c-5fe57be35434",
   "metadata": {},
   "source": [
    "# EN4 DATA TREATMENT"
   ]
  },
  {
   "cell_type": "code",
   "execution_count": 11,
   "id": "d3a5b8fb-b319-4667-9d5f-baf1dd022ecb",
   "metadata": {},
   "outputs": [],
   "source": [
    "test=xar.open_mfdataset(glob.glob(\"/EN4/ANALYSIS/*/*.nc\"),parallel=True).interp(depth=RC['depth'],method=\"linear\", kwargs={\"fill_value\": \"extrapolate\"})\n",
    "\n",
    "res=1\n",
    "\n",
    "latmin,latmax,lonmin,lonmax=np.floor(RC['latitude'].min()).values-res,np.ceil(RC['latitude'].max()).values+res,np.floor(RC['longitude'].min()).values-res,np.ceil(RC['longitude'].max()).values+res\n",
    "\n",
    "    \n",
    "bins=[x for x in np.linspace(latmin-res*(latmax-latmin)%res,latmax,int((-latmin+(latmax+res*(latmax-latmin)%res)))//res+1)]\n",
    "\n",
    "EN4test=test['temperature'].sel({'lat':slice(latmin,latmax),'lon':slice(lonmin,lonmax)}).coarsen({'lon':res},\"trim\").mean().groupby_bins('lat',bins).mean().rename({'lat_bins':'lat'})\n",
    "EN4test['lat']=np.asanyarray([_.mid for _ in(EN4test['lat'].values)])\n",
    "EN4teststd=test['temperature_uncertainty'].sel({'lat':slice(latmin,latmax),'lon':slice(lonmin,lonmax)}).coarsen({'lon':res},\"trim\").mean().groupby_bins('lat',bins).mean().rename({'lat_bins':'lat'})\n",
    "EN4teststd['lat']=np.asanyarray([_.mid for _ in(EN4teststd['lat'].values)])\n",
    "EN4test=EN4test-273.15 #-ds3['temp_bck'].values\n",
    "\n",
    "EN4test=EN4test.interp({'lat':np.linspace(RC['latitude'].values[0],RC['latitude'].values[-1],37),'lon':np.linspace(RC['longitude'][0],RC['longitude'][-1],308-101+1)}).compute()\n",
    "EN4teststd=EN4teststd.interp({'lat':np.linspace(RC['latitude'].values[0],RC['latitude'].values[-1],37),'lon':np.linspace(RC['longitude'][0],RC['longitude'][-1],308-101+1)}).compute()\n",
    "\n",
    "# EN4test=EN4test.interp_like(RC['TEMP'][0,0].squeeze().rename({'latitude':'lat','longitude':'lon'})).compute()\n",
    "# EN4teststd=EN4teststd.interp_like(RC['TEMP'][0,0].squeeze().rename({'latitude':'lat','longitude':'lon'})).compute()\n",
    "\n",
    "# EN4test2=test['salinity'].sel({'lat':slice(latmin,latmax),'lon':slice(lonmin+360,lonmax+360)})[:,0].coarsen({'lon':2},\"trim\").mean().coarsen({'lat':2},\"trim\").mean()\n",
    "# EN4teststd2=test['salinity_uncertainty'].sel({'lat':slice(latmin,latmax),'lon':slice(lonmin+360,lonmax+360)})[:,0].coarsen({'lon':2},\"trim\").mean().coarsen({'lat':2},\"trim\").mean()\n",
    "# EN4test2=EN4test2-ds3['psal_bck'].values\n",
    "\n"
   ]
  },
  {
   "cell_type": "code",
   "execution_count": 12,
   "id": "2bfe63ca-9682-4b8f-9be9-403ba43c6e77",
   "metadata": {},
   "outputs": [],
   "source": [
    "EN4clim = EN4test.groupby(\"time.month\").mean().rename({'EN4_Climato'})\n",
    "\n",
    "EN4test = xar.Dataset({'Temp':EN4test.groupby('time.month')-EN4clim,'Climato':EN4clim,'Std':EN4teststd}).assign({'time2':((EN4test['time'].data.astype('datetime64[D]')-np.datetime64('1950-01-01')).astype('timedelta64[D]').astype('float64'))})\n",
    "\n",
    "JULTIME=((EN4test['time'].data.astype('datetime64[D]')-np.datetime64('1950-01-01')).astype('timedelta64[D]').astype('float64'))\n",
    "EN4test.coords['time2']=EN4test.coords['time']\n",
    "EN4test.coords['time']=JULTIME\n",
    "\n",
    "\n",
    "EN4test.to_netcdf('EN4_FULL_Pac.nc','w')"
   ]
  },
  {
   "cell_type": "code",
   "execution_count": null,
   "id": "f02115a1-661c-4792-b549-c096756bf79a",
   "metadata": {},
   "outputs": [],
   "source": []
  },
  {
   "cell_type": "code",
   "execution_count": 8,
   "id": "0d35408f-730b-45b5-b18c-c5bbd7199aeb",
   "metadata": {},
   "outputs": [],
   "source": [
    "RC=xar.open_mfdataset('RC_Pac_TPOT_moredepths.nc')\n",
    "\n",
    "test=xar.open_mfdataset(glob.glob(\"/EN4/ANALYSIS/*/*.nc\"),parallel=True)\n",
    "test=test.interp(depth=RC['depth'],method=\"linear\", kwargs={\"fill_value\": \"extrapolate\"})\n",
    "\n",
    "res=1\n",
    "\n",
    "latmin,latmax,lonmin,lonmax=np.floor(RC['latitude'].min()).values-res,np.ceil(RC['latitude'].max()).values+res,np.floor(RC['longitude'].min()).values-res,np.ceil(RC['longitude'].max()).values+res\n",
    "\n",
    "    \n",
    "bins=[x for x in np.linspace(latmin-res*(latmax-latmin)%res,latmax,int((-latmin+(latmax+res*(latmax-latmin)%res)))//res+1)]\n",
    "\n",
    "EN4test=test['salinity'].sel({'lat':slice(latmin,latmax),'lon':slice(lonmin,lonmax)}).coarsen({'lon':res},\"trim\").mean().groupby_bins('lat',bins).mean().rename({'lat_bins':'lat'})\n",
    "EN4test['lat']=np.asanyarray([_.mid for _ in(EN4test['lat'].values)])\n",
    "EN4teststd=test['salinity_uncertainty'].sel({'lat':slice(latmin,latmax),'lon':slice(lonmin,lonmax)}).coarsen({'lon':res},\"trim\").mean().groupby_bins('lat',bins).mean().rename({'lat_bins':'lat'})\n",
    "EN4teststd['lat']=np.asanyarray([_.mid for _ in(EN4teststd['lat'].values)])\n",
    "\n",
    "\n",
    "EN4test=EN4test.interp({'lat':np.linspace(RC['latitude'].values[0],RC['latitude'].values[-1],37),'lon':np.linspace(RC['longitude'][0],RC['longitude'][-1],308-101+1)}).compute()\n",
    "EN4teststd=EN4teststd.interp({'lat':np.linspace(RC['latitude'].values[0],RC['latitude'].values[-1],37),'lon':np.linspace(RC['longitude'][0],RC['longitude'][-1],308-101+1)}).compute()\n",
    "\n",
    "# EN4test=EN4test.interp_like(RC['TEMP'][0,0].squeeze().rename({'latitude':'lat','longitude':'lon'})).compute()\n",
    "# EN4teststd=EN4teststd.interp_like(RC['TEMP'][0,0].squeeze().rename({'latitude':'lat','longitude':'lon'})).compute()\n",
    "\n",
    "# EN4test2=test['salinity'].sel({'lat':slice(latmin,latmax),'lon':slice(lonmin+360,lonmax+360)})[:,0].coarsen({'lon':2},\"trim\").mean().coarsen({'lat':2},\"trim\").mean()\n",
    "# EN4teststd2=test['salinity_uncertainty'].sel({'lat':slice(latmin,latmax),'lon':slice(lonmin+360,lonmax+360)})[:,0].coarsen({'lon':2},\"trim\").mean().coarsen({'lat':2},\"trim\").mean()\n",
    "# EN4test2=EN4test2-ds3['psal_bck'].values\n",
    "\n"
   ]
  },
  {
   "cell_type": "code",
   "execution_count": 9,
   "id": "2991b7a3-85f1-4dee-93b9-223078aa62dc",
   "metadata": {},
   "outputs": [],
   "source": [
    "EN4clim = EN4test.groupby(\"time.month\").mean().rename({'EN4_SClimato'})\n",
    "\n",
    "EN4test = xar.Dataset({'Psal':EN4test.groupby('time.month')-EN4clim,'SClimato':EN4clim,'SStd':EN4teststd}).assign({'time2':((EN4test['time'].data.astype('datetime64[D]')-np.datetime64('1950-01-01')).astype('timedelta64[D]').astype('float64'))})\n",
    "\n",
    "JULTIME=((EN4test['time'].data.astype('datetime64[D]')-np.datetime64('1950-01-01')).astype('timedelta64[D]').astype('float64'))\n",
    "EN4test.coords['time2']=EN4test.coords['time']\n",
    "EN4test.coords['time']=JULTIME\n",
    "\n",
    "\n",
    "EN4test.to_netcdf('EN4_Salinity_FULL_Pac.nc','w')"
   ]
  },
  {
   "cell_type": "markdown",
   "id": "6c454779-8b1b-42a7-81b9-f901e5190e06",
   "metadata": {},
   "source": [
    "# IAP DATA TREATMENT"
   ]
  },
  {
   "cell_type": "code",
   "execution_count": 28,
   "id": "0999da87-63df-4797-9246-95ed9e30cfde",
   "metadata": {},
   "outputs": [
    {
     "name": "stderr",
     "output_type": "stream",
     "text": [
      "/tmp/ipykernel_1813272/734563555.py:18: UserWarning: Converting non-nanosecond precision datetime values to nanosecond precision. This behavior can eventually be relaxed in xarray, as it is an artifact from pandas which is now beginning to support non-nanosecond precision values. This warning is caused by passing non-nanosecond np.datetime64 or np.timedelta64 values to the DataArray or Variable constructor; it can be silenced by converting the values to nanosecond precision ahead of time.\n",
      "  IAPtest.assign({'time':(['time'],np.arange(np.datetime64('1940-01'),np.datetime64('2023-01'),np.timedelta64('1','M')))})\n",
      "/tmp/ipykernel_1813272/734563555.py:18: UserWarning: Converting non-nanosecond precision datetime values to nanosecond precision. This behavior can eventually be relaxed in xarray, as it is an artifact from pandas which is now beginning to support non-nanosecond precision values. This warning is caused by passing non-nanosecond np.datetime64 or np.timedelta64 values to the DataArray or Variable constructor; it can be silenced by converting the values to nanosecond precision ahead of time.\n",
      "  IAPtest.assign({'time':(['time'],np.arange(np.datetime64('1940-01'),np.datetime64('2023-01'),np.timedelta64('1','M')))})\n"
     ]
    },
    {
     "data": {
      "text/html": [
       "<div><svg style=\"position: absolute; width: 0; height: 0; overflow: hidden\">\n",
       "<defs>\n",
       "<symbol id=\"icon-database\" viewBox=\"0 0 32 32\">\n",
       "<path d=\"M16 0c-8.837 0-16 2.239-16 5v4c0 2.761 7.163 5 16 5s16-2.239 16-5v-4c0-2.761-7.163-5-16-5z\"></path>\n",
       "<path d=\"M16 17c-8.837 0-16-2.239-16-5v6c0 2.761 7.163 5 16 5s16-2.239 16-5v-6c0 2.761-7.163 5-16 5z\"></path>\n",
       "<path d=\"M16 26c-8.837 0-16-2.239-16-5v6c0 2.761 7.163 5 16 5s16-2.239 16-5v-6c0 2.761-7.163 5-16 5z\"></path>\n",
       "</symbol>\n",
       "<symbol id=\"icon-file-text2\" viewBox=\"0 0 32 32\">\n",
       "<path d=\"M28.681 7.159c-0.694-0.947-1.662-2.053-2.724-3.116s-2.169-2.030-3.116-2.724c-1.612-1.182-2.393-1.319-2.841-1.319h-15.5c-1.378 0-2.5 1.121-2.5 2.5v27c0 1.378 1.122 2.5 2.5 2.5h23c1.378 0 2.5-1.122 2.5-2.5v-19.5c0-0.448-0.137-1.23-1.319-2.841zM24.543 5.457c0.959 0.959 1.712 1.825 2.268 2.543h-4.811v-4.811c0.718 0.556 1.584 1.309 2.543 2.268zM28 29.5c0 0.271-0.229 0.5-0.5 0.5h-23c-0.271 0-0.5-0.229-0.5-0.5v-27c0-0.271 0.229-0.5 0.5-0.5 0 0 15.499-0 15.5 0v7c0 0.552 0.448 1 1 1h7v19.5z\"></path>\n",
       "<path d=\"M23 26h-14c-0.552 0-1-0.448-1-1s0.448-1 1-1h14c0.552 0 1 0.448 1 1s-0.448 1-1 1z\"></path>\n",
       "<path d=\"M23 22h-14c-0.552 0-1-0.448-1-1s0.448-1 1-1h14c0.552 0 1 0.448 1 1s-0.448 1-1 1z\"></path>\n",
       "<path d=\"M23 18h-14c-0.552 0-1-0.448-1-1s0.448-1 1-1h14c0.552 0 1 0.448 1 1s-0.448 1-1 1z\"></path>\n",
       "</symbol>\n",
       "</defs>\n",
       "</svg>\n",
       "<style>/* CSS stylesheet for displaying xarray objects in jupyterlab.\n",
       " *\n",
       " */\n",
       "\n",
       ":root {\n",
       "  --xr-font-color0: var(--jp-content-font-color0, rgba(0, 0, 0, 1));\n",
       "  --xr-font-color2: var(--jp-content-font-color2, rgba(0, 0, 0, 0.54));\n",
       "  --xr-font-color3: var(--jp-content-font-color3, rgba(0, 0, 0, 0.38));\n",
       "  --xr-border-color: var(--jp-border-color2, #e0e0e0);\n",
       "  --xr-disabled-color: var(--jp-layout-color3, #bdbdbd);\n",
       "  --xr-background-color: var(--jp-layout-color0, white);\n",
       "  --xr-background-color-row-even: var(--jp-layout-color1, white);\n",
       "  --xr-background-color-row-odd: var(--jp-layout-color2, #eeeeee);\n",
       "}\n",
       "\n",
       "html[theme=dark],\n",
       "body[data-theme=dark],\n",
       "body.vscode-dark {\n",
       "  --xr-font-color0: rgba(255, 255, 255, 1);\n",
       "  --xr-font-color2: rgba(255, 255, 255, 0.54);\n",
       "  --xr-font-color3: rgba(255, 255, 255, 0.38);\n",
       "  --xr-border-color: #1F1F1F;\n",
       "  --xr-disabled-color: #515151;\n",
       "  --xr-background-color: #111111;\n",
       "  --xr-background-color-row-even: #111111;\n",
       "  --xr-background-color-row-odd: #313131;\n",
       "}\n",
       "\n",
       ".xr-wrap {\n",
       "  display: block !important;\n",
       "  min-width: 300px;\n",
       "  max-width: 700px;\n",
       "}\n",
       "\n",
       ".xr-text-repr-fallback {\n",
       "  /* fallback to plain text repr when CSS is not injected (untrusted notebook) */\n",
       "  display: none;\n",
       "}\n",
       "\n",
       ".xr-header {\n",
       "  padding-top: 6px;\n",
       "  padding-bottom: 6px;\n",
       "  margin-bottom: 4px;\n",
       "  border-bottom: solid 1px var(--xr-border-color);\n",
       "}\n",
       "\n",
       ".xr-header > div,\n",
       ".xr-header > ul {\n",
       "  display: inline;\n",
       "  margin-top: 0;\n",
       "  margin-bottom: 0;\n",
       "}\n",
       "\n",
       ".xr-obj-type,\n",
       ".xr-array-name {\n",
       "  margin-left: 2px;\n",
       "  margin-right: 10px;\n",
       "}\n",
       "\n",
       ".xr-obj-type {\n",
       "  color: var(--xr-font-color2);\n",
       "}\n",
       "\n",
       ".xr-sections {\n",
       "  padding-left: 0 !important;\n",
       "  display: grid;\n",
       "  grid-template-columns: 150px auto auto 1fr 20px 20px;\n",
       "}\n",
       "\n",
       ".xr-section-item {\n",
       "  display: contents;\n",
       "}\n",
       "\n",
       ".xr-section-item input {\n",
       "  display: none;\n",
       "}\n",
       "\n",
       ".xr-section-item input + label {\n",
       "  color: var(--xr-disabled-color);\n",
       "}\n",
       "\n",
       ".xr-section-item input:enabled + label {\n",
       "  cursor: pointer;\n",
       "  color: var(--xr-font-color2);\n",
       "}\n",
       "\n",
       ".xr-section-item input:enabled + label:hover {\n",
       "  color: var(--xr-font-color0);\n",
       "}\n",
       "\n",
       ".xr-section-summary {\n",
       "  grid-column: 1;\n",
       "  color: var(--xr-font-color2);\n",
       "  font-weight: 500;\n",
       "}\n",
       "\n",
       ".xr-section-summary > span {\n",
       "  display: inline-block;\n",
       "  padding-left: 0.5em;\n",
       "}\n",
       "\n",
       ".xr-section-summary-in:disabled + label {\n",
       "  color: var(--xr-font-color2);\n",
       "}\n",
       "\n",
       ".xr-section-summary-in + label:before {\n",
       "  display: inline-block;\n",
       "  content: '►';\n",
       "  font-size: 11px;\n",
       "  width: 15px;\n",
       "  text-align: center;\n",
       "}\n",
       "\n",
       ".xr-section-summary-in:disabled + label:before {\n",
       "  color: var(--xr-disabled-color);\n",
       "}\n",
       "\n",
       ".xr-section-summary-in:checked + label:before {\n",
       "  content: '▼';\n",
       "}\n",
       "\n",
       ".xr-section-summary-in:checked + label > span {\n",
       "  display: none;\n",
       "}\n",
       "\n",
       ".xr-section-summary,\n",
       ".xr-section-inline-details {\n",
       "  padding-top: 4px;\n",
       "  padding-bottom: 4px;\n",
       "}\n",
       "\n",
       ".xr-section-inline-details {\n",
       "  grid-column: 2 / -1;\n",
       "}\n",
       "\n",
       ".xr-section-details {\n",
       "  display: none;\n",
       "  grid-column: 1 / -1;\n",
       "  margin-bottom: 5px;\n",
       "}\n",
       "\n",
       ".xr-section-summary-in:checked ~ .xr-section-details {\n",
       "  display: contents;\n",
       "}\n",
       "\n",
       ".xr-array-wrap {\n",
       "  grid-column: 1 / -1;\n",
       "  display: grid;\n",
       "  grid-template-columns: 20px auto;\n",
       "}\n",
       "\n",
       ".xr-array-wrap > label {\n",
       "  grid-column: 1;\n",
       "  vertical-align: top;\n",
       "}\n",
       "\n",
       ".xr-preview {\n",
       "  color: var(--xr-font-color3);\n",
       "}\n",
       "\n",
       ".xr-array-preview,\n",
       ".xr-array-data {\n",
       "  padding: 0 5px !important;\n",
       "  grid-column: 2;\n",
       "}\n",
       "\n",
       ".xr-array-data,\n",
       ".xr-array-in:checked ~ .xr-array-preview {\n",
       "  display: none;\n",
       "}\n",
       "\n",
       ".xr-array-in:checked ~ .xr-array-data,\n",
       ".xr-array-preview {\n",
       "  display: inline-block;\n",
       "}\n",
       "\n",
       ".xr-dim-list {\n",
       "  display: inline-block !important;\n",
       "  list-style: none;\n",
       "  padding: 0 !important;\n",
       "  margin: 0;\n",
       "}\n",
       "\n",
       ".xr-dim-list li {\n",
       "  display: inline-block;\n",
       "  padding: 0;\n",
       "  margin: 0;\n",
       "}\n",
       "\n",
       ".xr-dim-list:before {\n",
       "  content: '(';\n",
       "}\n",
       "\n",
       ".xr-dim-list:after {\n",
       "  content: ')';\n",
       "}\n",
       "\n",
       ".xr-dim-list li:not(:last-child):after {\n",
       "  content: ',';\n",
       "  padding-right: 5px;\n",
       "}\n",
       "\n",
       ".xr-has-index {\n",
       "  font-weight: bold;\n",
       "}\n",
       "\n",
       ".xr-var-list,\n",
       ".xr-var-item {\n",
       "  display: contents;\n",
       "}\n",
       "\n",
       ".xr-var-item > div,\n",
       ".xr-var-item label,\n",
       ".xr-var-item > .xr-var-name span {\n",
       "  background-color: var(--xr-background-color-row-even);\n",
       "  margin-bottom: 0;\n",
       "}\n",
       "\n",
       ".xr-var-item > .xr-var-name:hover span {\n",
       "  padding-right: 5px;\n",
       "}\n",
       "\n",
       ".xr-var-list > li:nth-child(odd) > div,\n",
       ".xr-var-list > li:nth-child(odd) > label,\n",
       ".xr-var-list > li:nth-child(odd) > .xr-var-name span {\n",
       "  background-color: var(--xr-background-color-row-odd);\n",
       "}\n",
       "\n",
       ".xr-var-name {\n",
       "  grid-column: 1;\n",
       "}\n",
       "\n",
       ".xr-var-dims {\n",
       "  grid-column: 2;\n",
       "}\n",
       "\n",
       ".xr-var-dtype {\n",
       "  grid-column: 3;\n",
       "  text-align: right;\n",
       "  color: var(--xr-font-color2);\n",
       "}\n",
       "\n",
       ".xr-var-preview {\n",
       "  grid-column: 4;\n",
       "}\n",
       "\n",
       ".xr-index-preview {\n",
       "  grid-column: 2 / 5;\n",
       "  color: var(--xr-font-color2);\n",
       "}\n",
       "\n",
       ".xr-var-name,\n",
       ".xr-var-dims,\n",
       ".xr-var-dtype,\n",
       ".xr-preview,\n",
       ".xr-attrs dt {\n",
       "  white-space: nowrap;\n",
       "  overflow: hidden;\n",
       "  text-overflow: ellipsis;\n",
       "  padding-right: 10px;\n",
       "}\n",
       "\n",
       ".xr-var-name:hover,\n",
       ".xr-var-dims:hover,\n",
       ".xr-var-dtype:hover,\n",
       ".xr-attrs dt:hover {\n",
       "  overflow: visible;\n",
       "  width: auto;\n",
       "  z-index: 1;\n",
       "}\n",
       "\n",
       ".xr-var-attrs,\n",
       ".xr-var-data,\n",
       ".xr-index-data {\n",
       "  display: none;\n",
       "  background-color: var(--xr-background-color) !important;\n",
       "  padding-bottom: 5px !important;\n",
       "}\n",
       "\n",
       ".xr-var-attrs-in:checked ~ .xr-var-attrs,\n",
       ".xr-var-data-in:checked ~ .xr-var-data,\n",
       ".xr-index-data-in:checked ~ .xr-index-data {\n",
       "  display: block;\n",
       "}\n",
       "\n",
       ".xr-var-data > table {\n",
       "  float: right;\n",
       "}\n",
       "\n",
       ".xr-var-name span,\n",
       ".xr-var-data,\n",
       ".xr-index-name div,\n",
       ".xr-index-data,\n",
       ".xr-attrs {\n",
       "  padding-left: 25px !important;\n",
       "}\n",
       "\n",
       ".xr-attrs,\n",
       ".xr-var-attrs,\n",
       ".xr-var-data,\n",
       ".xr-index-data {\n",
       "  grid-column: 1 / -1;\n",
       "}\n",
       "\n",
       "dl.xr-attrs {\n",
       "  padding: 0;\n",
       "  margin: 0;\n",
       "  display: grid;\n",
       "  grid-template-columns: 125px auto;\n",
       "}\n",
       "\n",
       ".xr-attrs dt,\n",
       ".xr-attrs dd {\n",
       "  padding: 0;\n",
       "  margin: 0;\n",
       "  float: left;\n",
       "  padding-right: 10px;\n",
       "  width: auto;\n",
       "}\n",
       "\n",
       ".xr-attrs dt {\n",
       "  font-weight: normal;\n",
       "  grid-column: 1;\n",
       "}\n",
       "\n",
       ".xr-attrs dt:hover span {\n",
       "  display: inline-block;\n",
       "  background: var(--xr-background-color);\n",
       "  padding-right: 10px;\n",
       "}\n",
       "\n",
       ".xr-attrs dd {\n",
       "  grid-column: 2;\n",
       "  white-space: pre-wrap;\n",
       "  word-break: break-all;\n",
       "}\n",
       "\n",
       ".xr-icon-database,\n",
       ".xr-icon-file-text2,\n",
       ".xr-no-icon {\n",
       "  display: inline-block;\n",
       "  vertical-align: middle;\n",
       "  width: 1em;\n",
       "  height: 1.5em !important;\n",
       "  stroke-width: 0;\n",
       "  stroke: currentColor;\n",
       "  fill: currentColor;\n",
       "}\n",
       "</style><pre class='xr-text-repr-fallback'>&lt;xarray.Dataset&gt;\n",
       "Dimensions:    (time: 996, lat: 50, lon: 168, depth_std: 119)\n",
       "Coordinates:\n",
       "  * lat        (lat) float32 -24.5 -23.5 -22.5 -21.5 ... 21.5 22.5 23.5 24.5\n",
       "  * lon        (lon) float32 120.5 121.5 122.5 123.5 ... 284.5 285.5 286.5 287.5\n",
       "  * time       (time) datetime64[ns] 1940-01-01 1940-02-01 ... 2022-12-01\n",
       "  * depth_std  (depth_std) float32 1.0 5.0 10.0 15.0 ... 5.8e+03 5.9e+03 6e+03\n",
       "Data variables:\n",
       "    temp       (time, lat, lon, depth_std) float32 dask.array&lt;chunksize=(1, 50, 168, 119), meta=np.ndarray&gt;\n",
       "Attributes:\n",
       "    Title:           IAP 3-Dimentional Subsurface Temperature Dataset Using O...\n",
       "    StartYear:       1940\n",
       "    StartMonth:      1\n",
       "    StartDay:        1\n",
       "    EndYear:         1940\n",
       "    EndMonth:        1\n",
       "    EndDay:          30\n",
       "    Period:          1\n",
       "    GridProjection:  Mercator, gridded\n",
       "    GridPoints:      360x180\n",
       "    Creator:         Lijing Cheng From IAP,CAS,P.R.China\n",
       "    Reference:       Cheng and Zhu 2016. Journal of Climate; Cheng et al. 201...</pre><div class='xr-wrap' style='display:none'><div class='xr-header'><div class='xr-obj-type'>xarray.Dataset</div></div><ul class='xr-sections'><li class='xr-section-item'><input id='section-d716adf8-4409-4118-a169-fa731970a320' class='xr-section-summary-in' type='checkbox' disabled ><label for='section-d716adf8-4409-4118-a169-fa731970a320' class='xr-section-summary'  title='Expand/collapse section'>Dimensions:</label><div class='xr-section-inline-details'><ul class='xr-dim-list'><li><span class='xr-has-index'>time</span>: 996</li><li><span class='xr-has-index'>lat</span>: 50</li><li><span class='xr-has-index'>lon</span>: 168</li><li><span class='xr-has-index'>depth_std</span>: 119</li></ul></div><div class='xr-section-details'></div></li><li class='xr-section-item'><input id='section-f0cef85d-700a-4283-ade9-a262e564c8cb' class='xr-section-summary-in' type='checkbox'  checked><label for='section-f0cef85d-700a-4283-ade9-a262e564c8cb' class='xr-section-summary' >Coordinates: <span>(4)</span></label><div class='xr-section-inline-details'></div><div class='xr-section-details'><ul class='xr-var-list'><li class='xr-var-item'><div class='xr-var-name'><span class='xr-has-index'>lat</span></div><div class='xr-var-dims'>(lat)</div><div class='xr-var-dtype'>float32</div><div class='xr-var-preview xr-preview'>-24.5 -23.5 -22.5 ... 23.5 24.5</div><input id='attrs-805aa363-82d3-4e7a-b82c-cbdb9f263b5f' class='xr-var-attrs-in' type='checkbox' ><label for='attrs-805aa363-82d3-4e7a-b82c-cbdb9f263b5f' title='Show/Hide attributes'><svg class='icon xr-icon-file-text2'><use xlink:href='#icon-file-text2'></use></svg></label><input id='data-6806149f-92be-4020-ab24-20cbd1e4ea48' class='xr-var-data-in' type='checkbox'><label for='data-6806149f-92be-4020-ab24-20cbd1e4ea48' title='Show/Hide data repr'><svg class='icon xr-icon-database'><use xlink:href='#icon-database'></use></svg></label><div class='xr-var-attrs'><dl class='xr-attrs'><dt><span>long_name :</span></dt><dd>latitude</dd><dt><span>units :</span></dt><dd>degree_north</dd><dt><span>standard_name :</span></dt><dd>latitude</dd></dl></div><div class='xr-var-data'><pre>array([-24.5, -23.5, -22.5, -21.5, -20.5, -19.5, -18.5, -17.5, -16.5, -15.5,\n",
       "       -14.5, -13.5, -12.5, -11.5, -10.5,  -9.5,  -8.5,  -7.5,  -6.5,  -5.5,\n",
       "        -4.5,  -3.5,  -2.5,  -1.5,  -0.5,   0.5,   1.5,   2.5,   3.5,   4.5,\n",
       "         5.5,   6.5,   7.5,   8.5,   9.5,  10.5,  11.5,  12.5,  13.5,  14.5,\n",
       "        15.5,  16.5,  17.5,  18.5,  19.5,  20.5,  21.5,  22.5,  23.5,  24.5],\n",
       "      dtype=float32)</pre></div></li><li class='xr-var-item'><div class='xr-var-name'><span class='xr-has-index'>lon</span></div><div class='xr-var-dims'>(lon)</div><div class='xr-var-dtype'>float32</div><div class='xr-var-preview xr-preview'>120.5 121.5 122.5 ... 286.5 287.5</div><input id='attrs-55ea7cd8-db53-4ace-9840-652e21093779' class='xr-var-attrs-in' type='checkbox' ><label for='attrs-55ea7cd8-db53-4ace-9840-652e21093779' title='Show/Hide attributes'><svg class='icon xr-icon-file-text2'><use xlink:href='#icon-file-text2'></use></svg></label><input id='data-708c9401-a6f5-4a59-b352-48dac9b4ef77' class='xr-var-data-in' type='checkbox'><label for='data-708c9401-a6f5-4a59-b352-48dac9b4ef77' title='Show/Hide data repr'><svg class='icon xr-icon-database'><use xlink:href='#icon-database'></use></svg></label><div class='xr-var-attrs'><dl class='xr-attrs'><dt><span>long_name :</span></dt><dd>longitude</dd><dt><span>units :</span></dt><dd>degree_east</dd><dt><span>standard_name :</span></dt><dd>longitude</dd></dl></div><div class='xr-var-data'><pre>array([120.5, 121.5, 122.5, 123.5, 124.5, 125.5, 126.5, 127.5, 128.5, 129.5,\n",
       "       130.5, 131.5, 132.5, 133.5, 134.5, 135.5, 136.5, 137.5, 138.5, 139.5,\n",
       "       140.5, 141.5, 142.5, 143.5, 144.5, 145.5, 146.5, 147.5, 148.5, 149.5,\n",
       "       150.5, 151.5, 152.5, 153.5, 154.5, 155.5, 156.5, 157.5, 158.5, 159.5,\n",
       "       160.5, 161.5, 162.5, 163.5, 164.5, 165.5, 166.5, 167.5, 168.5, 169.5,\n",
       "       170.5, 171.5, 172.5, 173.5, 174.5, 175.5, 176.5, 177.5, 178.5, 179.5,\n",
       "       180.5, 181.5, 182.5, 183.5, 184.5, 185.5, 186.5, 187.5, 188.5, 189.5,\n",
       "       190.5, 191.5, 192.5, 193.5, 194.5, 195.5, 196.5, 197.5, 198.5, 199.5,\n",
       "       200.5, 201.5, 202.5, 203.5, 204.5, 205.5, 206.5, 207.5, 208.5, 209.5,\n",
       "       210.5, 211.5, 212.5, 213.5, 214.5, 215.5, 216.5, 217.5, 218.5, 219.5,\n",
       "       220.5, 221.5, 222.5, 223.5, 224.5, 225.5, 226.5, 227.5, 228.5, 229.5,\n",
       "       230.5, 231.5, 232.5, 233.5, 234.5, 235.5, 236.5, 237.5, 238.5, 239.5,\n",
       "       240.5, 241.5, 242.5, 243.5, 244.5, 245.5, 246.5, 247.5, 248.5, 249.5,\n",
       "       250.5, 251.5, 252.5, 253.5, 254.5, 255.5, 256.5, 257.5, 258.5, 259.5,\n",
       "       260.5, 261.5, 262.5, 263.5, 264.5, 265.5, 266.5, 267.5, 268.5, 269.5,\n",
       "       270.5, 271.5, 272.5, 273.5, 274.5, 275.5, 276.5, 277.5, 278.5, 279.5,\n",
       "       280.5, 281.5, 282.5, 283.5, 284.5, 285.5, 286.5, 287.5], dtype=float32)</pre></div></li><li class='xr-var-item'><div class='xr-var-name'><span class='xr-has-index'>time</span></div><div class='xr-var-dims'>(time)</div><div class='xr-var-dtype'>datetime64[ns]</div><div class='xr-var-preview xr-preview'>1940-01-01 ... 2022-12-01</div><input id='attrs-a2bf77d7-2dd6-4c83-8054-fdd65098c5d9' class='xr-var-attrs-in' type='checkbox' disabled><label for='attrs-a2bf77d7-2dd6-4c83-8054-fdd65098c5d9' title='Show/Hide attributes'><svg class='icon xr-icon-file-text2'><use xlink:href='#icon-file-text2'></use></svg></label><input id='data-6c077440-a2a8-43a2-822a-d72adb9076b1' class='xr-var-data-in' type='checkbox'><label for='data-6c077440-a2a8-43a2-822a-d72adb9076b1' title='Show/Hide data repr'><svg class='icon xr-icon-database'><use xlink:href='#icon-database'></use></svg></label><div class='xr-var-attrs'><dl class='xr-attrs'></dl></div><div class='xr-var-data'><pre>array([&#x27;1940-01-01T00:00:00.000000000&#x27;, &#x27;1940-02-01T00:00:00.000000000&#x27;,\n",
       "       &#x27;1940-03-01T00:00:00.000000000&#x27;, ..., &#x27;2022-10-01T00:00:00.000000000&#x27;,\n",
       "       &#x27;2022-11-01T00:00:00.000000000&#x27;, &#x27;2022-12-01T00:00:00.000000000&#x27;],\n",
       "      dtype=&#x27;datetime64[ns]&#x27;)</pre></div></li><li class='xr-var-item'><div class='xr-var-name'><span class='xr-has-index'>depth_std</span></div><div class='xr-var-dims'>(depth_std)</div><div class='xr-var-dtype'>float32</div><div class='xr-var-preview xr-preview'>1.0 5.0 10.0 ... 5.9e+03 6e+03</div><input id='attrs-04981f6d-035e-43ac-a697-ff3f423dc144' class='xr-var-attrs-in' type='checkbox' ><label for='attrs-04981f6d-035e-43ac-a697-ff3f423dc144' title='Show/Hide attributes'><svg class='icon xr-icon-file-text2'><use xlink:href='#icon-file-text2'></use></svg></label><input id='data-c2ab70fe-92a2-40a3-9e5e-2bbcd3fd1d09' class='xr-var-data-in' type='checkbox'><label for='data-c2ab70fe-92a2-40a3-9e5e-2bbcd3fd1d09' title='Show/Hide data repr'><svg class='icon xr-icon-database'><use xlink:href='#icon-database'></use></svg></label><div class='xr-var-attrs'><dl class='xr-attrs'><dt><span>long_name :</span></dt><dd>standard depth</dd><dt><span>units :</span></dt><dd>m</dd><dt><span>standard_name :</span></dt><dd>depth_std</dd></dl></div><div class='xr-var-data'><pre>array([1.00e+00, 5.00e+00, 1.00e+01, 1.50e+01, 2.00e+01, 2.50e+01, 3.00e+01,\n",
       "       3.50e+01, 4.00e+01, 4.50e+01, 5.00e+01, 5.50e+01, 6.00e+01, 6.50e+01,\n",
       "       7.00e+01, 7.50e+01, 8.00e+01, 8.50e+01, 9.00e+01, 9.50e+01, 1.00e+02,\n",
       "       1.10e+02, 1.20e+02, 1.30e+02, 1.40e+02, 1.50e+02, 1.60e+02, 1.70e+02,\n",
       "       1.80e+02, 1.90e+02, 2.00e+02, 2.20e+02, 2.40e+02, 2.60e+02, 2.80e+02,\n",
       "       3.00e+02, 3.20e+02, 3.40e+02, 3.60e+02, 3.80e+02, 4.00e+02, 4.25e+02,\n",
       "       4.50e+02, 4.75e+02, 5.00e+02, 5.25e+02, 5.50e+02, 5.75e+02, 6.00e+02,\n",
       "       6.25e+02, 6.50e+02, 6.75e+02, 7.00e+02, 7.50e+02, 8.00e+02, 8.50e+02,\n",
       "       9.00e+02, 9.50e+02, 1.00e+03, 1.05e+03, 1.10e+03, 1.15e+03, 1.20e+03,\n",
       "       1.25e+03, 1.30e+03, 1.35e+03, 1.40e+03, 1.45e+03, 1.50e+03, 1.55e+03,\n",
       "       1.60e+03, 1.65e+03, 1.70e+03, 1.75e+03, 1.80e+03, 1.85e+03, 1.90e+03,\n",
       "       1.95e+03, 2.00e+03, 2.10e+03, 2.20e+03, 2.30e+03, 2.40e+03, 2.50e+03,\n",
       "       2.60e+03, 2.70e+03, 2.80e+03, 2.90e+03, 3.00e+03, 3.10e+03, 3.20e+03,\n",
       "       3.30e+03, 3.40e+03, 3.50e+03, 3.60e+03, 3.70e+03, 3.80e+03, 3.90e+03,\n",
       "       4.00e+03, 4.10e+03, 4.20e+03, 4.30e+03, 4.40e+03, 4.50e+03, 4.60e+03,\n",
       "       4.70e+03, 4.80e+03, 4.90e+03, 5.00e+03, 5.10e+03, 5.20e+03, 5.30e+03,\n",
       "       5.40e+03, 5.50e+03, 5.60e+03, 5.70e+03, 5.80e+03, 5.90e+03, 6.00e+03],\n",
       "      dtype=float32)</pre></div></li></ul></div></li><li class='xr-section-item'><input id='section-1c01ad6e-ba6d-4837-ab3c-51f0973248bf' class='xr-section-summary-in' type='checkbox'  checked><label for='section-1c01ad6e-ba6d-4837-ab3c-51f0973248bf' class='xr-section-summary' >Data variables: <span>(1)</span></label><div class='xr-section-inline-details'></div><div class='xr-section-details'><ul class='xr-var-list'><li class='xr-var-item'><div class='xr-var-name'><span>temp</span></div><div class='xr-var-dims'>(time, lat, lon, depth_std)</div><div class='xr-var-dtype'>float32</div><div class='xr-var-preview xr-preview'>dask.array&lt;chunksize=(1, 50, 168, 119), meta=np.ndarray&gt;</div><input id='attrs-3c262533-fbb5-4908-aee1-eb8021018e3f' class='xr-var-attrs-in' type='checkbox' ><label for='attrs-3c262533-fbb5-4908-aee1-eb8021018e3f' title='Show/Hide attributes'><svg class='icon xr-icon-file-text2'><use xlink:href='#icon-file-text2'></use></svg></label><input id='data-b53c9b3b-e826-4df9-ae66-ac839bcb065b' class='xr-var-data-in' type='checkbox'><label for='data-b53c9b3b-e826-4df9-ae66-ac839bcb065b' title='Show/Hide data repr'><svg class='icon xr-icon-database'><use xlink:href='#icon-database'></use></svg></label><div class='xr-var-attrs'><dl class='xr-attrs'><dt><span>long_name :</span></dt><dd>temperature</dd><dt><span>units :</span></dt><dd>degree Celsius</dd><dt><span>standard_name :</span></dt><dd>Temperature</dd></dl></div><div class='xr-var-data'><table>\n",
       "    <tr>\n",
       "        <td>\n",
       "            <table style=\"border-collapse: collapse;\">\n",
       "                <thead>\n",
       "                    <tr>\n",
       "                        <td> </td>\n",
       "                        <th> Array </th>\n",
       "                        <th> Chunk </th>\n",
       "                    </tr>\n",
       "                </thead>\n",
       "                <tbody>\n",
       "                    \n",
       "                    <tr>\n",
       "                        <th> Bytes </th>\n",
       "                        <td> 3.71 GiB </td>\n",
       "                        <td> 3.81 MiB </td>\n",
       "                    </tr>\n",
       "                    \n",
       "                    <tr>\n",
       "                        <th> Shape </th>\n",
       "                        <td> (996, 50, 168, 119) </td>\n",
       "                        <td> (1, 50, 168, 119) </td>\n",
       "                    </tr>\n",
       "                    <tr>\n",
       "                        <th> Dask graph </th>\n",
       "                        <td colspan=\"2\"> 996 chunks in 2993 graph layers </td>\n",
       "                    </tr>\n",
       "                    <tr>\n",
       "                        <th> Data type </th>\n",
       "                        <td colspan=\"2\"> float32 numpy.ndarray </td>\n",
       "                    </tr>\n",
       "                </tbody>\n",
       "            </table>\n",
       "        </td>\n",
       "        <td>\n",
       "        <svg width=\"489\" height=\"111\" style=\"stroke:rgb(0,0,0);stroke-width:1\" >\n",
       "\n",
       "  <!-- Horizontal lines -->\n",
       "  <line x1=\"0\" y1=\"0\" x2=\"120\" y2=\"0\" style=\"stroke-width:2\" />\n",
       "  <line x1=\"0\" y1=\"25\" x2=\"120\" y2=\"25\" style=\"stroke-width:2\" />\n",
       "\n",
       "  <!-- Vertical lines -->\n",
       "  <line x1=\"0\" y1=\"0\" x2=\"0\" y2=\"25\" style=\"stroke-width:2\" />\n",
       "  <line x1=\"3\" y1=\"0\" x2=\"3\" y2=\"25\" />\n",
       "  <line x1=\"7\" y1=\"0\" x2=\"7\" y2=\"25\" />\n",
       "  <line x1=\"11\" y1=\"0\" x2=\"11\" y2=\"25\" />\n",
       "  <line x1=\"14\" y1=\"0\" x2=\"14\" y2=\"25\" />\n",
       "  <line x1=\"18\" y1=\"0\" x2=\"18\" y2=\"25\" />\n",
       "  <line x1=\"22\" y1=\"0\" x2=\"22\" y2=\"25\" />\n",
       "  <line x1=\"26\" y1=\"0\" x2=\"26\" y2=\"25\" />\n",
       "  <line x1=\"30\" y1=\"0\" x2=\"30\" y2=\"25\" />\n",
       "  <line x1=\"33\" y1=\"0\" x2=\"33\" y2=\"25\" />\n",
       "  <line x1=\"37\" y1=\"0\" x2=\"37\" y2=\"25\" />\n",
       "  <line x1=\"41\" y1=\"0\" x2=\"41\" y2=\"25\" />\n",
       "  <line x1=\"44\" y1=\"0\" x2=\"44\" y2=\"25\" />\n",
       "  <line x1=\"48\" y1=\"0\" x2=\"48\" y2=\"25\" />\n",
       "  <line x1=\"52\" y1=\"0\" x2=\"52\" y2=\"25\" />\n",
       "  <line x1=\"56\" y1=\"0\" x2=\"56\" y2=\"25\" />\n",
       "  <line x1=\"60\" y1=\"0\" x2=\"60\" y2=\"25\" />\n",
       "  <line x1=\"63\" y1=\"0\" x2=\"63\" y2=\"25\" />\n",
       "  <line x1=\"67\" y1=\"0\" x2=\"67\" y2=\"25\" />\n",
       "  <line x1=\"71\" y1=\"0\" x2=\"71\" y2=\"25\" />\n",
       "  <line x1=\"74\" y1=\"0\" x2=\"74\" y2=\"25\" />\n",
       "  <line x1=\"78\" y1=\"0\" x2=\"78\" y2=\"25\" />\n",
       "  <line x1=\"82\" y1=\"0\" x2=\"82\" y2=\"25\" />\n",
       "  <line x1=\"86\" y1=\"0\" x2=\"86\" y2=\"25\" />\n",
       "  <line x1=\"90\" y1=\"0\" x2=\"90\" y2=\"25\" />\n",
       "  <line x1=\"93\" y1=\"0\" x2=\"93\" y2=\"25\" />\n",
       "  <line x1=\"97\" y1=\"0\" x2=\"97\" y2=\"25\" />\n",
       "  <line x1=\"101\" y1=\"0\" x2=\"101\" y2=\"25\" />\n",
       "  <line x1=\"104\" y1=\"0\" x2=\"104\" y2=\"25\" />\n",
       "  <line x1=\"108\" y1=\"0\" x2=\"108\" y2=\"25\" />\n",
       "  <line x1=\"112\" y1=\"0\" x2=\"112\" y2=\"25\" />\n",
       "  <line x1=\"116\" y1=\"0\" x2=\"116\" y2=\"25\" />\n",
       "  <line x1=\"120\" y1=\"0\" x2=\"120\" y2=\"25\" style=\"stroke-width:2\" />\n",
       "\n",
       "  <!-- Colored Rectangle -->\n",
       "  <polygon points=\"0.0,0.0 120.0,0.0 120.0,25.412616514582485 0.0,25.412616514582485\" style=\"fill:#8B4903A0;stroke-width:0\"/>\n",
       "\n",
       "  <!-- Text -->\n",
       "  <text x=\"60.000000\" y=\"45.412617\" font-size=\"1.0rem\" font-weight=\"100\" text-anchor=\"middle\" >996</text>\n",
       "  <text x=\"140.000000\" y=\"12.706308\" font-size=\"1.0rem\" font-weight=\"100\" text-anchor=\"middle\" transform=\"rotate(0,140.000000,12.706308)\">1</text>\n",
       "\n",
       "\n",
       "  <!-- Horizontal lines -->\n",
       "  <line x1=\"190\" y1=\"0\" x2=\"210\" y2=\"20\" style=\"stroke-width:2\" />\n",
       "  <line x1=\"190\" y1=\"41\" x2=\"210\" y2=\"61\" style=\"stroke-width:2\" />\n",
       "\n",
       "  <!-- Vertical lines -->\n",
       "  <line x1=\"190\" y1=\"0\" x2=\"190\" y2=\"41\" style=\"stroke-width:2\" />\n",
       "  <line x1=\"210\" y1=\"20\" x2=\"210\" y2=\"61\" style=\"stroke-width:2\" />\n",
       "\n",
       "  <!-- Colored Rectangle -->\n",
       "  <polygon points=\"190.0,0.0 210.3091506392769,20.309150639276915 210.3091506392769,61.568082749092476 190.0,41.25893210981556\" style=\"fill:#ECB172A0;stroke-width:0\"/>\n",
       "\n",
       "  <!-- Horizontal lines -->\n",
       "  <line x1=\"190\" y1=\"0\" x2=\"229\" y2=\"0\" style=\"stroke-width:2\" />\n",
       "  <line x1=\"210\" y1=\"20\" x2=\"249\" y2=\"20\" style=\"stroke-width:2\" />\n",
       "\n",
       "  <!-- Vertical lines -->\n",
       "  <line x1=\"190\" y1=\"0\" x2=\"210\" y2=\"20\" style=\"stroke-width:2\" />\n",
       "  <line x1=\"229\" y1=\"0\" x2=\"249\" y2=\"20\" style=\"stroke-width:2\" />\n",
       "\n",
       "  <!-- Colored Rectangle -->\n",
       "  <polygon points=\"190.0,0.0 229.55829862955926,0.0 249.86744926883617,20.309150639276915 210.3091506392769,20.309150639276915\" style=\"fill:#ECB172A0;stroke-width:0\"/>\n",
       "\n",
       "  <!-- Horizontal lines -->\n",
       "  <line x1=\"210\" y1=\"20\" x2=\"249\" y2=\"20\" style=\"stroke-width:2\" />\n",
       "  <line x1=\"210\" y1=\"61\" x2=\"249\" y2=\"61\" style=\"stroke-width:2\" />\n",
       "\n",
       "  <!-- Vertical lines -->\n",
       "  <line x1=\"210\" y1=\"20\" x2=\"210\" y2=\"61\" style=\"stroke-width:2\" />\n",
       "  <line x1=\"249\" y1=\"20\" x2=\"249\" y2=\"61\" style=\"stroke-width:2\" />\n",
       "\n",
       "  <!-- Colored Rectangle -->\n",
       "  <polygon points=\"210.3091506392769,20.309150639276915 249.86744926883617,20.309150639276915 249.86744926883617,61.568082749092476 210.3091506392769,61.568082749092476\" style=\"fill:#ECB172A0;stroke-width:0\"/>\n",
       "\n",
       "  <!-- Text -->\n",
       "  <text x=\"230.088300\" y=\"81.568083\" font-size=\"1.0rem\" font-weight=\"100\" text-anchor=\"middle\" >119</text>\n",
       "  <text x=\"269.867449\" y=\"40.938617\" font-size=\"1.0rem\" font-weight=\"100\" text-anchor=\"middle\" transform=\"rotate(-90,269.867449,40.938617)\">168</text>\n",
       "  <text x=\"190.154575\" y=\"71.413507\" font-size=\"1.0rem\" font-weight=\"100\" text-anchor=\"middle\" transform=\"rotate(45,190.154575,71.413507)\">50</text>\n",
       "</svg>\n",
       "        </td>\n",
       "    </tr>\n",
       "</table></div></li></ul></div></li><li class='xr-section-item'><input id='section-73a85226-149d-409d-baa5-2ecc20ca8394' class='xr-section-summary-in' type='checkbox'  ><label for='section-73a85226-149d-409d-baa5-2ecc20ca8394' class='xr-section-summary' >Indexes: <span>(4)</span></label><div class='xr-section-inline-details'></div><div class='xr-section-details'><ul class='xr-var-list'><li class='xr-var-item'><div class='xr-index-name'><div>lat</div></div><div class='xr-index-preview'>PandasIndex</div><div></div><input id='index-d2069e98-83dd-4a1f-9211-398b5e9ce708' class='xr-index-data-in' type='checkbox'/><label for='index-d2069e98-83dd-4a1f-9211-398b5e9ce708' title='Show/Hide index repr'><svg class='icon xr-icon-database'><use xlink:href='#icon-database'></use></svg></label><div class='xr-index-data'><pre>PandasIndex(Index([-24.5, -23.5, -22.5, -21.5, -20.5, -19.5, -18.5, -17.5, -16.5, -15.5,\n",
       "       -14.5, -13.5, -12.5, -11.5, -10.5,  -9.5,  -8.5,  -7.5,  -6.5,  -5.5,\n",
       "        -4.5,  -3.5,  -2.5,  -1.5,  -0.5,   0.5,   1.5,   2.5,   3.5,   4.5,\n",
       "         5.5,   6.5,   7.5,   8.5,   9.5,  10.5,  11.5,  12.5,  13.5,  14.5,\n",
       "        15.5,  16.5,  17.5,  18.5,  19.5,  20.5,  21.5,  22.5,  23.5,  24.5],\n",
       "      dtype=&#x27;float32&#x27;, name=&#x27;lat&#x27;))</pre></div></li><li class='xr-var-item'><div class='xr-index-name'><div>lon</div></div><div class='xr-index-preview'>PandasIndex</div><div></div><input id='index-bcc26b14-67af-412c-bee3-20379d68b3ee' class='xr-index-data-in' type='checkbox'/><label for='index-bcc26b14-67af-412c-bee3-20379d68b3ee' title='Show/Hide index repr'><svg class='icon xr-icon-database'><use xlink:href='#icon-database'></use></svg></label><div class='xr-index-data'><pre>PandasIndex(Index([120.5, 121.5, 122.5, 123.5, 124.5, 125.5, 126.5, 127.5, 128.5, 129.5,\n",
       "       ...\n",
       "       278.5, 279.5, 280.5, 281.5, 282.5, 283.5, 284.5, 285.5, 286.5, 287.5],\n",
       "      dtype=&#x27;float32&#x27;, name=&#x27;lon&#x27;, length=168))</pre></div></li><li class='xr-var-item'><div class='xr-index-name'><div>time</div></div><div class='xr-index-preview'>PandasIndex</div><div></div><input id='index-b435b4d3-bdf4-42b7-a1d8-87d2cd3dddfc' class='xr-index-data-in' type='checkbox'/><label for='index-b435b4d3-bdf4-42b7-a1d8-87d2cd3dddfc' title='Show/Hide index repr'><svg class='icon xr-icon-database'><use xlink:href='#icon-database'></use></svg></label><div class='xr-index-data'><pre>PandasIndex(DatetimeIndex([&#x27;1940-01-01&#x27;, &#x27;1940-02-01&#x27;, &#x27;1940-03-01&#x27;, &#x27;1940-04-01&#x27;,\n",
       "               &#x27;1940-05-01&#x27;, &#x27;1940-06-01&#x27;, &#x27;1940-07-01&#x27;, &#x27;1940-08-01&#x27;,\n",
       "               &#x27;1940-09-01&#x27;, &#x27;1940-10-01&#x27;,\n",
       "               ...\n",
       "               &#x27;2022-03-01&#x27;, &#x27;2022-04-01&#x27;, &#x27;2022-05-01&#x27;, &#x27;2022-06-01&#x27;,\n",
       "               &#x27;2022-07-01&#x27;, &#x27;2022-08-01&#x27;, &#x27;2022-09-01&#x27;, &#x27;2022-10-01&#x27;,\n",
       "               &#x27;2022-11-01&#x27;, &#x27;2022-12-01&#x27;],\n",
       "              dtype=&#x27;datetime64[ns]&#x27;, name=&#x27;time&#x27;, length=996, freq=None))</pre></div></li><li class='xr-var-item'><div class='xr-index-name'><div>depth_std</div></div><div class='xr-index-preview'>PandasIndex</div><div></div><input id='index-8542b878-5627-44a6-a5c9-734249576d26' class='xr-index-data-in' type='checkbox'/><label for='index-8542b878-5627-44a6-a5c9-734249576d26' title='Show/Hide index repr'><svg class='icon xr-icon-database'><use xlink:href='#icon-database'></use></svg></label><div class='xr-index-data'><pre>PandasIndex(Index([   1.0,    5.0,   10.0,   15.0,   20.0,   25.0,   30.0,   35.0,   40.0,\n",
       "         45.0,\n",
       "       ...\n",
       "       5100.0, 5200.0, 5300.0, 5400.0, 5500.0, 5600.0, 5700.0, 5800.0, 5900.0,\n",
       "       6000.0],\n",
       "      dtype=&#x27;float32&#x27;, name=&#x27;depth_std&#x27;, length=119))</pre></div></li></ul></div></li><li class='xr-section-item'><input id='section-af56910a-8374-471f-a82c-6a15adabee99' class='xr-section-summary-in' type='checkbox'  ><label for='section-af56910a-8374-471f-a82c-6a15adabee99' class='xr-section-summary' >Attributes: <span>(12)</span></label><div class='xr-section-inline-details'></div><div class='xr-section-details'><dl class='xr-attrs'><dt><span>Title :</span></dt><dd>IAP 3-Dimentional Subsurface Temperature Dataset Using Objective Analysis</dd><dt><span>StartYear :</span></dt><dd>1940</dd><dt><span>StartMonth :</span></dt><dd>1</dd><dt><span>StartDay :</span></dt><dd>1</dd><dt><span>EndYear :</span></dt><dd>1940</dd><dt><span>EndMonth :</span></dt><dd>1</dd><dt><span>EndDay :</span></dt><dd>30</dd><dt><span>Period :</span></dt><dd>1</dd><dt><span>GridProjection :</span></dt><dd>Mercator, gridded</dd><dt><span>GridPoints :</span></dt><dd>360x180</dd><dt><span>Creator :</span></dt><dd>Lijing Cheng From IAP,CAS,P.R.China</dd><dt><span>Reference :</span></dt><dd>Cheng and Zhu 2016. Journal of Climate; Cheng et al. 2017. Science Advances. Website for OHC: http://www.ocean.iap.ac.cn/</dd></dl></div></li></ul></div></div>"
      ],
      "text/plain": [
       "<xarray.Dataset>\n",
       "Dimensions:    (time: 996, lat: 50, lon: 168, depth_std: 119)\n",
       "Coordinates:\n",
       "  * lat        (lat) float32 -24.5 -23.5 -22.5 -21.5 ... 21.5 22.5 23.5 24.5\n",
       "  * lon        (lon) float32 120.5 121.5 122.5 123.5 ... 284.5 285.5 286.5 287.5\n",
       "  * time       (time) datetime64[ns] 1940-01-01 1940-02-01 ... 2022-12-01\n",
       "  * depth_std  (depth_std) float32 1.0 5.0 10.0 15.0 ... 5.8e+03 5.9e+03 6e+03\n",
       "Data variables:\n",
       "    temp       (time, lat, lon, depth_std) float32 dask.array<chunksize=(1, 50, 168, 119), meta=np.ndarray>\n",
       "Attributes:\n",
       "    Title:           IAP 3-Dimentional Subsurface Temperature Dataset Using O...\n",
       "    StartYear:       1940\n",
       "    StartMonth:      1\n",
       "    StartDay:        1\n",
       "    EndYear:         1940\n",
       "    EndMonth:        1\n",
       "    EndDay:          30\n",
       "    Period:          1\n",
       "    GridProjection:  Mercator, gridded\n",
       "    GridPoints:      360x180\n",
       "    Creator:         Lijing Cheng From IAP,CAS,P.R.China\n",
       "    Reference:       Cheng and Zhu 2016. Journal of Climate; Cheng et al. 201..."
      ]
     },
     "execution_count": 28,
     "metadata": {},
     "output_type": "execute_result"
    }
   ],
   "source": [
    "RC=xar.open_mfdataset('RC_Pac_TPOT_moredepths.nc')\n",
    "\n",
    "\n",
    "import glob as glob \n",
    "\n",
    "\n",
    "IAP = xar.open_mfdataset(glob.glob(\"IAP/*/*Temp*.nc\"))\n",
    "\n",
    "res=1\n",
    "\n",
    "latmin,latmax,lonmin,lonmax=np.floor(RC['latitude'].min()).values-res,np.ceil(RC['latitude'].max()).values+res,np.floor(RC['longitude'].min()).values-res,np.ceil(RC['longitude'].max()).values+res\n",
    "\n",
    "\n",
    "# bins=[x for x in np.linspace(latmin-res*(latmax-latmin)%res,latmax,int((-latmin+(latmax+res*(latmax-latmin)%res)))//res+1)]\n",
    "\n",
    "IAPtest=IAP.where((IAP['lat']>=latmin)&(IAP['lat']<=latmax)&(IAP['lon']>=lonmin)&(IAP['lon']<=lonmax),drop=True)\n",
    "# CORAtest=CORAtest.assign_coords({'x':CORAtest['longitude'].isel(y=0),'y':CORAtest['latitude'].isel(x=0)}).rename({'x':'lon','y':'lat'})\n",
    "\n",
    "IAPtest = IAPtest.assign({'time':(['time'],np.arange(np.datetime64('1940-01'),np.datetime64('2023-01'),np.timedelta64('1','M')))})\n",
    "\n",
    "IAPtest=IAPtest.sel({'depth_std':slice(0,2010)}).interp({'lat':np.arange(RC['latitude'].values[0],RC['latitude'].values[-1]+1,1),'lon':np.arange(RC['longitude'].values[0],RC['longitude'].values[-1]+1,1)}).compute()\n",
    "\n",
    "# IAPtest.interp({'lat':np.arange(RC['latitude'].values[0],RC['latitude'].values[-1]+1,1),'lon':np.arange(RC['longitude'].values[0],RC['longitude'].values[-1]+1,1)}).compute()\n",
    "\n",
    "\n",
    "IAPclim = IAPtest['temp'].groupby(\"time.month\").mean().rename({'Climato'})\n",
    "\n",
    "IAPtest = xar.Dataset({'Psal':IAPtest['temp'].groupby('time.month')-IAPclim,'Climato':IAPclim}).assign({'time2':((IAPtest['time'].data.astype('datetime64[D]')-np.datetime64('1950-01-01')).astype('timedelta64[D]').astype('float64'))})\n",
    "\n",
    "JULTIME=((IAPtest['time'].data.astype('datetime64[D]')-np.datetime64('1950-01-01')).astype('timedelta64[D]').astype('float64'))\n",
    "IAPtest.coords['time2']=IAPtest.coords['time']\n",
    "\n",
    "\n",
    "IAPtest.to_netcdf('IAP_Temperature_1degree_Pac.nc','w')"
   ]
  },
  {
   "cell_type": "code",
   "execution_count": 49,
   "id": "39b15e35-c37f-44c3-9a48-7560f78f22a2",
   "metadata": {},
   "outputs": [
    {
     "name": "stderr",
     "output_type": "stream",
     "text": [
      "/tmp/ipykernel_1813272/3221523542.py:19: UserWarning: Converting non-nanosecond precision datetime values to nanosecond precision. This behavior can eventually be relaxed in xarray, as it is an artifact from pandas which is now beginning to support non-nanosecond precision values. This warning is caused by passing non-nanosecond np.datetime64 or np.timedelta64 values to the DataArray or Variable constructor; it can be silenced by converting the values to nanosecond precision ahead of time.\n",
      "  IAPtest = IAPtest.assign({'time':(['time'],np.arange(np.datetime64('1940-01'),np.datetime64('2022-01'),np.timedelta64('1','M')))})\n",
      "/tmp/ipykernel_1813272/3221523542.py:19: UserWarning: Converting non-nanosecond precision datetime values to nanosecond precision. This behavior can eventually be relaxed in xarray, as it is an artifact from pandas which is now beginning to support non-nanosecond precision values. This warning is caused by passing non-nanosecond np.datetime64 or np.timedelta64 values to the DataArray or Variable constructor; it can be silenced by converting the values to nanosecond precision ahead of time.\n",
      "  IAPtest = IAPtest.assign({'time':(['time'],np.arange(np.datetime64('1940-01'),np.datetime64('2022-01'),np.timedelta64('1','M')))})\n"
     ]
    },
    {
     "ename": "KeyError",
     "evalue": "'psal'",
     "output_type": "error",
     "traceback": [
      "\u001b[0;31m---------------------------------------------------------------------------\u001b[0m",
      "\u001b[0;31mKeyError\u001b[0m                                  Traceback (most recent call last)",
      "File \u001b[0;32m/opt/linux/envs/envs/phyocean-2023.05/lib/python3.10/site-packages/xarray/core/dataset.py:1382\u001b[0m, in \u001b[0;36mDataset._construct_dataarray\u001b[0;34m(self, name)\u001b[0m\n\u001b[1;32m   1381\u001b[0m \u001b[38;5;28;01mtry\u001b[39;00m:\n\u001b[0;32m-> 1382\u001b[0m     variable \u001b[38;5;241m=\u001b[39m \u001b[38;5;28;43mself\u001b[39;49m\u001b[38;5;241;43m.\u001b[39;49m\u001b[43m_variables\u001b[49m\u001b[43m[\u001b[49m\u001b[43mname\u001b[49m\u001b[43m]\u001b[49m\n\u001b[1;32m   1383\u001b[0m \u001b[38;5;28;01mexcept\u001b[39;00m \u001b[38;5;167;01mKeyError\u001b[39;00m:\n",
      "\u001b[0;31mKeyError\u001b[0m: 'psal'",
      "\nDuring handling of the above exception, another exception occurred:\n",
      "\u001b[0;31mKeyError\u001b[0m                                  Traceback (most recent call last)",
      "Cell \u001b[0;32mIn[49], line 26\u001b[0m\n\u001b[1;32m     21\u001b[0m IAPtest\u001b[38;5;241m=\u001b[39mIAPtest\u001b[38;5;241m.\u001b[39msel({\u001b[38;5;124m'\u001b[39m\u001b[38;5;124mdepth_std\u001b[39m\u001b[38;5;124m'\u001b[39m:\u001b[38;5;28mslice\u001b[39m(\u001b[38;5;241m0\u001b[39m,\u001b[38;5;241m2010\u001b[39m)})\u001b[38;5;241m.\u001b[39minterp({\u001b[38;5;124m'\u001b[39m\u001b[38;5;124mlat\u001b[39m\u001b[38;5;124m'\u001b[39m:np\u001b[38;5;241m.\u001b[39marange(RC[\u001b[38;5;124m'\u001b[39m\u001b[38;5;124mlatitude\u001b[39m\u001b[38;5;124m'\u001b[39m]\u001b[38;5;241m.\u001b[39mvalues[\u001b[38;5;241m0\u001b[39m],RC[\u001b[38;5;124m'\u001b[39m\u001b[38;5;124mlatitude\u001b[39m\u001b[38;5;124m'\u001b[39m]\u001b[38;5;241m.\u001b[39mvalues[\u001b[38;5;241m-\u001b[39m\u001b[38;5;241m1\u001b[39m]\u001b[38;5;241m+\u001b[39m\u001b[38;5;241m1\u001b[39m,\u001b[38;5;241m1\u001b[39m),\u001b[38;5;124m'\u001b[39m\u001b[38;5;124mlon\u001b[39m\u001b[38;5;124m'\u001b[39m:np\u001b[38;5;241m.\u001b[39marange(RC[\u001b[38;5;124m'\u001b[39m\u001b[38;5;124mlongitude\u001b[39m\u001b[38;5;124m'\u001b[39m]\u001b[38;5;241m.\u001b[39mvalues[\u001b[38;5;241m0\u001b[39m],RC[\u001b[38;5;124m'\u001b[39m\u001b[38;5;124mlongitude\u001b[39m\u001b[38;5;124m'\u001b[39m]\u001b[38;5;241m.\u001b[39mvalues[\u001b[38;5;241m-\u001b[39m\u001b[38;5;241m1\u001b[39m]\u001b[38;5;241m+\u001b[39m\u001b[38;5;241m1\u001b[39m,\u001b[38;5;241m1\u001b[39m)})\u001b[38;5;241m.\u001b[39mcompute()\n\u001b[1;32m     23\u001b[0m \u001b[38;5;66;03m# IAPtest.interp({'lat':np.arange(RC['latitude'].values[0],RC['latitude'].values[-1]+1,1),'lon':np.arange(RC['longitude'].values[0],RC['longitude'].values[-1]+1,1)}).compute()\u001b[39;00m\n\u001b[0;32m---> 26\u001b[0m IAPclim \u001b[38;5;241m=\u001b[39m \u001b[43mIAPtest\u001b[49m\u001b[43m[\u001b[49m\u001b[38;5;124;43m'\u001b[39;49m\u001b[38;5;124;43mpsal\u001b[39;49m\u001b[38;5;124;43m'\u001b[39;49m\u001b[43m]\u001b[49m\u001b[38;5;241m.\u001b[39mgroupby(\u001b[38;5;124m\"\u001b[39m\u001b[38;5;124mtime.month\u001b[39m\u001b[38;5;124m\"\u001b[39m)\u001b[38;5;241m.\u001b[39mmean()\u001b[38;5;241m.\u001b[39mrename({\u001b[38;5;124m'\u001b[39m\u001b[38;5;124mSClimato\u001b[39m\u001b[38;5;124m'\u001b[39m})\n\u001b[1;32m     28\u001b[0m IAPtest \u001b[38;5;241m=\u001b[39m xar\u001b[38;5;241m.\u001b[39mDataset({\u001b[38;5;124m'\u001b[39m\u001b[38;5;124mPsal\u001b[39m\u001b[38;5;124m'\u001b[39m:IAPtest[\u001b[38;5;124m'\u001b[39m\u001b[38;5;124mpsal\u001b[39m\u001b[38;5;124m'\u001b[39m]\u001b[38;5;241m.\u001b[39mgroupby(\u001b[38;5;124m'\u001b[39m\u001b[38;5;124mtime.month\u001b[39m\u001b[38;5;124m'\u001b[39m)\u001b[38;5;241m-\u001b[39mIAPclim,\u001b[38;5;124m'\u001b[39m\u001b[38;5;124mSClimato\u001b[39m\u001b[38;5;124m'\u001b[39m:IAPclim})\u001b[38;5;241m.\u001b[39massign({\u001b[38;5;124m'\u001b[39m\u001b[38;5;124mtime2\u001b[39m\u001b[38;5;124m'\u001b[39m:((IAPtest[\u001b[38;5;124m'\u001b[39m\u001b[38;5;124mtime\u001b[39m\u001b[38;5;124m'\u001b[39m]\u001b[38;5;241m.\u001b[39mdata\u001b[38;5;241m.\u001b[39mastype(\u001b[38;5;124m'\u001b[39m\u001b[38;5;124mdatetime64[D]\u001b[39m\u001b[38;5;124m'\u001b[39m)\u001b[38;5;241m-\u001b[39mnp\u001b[38;5;241m.\u001b[39mdatetime64(\u001b[38;5;124m'\u001b[39m\u001b[38;5;124m1950-01-01\u001b[39m\u001b[38;5;124m'\u001b[39m))\u001b[38;5;241m.\u001b[39mastype(\u001b[38;5;124m'\u001b[39m\u001b[38;5;124mtimedelta64[D]\u001b[39m\u001b[38;5;124m'\u001b[39m)\u001b[38;5;241m.\u001b[39mastype(\u001b[38;5;124m'\u001b[39m\u001b[38;5;124mfloat64\u001b[39m\u001b[38;5;124m'\u001b[39m))})\n\u001b[1;32m     30\u001b[0m JULTIME\u001b[38;5;241m=\u001b[39m((IAPtest[\u001b[38;5;124m'\u001b[39m\u001b[38;5;124mtime\u001b[39m\u001b[38;5;124m'\u001b[39m]\u001b[38;5;241m.\u001b[39mdata\u001b[38;5;241m.\u001b[39mastype(\u001b[38;5;124m'\u001b[39m\u001b[38;5;124mdatetime64[D]\u001b[39m\u001b[38;5;124m'\u001b[39m)\u001b[38;5;241m-\u001b[39mnp\u001b[38;5;241m.\u001b[39mdatetime64(\u001b[38;5;124m'\u001b[39m\u001b[38;5;124m1950-01-01\u001b[39m\u001b[38;5;124m'\u001b[39m))\u001b[38;5;241m.\u001b[39mastype(\u001b[38;5;124m'\u001b[39m\u001b[38;5;124mtimedelta64[D]\u001b[39m\u001b[38;5;124m'\u001b[39m)\u001b[38;5;241m.\u001b[39mastype(\u001b[38;5;124m'\u001b[39m\u001b[38;5;124mfloat64\u001b[39m\u001b[38;5;124m'\u001b[39m))\n",
      "File \u001b[0;32m/opt/linux/envs/envs/phyocean-2023.05/lib/python3.10/site-packages/xarray/core/dataset.py:1473\u001b[0m, in \u001b[0;36mDataset.__getitem__\u001b[0;34m(self, key)\u001b[0m\n\u001b[1;32m   1471\u001b[0m     \u001b[38;5;28;01mreturn\u001b[39;00m \u001b[38;5;28mself\u001b[39m\u001b[38;5;241m.\u001b[39misel(\u001b[38;5;241m*\u001b[39m\u001b[38;5;241m*\u001b[39mkey)\n\u001b[1;32m   1472\u001b[0m \u001b[38;5;28;01mif\u001b[39;00m utils\u001b[38;5;241m.\u001b[39mhashable(key):\n\u001b[0;32m-> 1473\u001b[0m     \u001b[38;5;28;01mreturn\u001b[39;00m \u001b[38;5;28;43mself\u001b[39;49m\u001b[38;5;241;43m.\u001b[39;49m\u001b[43m_construct_dataarray\u001b[49m\u001b[43m(\u001b[49m\u001b[43mkey\u001b[49m\u001b[43m)\u001b[49m\n\u001b[1;32m   1474\u001b[0m \u001b[38;5;28;01mif\u001b[39;00m utils\u001b[38;5;241m.\u001b[39miterable_of_hashable(key):\n\u001b[1;32m   1475\u001b[0m     \u001b[38;5;28;01mreturn\u001b[39;00m \u001b[38;5;28mself\u001b[39m\u001b[38;5;241m.\u001b[39m_copy_listed(key)\n",
      "File \u001b[0;32m/opt/linux/envs/envs/phyocean-2023.05/lib/python3.10/site-packages/xarray/core/dataset.py:1384\u001b[0m, in \u001b[0;36mDataset._construct_dataarray\u001b[0;34m(self, name)\u001b[0m\n\u001b[1;32m   1382\u001b[0m     variable \u001b[38;5;241m=\u001b[39m \u001b[38;5;28mself\u001b[39m\u001b[38;5;241m.\u001b[39m_variables[name]\n\u001b[1;32m   1383\u001b[0m \u001b[38;5;28;01mexcept\u001b[39;00m \u001b[38;5;167;01mKeyError\u001b[39;00m:\n\u001b[0;32m-> 1384\u001b[0m     _, name, variable \u001b[38;5;241m=\u001b[39m \u001b[43m_get_virtual_variable\u001b[49m\u001b[43m(\u001b[49m\u001b[38;5;28;43mself\u001b[39;49m\u001b[38;5;241;43m.\u001b[39;49m\u001b[43m_variables\u001b[49m\u001b[43m,\u001b[49m\u001b[43m \u001b[49m\u001b[43mname\u001b[49m\u001b[43m,\u001b[49m\u001b[43m \u001b[49m\u001b[38;5;28;43mself\u001b[39;49m\u001b[38;5;241;43m.\u001b[39;49m\u001b[43mdims\u001b[49m\u001b[43m)\u001b[49m\n\u001b[1;32m   1386\u001b[0m needed_dims \u001b[38;5;241m=\u001b[39m \u001b[38;5;28mset\u001b[39m(variable\u001b[38;5;241m.\u001b[39mdims)\n\u001b[1;32m   1388\u001b[0m coords: \u001b[38;5;28mdict\u001b[39m[Hashable, Variable] \u001b[38;5;241m=\u001b[39m {}\n",
      "File \u001b[0;32m/opt/linux/envs/envs/phyocean-2023.05/lib/python3.10/site-packages/xarray/core/dataset.py:196\u001b[0m, in \u001b[0;36m_get_virtual_variable\u001b[0;34m(variables, key, dim_sizes)\u001b[0m\n\u001b[1;32m    194\u001b[0m split_key \u001b[38;5;241m=\u001b[39m key\u001b[38;5;241m.\u001b[39msplit(\u001b[38;5;124m\"\u001b[39m\u001b[38;5;124m.\u001b[39m\u001b[38;5;124m\"\u001b[39m, \u001b[38;5;241m1\u001b[39m)\n\u001b[1;32m    195\u001b[0m \u001b[38;5;28;01mif\u001b[39;00m \u001b[38;5;28mlen\u001b[39m(split_key) \u001b[38;5;241m!=\u001b[39m \u001b[38;5;241m2\u001b[39m:\n\u001b[0;32m--> 196\u001b[0m     \u001b[38;5;28;01mraise\u001b[39;00m \u001b[38;5;167;01mKeyError\u001b[39;00m(key)\n\u001b[1;32m    198\u001b[0m ref_name, var_name \u001b[38;5;241m=\u001b[39m split_key\n\u001b[1;32m    199\u001b[0m ref_var \u001b[38;5;241m=\u001b[39m variables[ref_name]\n",
      "\u001b[0;31mKeyError\u001b[0m: 'psal'"
     ]
    }
   ],
   "source": [
    "RC=xar.open_mfdataset('RC_Pac_TPOT_moredepths.nc')\n",
    "\n",
    "\n",
    "import glob as glob \n",
    "\n",
    "\n",
    "IAP = xar.open_mfdataset(glob.glob(\"IAP/*/*salinit*.nc\"))\n",
    "\n",
    "res=1\n",
    "\n",
    "latmin,latmax,lonmin,lonmax=np.floor(RC['latitude'].min()).values-res,np.ceil(RC['latitude'].max()).values+res,np.floor(RC['longitude'].min()).values-res,np.ceil(RC['longitude'].max()).values+res\n",
    "\n",
    "\n",
    "# bins=[x for x in np.linspace(latmin-res*(latmax-latmin)%res,latmax,int((-latmin+(latmax+res*(latmax-latmin)%res)))//res+1)]\n",
    "\n",
    "IAPtest=IAP.where((IAP['lat']>=latmin)&(IAP['lat']<=latmax)&(IAP['lon']>=lonmin)&(IAP['lon']<=lonmax),drop=True)\n",
    "# CORAtest=CORAtest.assign_coords({'x':CORAtest['longitude'].isel(y=0),'y':CORAtest['latitude'].isel(x=0)}).rename({'x':'lon','y':'lat'})\n",
    "\n",
    "IAPtest = IAPtest.assign({'time':(['time'],np.arange(np.datetime64('1940-01'),np.datetime64('2022-01'),np.timedelta64('1','M')))})\n",
    "\n",
    "IAPtest=IAPtest.sel({'depth_std':slice(0,2010)}).interp({'lat':np.arange(RC['latitude'].values[0],RC['latitude'].values[-1]+1,1),'lon':np.arange(RC['longitude'].values[0],RC['longitude'].values[-1]+1,1)}).compute()\n",
    "\n",
    "# IAPtest.interp({'lat':np.arange(RC['latitude'].values[0],RC['latitude'].values[-1]+1,1),'lon':np.arange(RC['longitude'].values[0],RC['longitude'].values[-1]+1,1)}).compute()\n",
    "\n",
    "\n",
    "IAPclim = IAPtest['salinity'].groupby(\"time.month\").mean().rename({'SClimato'})\n",
    "\n",
    "IAPtest = xar.Dataset({'Psal':IAPtest['salinity'].groupby('time.month')-IAPclim,'SClimato':IAPclim}).assign({'time2':((IAPtest['time'].data.astype('datetime64[D]')-np.datetime64('1950-01-01')).astype('timedelta64[D]').astype('float64'))})\n",
    "\n",
    "JULTIME=((IAPtest['time'].data.astype('datetime64[D]')-np.datetime64('1950-01-01')).astype('timedelta64[D]').astype('float64'))\n",
    "IAPtest.coords['time2']=IAPtest.coords['time']\n",
    "\n",
    "\n",
    "IAPtest.to_netcdf('IAP_Salinity_1degree_Pac.nc','w')"
   ]
  },
  {
   "cell_type": "code",
   "execution_count": null,
   "id": "0ef27367-672f-44f4-b476-6dc2fb7fd3ea",
   "metadata": {},
   "outputs": [],
   "source": []
  }
 ],
 "metadata": {
  "kernelspec": {
   "display_name": "phyocean-2023.05",
   "language": "python",
   "name": "phyocean-2023.05"
  },
  "language_info": {
   "codemirror_mode": {
    "name": "ipython",
    "version": 3
   },
   "file_extension": ".py",
   "mimetype": "text/x-python",
   "name": "python",
   "nbconvert_exporter": "python",
   "pygments_lexer": "ipython3",
   "version": "3.10.11"
  }
 },
 "nbformat": 4,
 "nbformat_minor": 5
}
